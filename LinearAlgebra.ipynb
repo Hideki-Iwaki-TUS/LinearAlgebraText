{
  "cells": [
    {
      "cell_type": "markdown",
      "id": "70e3d9ef",
      "metadata": {
        "id": "70e3d9ef"
      },
      "source": [
        "# 第１章 ベクトル\n",
        "\n"
      ]
    },
    {
      "cell_type": "markdown",
      "source": [
        "演習1.1"
      ],
      "metadata": {
        "id": "u6uscpTd6WM0"
      },
      "id": "u6uscpTd6WM0"
    },
    {
      "cell_type": "code",
      "source": [
        "from sympy import *\n",
        "Matrix([[26950,17701,4430,4231]])"
      ],
      "metadata": {
        "colab": {
          "base_uri": "https://localhost:8080/",
          "height": 38
        },
        "id": "oZJI3G8Z6U-1",
        "outputId": "d6d80645-0007-41d5-94ed-ffbd3d00e244"
      },
      "id": "oZJI3G8Z6U-1",
      "execution_count": null,
      "outputs": [
        {
          "output_type": "execute_result",
          "data": {
            "text/plain": [
              "Matrix([[26950, 17701, 4430, 4231]])"
            ],
            "text/latex": "$\\displaystyle \\left[\\begin{matrix}26950 & 17701 & 4430 & 4231\\end{matrix}\\right]$"
          },
          "metadata": {},
          "execution_count": 3
        }
      ]
    },
    {
      "cell_type": "code",
      "source": [
        "Matrix([26950,17701,4430,4231])"
      ],
      "metadata": {
        "colab": {
          "base_uri": "https://localhost:8080/",
          "height": 98
        },
        "id": "nTDA7QQ_6xUs",
        "outputId": "5b2612a5-42f4-47be-aa0f-e119eda22f79"
      },
      "id": "nTDA7QQ_6xUs",
      "execution_count": null,
      "outputs": [
        {
          "output_type": "execute_result",
          "data": {
            "text/plain": [
              "Matrix([\n",
              "[26950],\n",
              "[17701],\n",
              "[ 4430],\n",
              "[ 4231]])"
            ],
            "text/latex": "$\\displaystyle \\left[\\begin{matrix}26950\\\\17701\\\\4430\\\\4231\\end{matrix}\\right]$"
          },
          "metadata": {},
          "execution_count": 5
        }
      ]
    },
    {
      "cell_type": "markdown",
      "source": [
        "演習1.2"
      ],
      "metadata": {
        "id": "STixaU1lDAah"
      },
      "id": "STixaU1lDAah"
    },
    {
      "cell_type": "code",
      "source": [
        "from sympy import *\n",
        "a=Matrix([[26950,17701,4430,4231]])\n",
        "a"
      ],
      "metadata": {
        "colab": {
          "base_uri": "https://localhost:8080/",
          "height": 38
        },
        "id": "_WYWuahy6t_Y",
        "outputId": "d3f166ae-0b88-4943-c360-fad2cd7e26f9"
      },
      "id": "_WYWuahy6t_Y",
      "execution_count": null,
      "outputs": [
        {
          "output_type": "execute_result",
          "data": {
            "text/plain": [
              "Matrix([[26950, 17701, 4430, 4231]])"
            ],
            "text/latex": "$\\displaystyle \\left[\\begin{matrix}26950 & 17701 & 4430 & 4231\\end{matrix}\\right]$"
          },
          "metadata": {},
          "execution_count": 6
        }
      ]
    },
    {
      "cell_type": "code",
      "source": [
        "b=Matrix([[26950,17701,4430,4231]])\n",
        "b"
      ],
      "metadata": {
        "colab": {
          "base_uri": "https://localhost:8080/",
          "height": 38
        },
        "id": "Hi2pErYf6ghq",
        "outputId": "3233c25c-915b-415a-c747-0c8132a8eac3"
      },
      "id": "Hi2pErYf6ghq",
      "execution_count": null,
      "outputs": [
        {
          "output_type": "execute_result",
          "data": {
            "text/plain": [
              "Matrix([[26950, 17701, 4430, 4231]])"
            ],
            "text/latex": "$\\displaystyle \\left[\\begin{matrix}26950 & 17701 & 4430 & 4231\\end{matrix}\\right]$"
          },
          "metadata": {},
          "execution_count": 7
        }
      ]
    },
    {
      "cell_type": "markdown",
      "source": [
        "演習1.3"
      ],
      "metadata": {
        "id": "pNcbUwWBED8U"
      },
      "id": "pNcbUwWBED8U"
    },
    {
      "cell_type": "code",
      "source": [
        "from sympy import *\n",
        "a=Matrix([[26950,17701,4430,4231]])\n",
        "a.T"
      ],
      "metadata": {
        "id": "fAERCpH-EJ8z",
        "outputId": "b1b7c30a-a279-40b6-b71c-1aaf60e99bb8",
        "colab": {
          "base_uri": "https://localhost:8080/",
          "height": 98
        }
      },
      "id": "fAERCpH-EJ8z",
      "execution_count": null,
      "outputs": [
        {
          "output_type": "execute_result",
          "data": {
            "text/plain": [
              "Matrix([\n",
              "[26950],\n",
              "[17701],\n",
              "[ 4430],\n",
              "[ 4231]])"
            ],
            "text/latex": "$\\displaystyle \\left[\\begin{matrix}26950\\\\17701\\\\4430\\\\4231\\end{matrix}\\right]$"
          },
          "metadata": {},
          "execution_count": 8
        }
      ]
    },
    {
      "cell_type": "code",
      "source": [
        "b=Matrix([26950,17701,4430,4231])\n",
        "b.T"
      ],
      "metadata": {
        "id": "cXGmGfFdEQXz",
        "outputId": "37d9c5d9-37db-4031-d9c3-58d69cc68aa9",
        "colab": {
          "base_uri": "https://localhost:8080/",
          "height": 38
        }
      },
      "id": "cXGmGfFdEQXz",
      "execution_count": null,
      "outputs": [
        {
          "output_type": "execute_result",
          "data": {
            "text/plain": [
              "Matrix([[26950, 17701, 4430, 4231]])"
            ],
            "text/latex": "$\\displaystyle \\left[\\begin{matrix}26950 & 17701 & 4430 & 4231\\end{matrix}\\right]$"
          },
          "metadata": {},
          "execution_count": 10
        }
      ]
    },
    {
      "cell_type": "markdown",
      "source": [
        "演習1.4"
      ],
      "metadata": {
        "id": "Ze7mu97HFHts"
      },
      "id": "Ze7mu97HFHts"
    },
    {
      "cell_type": "code",
      "source": [
        "from sympy import *\n",
        "a=Matrix([1,2]).T #.Tメソドを付けて行ベクトルにしている．\n",
        "print('a=') # 文字列a=を打ち出す.\n",
        "a"
      ],
      "metadata": {
        "id": "2z12VPT-FGi-",
        "outputId": "4db5b846-a9a6-4970-c619-9f28edf1be3b",
        "colab": {
          "base_uri": "https://localhost:8080/",
          "height": 56
        }
      },
      "id": "2z12VPT-FGi-",
      "execution_count": null,
      "outputs": [
        {
          "output_type": "stream",
          "name": "stdout",
          "text": [
            "a=\n"
          ]
        },
        {
          "output_type": "execute_result",
          "data": {
            "text/plain": [
              "Matrix([[1, 2]])"
            ],
            "text/latex": "$\\displaystyle \\left[\\begin{matrix}1 & 2\\end{matrix}\\right]$"
          },
          "metadata": {},
          "execution_count": 11
        }
      ]
    },
    {
      "cell_type": "code",
      "source": [
        "b=Matrix([3,4]).T\n",
        "print('b=')\n",
        "b"
      ],
      "metadata": {
        "id": "qU4Phg2rFS1O",
        "outputId": "fc82a030-b899-4aec-906e-ef388f7a5a3a",
        "colab": {
          "base_uri": "https://localhost:8080/",
          "height": 56
        }
      },
      "id": "qU4Phg2rFS1O",
      "execution_count": null,
      "outputs": [
        {
          "output_type": "stream",
          "name": "stdout",
          "text": [
            "b=\n"
          ]
        },
        {
          "output_type": "execute_result",
          "data": {
            "text/plain": [
              "Matrix([[3, 4]])"
            ],
            "text/latex": "$\\displaystyle \\left[\\begin{matrix}3 & 4\\end{matrix}\\right]$"
          },
          "metadata": {},
          "execution_count": 13
        }
      ]
    },
    {
      "cell_type": "code",
      "source": [
        "print('a+b=')\n",
        "a+b"
      ],
      "metadata": {
        "id": "ilioBylkFhjq",
        "outputId": "19dc0aae-58ff-4bc5-ac57-508cb2d5b6d7",
        "colab": {
          "base_uri": "https://localhost:8080/",
          "height": 56
        }
      },
      "id": "ilioBylkFhjq",
      "execution_count": null,
      "outputs": [
        {
          "output_type": "stream",
          "name": "stdout",
          "text": [
            "a+b=\n"
          ]
        },
        {
          "output_type": "execute_result",
          "data": {
            "text/plain": [
              "Matrix([[4, 6]])"
            ],
            "text/latex": "$\\displaystyle \\left[\\begin{matrix}4 & 6\\end{matrix}\\right]$"
          },
          "metadata": {},
          "execution_count": 14
        }
      ]
    },
    {
      "cell_type": "code",
      "source": [],
      "metadata": {
        "id": "IZDityDOKgxr"
      },
      "id": "IZDityDOKgxr",
      "execution_count": null,
      "outputs": []
    },
    {
      "cell_type": "markdown",
      "source": [
        "問1.1"
      ],
      "metadata": {
        "id": "1Z3z6VCgKdxn"
      },
      "id": "1Z3z6VCgKdxn"
    },
    {
      "cell_type": "markdown",
      "source": [
        "性質V.1\n",
        "\n",
        "$\\left(\\array{ 1\\\\2}\\right)+\\left(\\array{ 3\\\\4}\\right)=\n",
        "\\left(\\array{ 4\\\\6}\\right)=\\left(\\array{ 3\\\\4}\\right)+\\left(\\array{ 1\\\\2}\\right)$\n",
        "\n",
        "性質V.２\n",
        "\n",
        "$\\left(\\left(\\array{ 1\\\\2}\\right)+\\left(\\array{ 3\\\\4}\\right)\\right)+\\left(\\array{ 5\\\\6}\\right)=\n",
        "\\left(\\array{ 4\\\\6}\\right)+\\left(\\array{ 5\\\\6}\\right)\n",
        "=\\left(\\array{ 9\\\\12}\\right)$\n",
        "\n",
        "$\\left(\\array{ 1\\\\2}\\right)+\\left(\\left(\\array{ 3\\\\4}\\right)+\\left(\\array{ 5\\\\6}\\right)\\right)=\n",
        "\\left(\\array{ 1\\\\2}\\right)+\\left(\\array{ 8\\\\10}\\right)\n",
        "=\\left(\\array{ 9\\\\12}\\right)$\n",
        "\n",
        "性質V.3\n",
        "\n",
        "$\\left(\\array{ 1\\\\2}\\right)+\\left(\\array{ x_1\\\\x_2}\\right)\n",
        "=\\left(\\array{ 3\\\\4}\\right)$\n",
        "$\\iff\n",
        "\\left(\\array{ 1+x_1\\\\2+x_2}\\right)=\\left(\\array{ 3\\\\4}\\right)$\n",
        "\n",
        "$\\iff\\begin{cases}\n",
        "1+x_1=3\\iff x_1=3-1=2\\\\\n",
        "2+x_2=4\\iff x_2=4-2=2\\end{cases}$\n",
        "\n",
        "∴ $\\left(\\array{ x_1\\\\x_2}\\right)=\\left(\\array{ 2\\\\2}\\right)$"
      ],
      "metadata": {
        "id": "7qt-muGBL85o"
      },
      "id": "7qt-muGBL85o"
    },
    {
      "cell_type": "markdown",
      "source": [
        "問1.2\n"
      ],
      "metadata": {
        "id": "eAXeIwgLD46Q"
      },
      "id": "eAXeIwgLD46Q"
    },
    {
      "cell_type": "markdown",
      "source": [
        "**性質V.4**\n",
        "$$10\\left(\\begin{pmatrix} 1\\\\2\\end{pmatrix}+\\begin{pmatrix} 3\\\\4\\end{pmatrix}\\right)=10\n",
        "\\left(\\array{ 4\\\\6}\\right)=\\left(\\array{ 40\\\\60}\\right)$$\n",
        "$$10\\left(\\array{ 1\\\\2}\\right)\n",
        "+10\\left(\\array{ 3\\\\4}\\right)\n",
        "=\\left(\\array{ 10\\\\20}\\right)\n",
        "+\\left(\\array{ 30\\\\40}\\right)\n",
        "=\\left(\\array{ 40\\\\60}\\right)\n",
        "$$\n",
        "\n",
        "**性質V.5**\n",
        "$$(10-1)\\left(\\array{ 1\\\\2}\\right)\n",
        "=9\\left(\\array{ 1\\\\2}\\right)=\\left(\\array{ 9\\\\18}\\right)$$\n",
        "$$\n",
        "10\\left(\\array{ 1\\\\2}\\right)-\\left(\\array{ 1\\\\2}\\right)\n",
        "=\\left(\\array{ 10\\\\20}\\right)-\\left(\\array{ 1\\\\2}\\right)\n",
        "=\\left(\\array{ 9\\\\18}\\right)$$\n",
        "\n",
        "**性質V.6**\n",
        "$$(10\\times (-1))\\times\\left(\\array{ 1\\\\2}\\right)\n",
        "=-10\\times \\left(\\array{ 1\\\\2}\\right)\n",
        "=\\left(\\array{ -10\\\\-20}\\right)$$\n",
        "$$10\\times\\left( (-1)\\times\n",
        "\\left(\\array{ 1\\\\2}\\right)\\right)\n",
        "=10\\times\n",
        "\\left(\\array{ -1\\\\-2}\\right)\n",
        "=\\left(\\array{ -10\\\\-20}\\right)$$\n",
        "\n",
        "**性質V.7**\n",
        "$$1\\left(\\array{1\\\\2}\\right)=\\left(\\array{ 1\\times 1\\\\1\\times 2}\\right)=\\left(\\array{ 1\\\\2}\\right)$$"
      ],
      "metadata": {
        "id": "i6yWOeTfD_S7"
      },
      "id": "i6yWOeTfD_S7"
    },
    {
      "cell_type": "code",
      "source": [],
      "metadata": {
        "id": "zOr4b8HBJfkb"
      },
      "id": "zOr4b8HBJfkb",
      "execution_count": null,
      "outputs": []
    },
    {
      "cell_type": "markdown",
      "source": [
        "演習1.5"
      ],
      "metadata": {
        "id": "IdFNkUugJBLX"
      },
      "id": "IdFNkUugJBLX"
    },
    {
      "cell_type": "markdown",
      "source": [
        "\\begin{align*}\\boldsymbol{a}\\cdot\\boldsymbol{b}\n",
        "&=\\left(\\array{ 1\\\\2}\\right)\\cdot\\left(\\array{ 3\\\\4}\\right)=1\\times 3+2\\times4=3+8=11.\\\\\n",
        "\\|\\boldsymbol{a}-\\boldsymbol{b}\\|\n",
        "&=\\sqrt{(\\boldsymbol{a}-\\boldsymbol{b})\\cdot(\\boldsymbol{a}-\\boldsymbol{b})}\\\\\n",
        "&=\\sqrt{\\left(\\array{ 1-3\\\\2-4}\\right)\\cdot\\left(\\array{ 1-3\\\\2-4}\\right)}\\\\\n",
        "&=\\sqrt{\\left(\\array{ -2\\\\-2}\\right)\\cdot\\left(\\array{ -2\\\\-2}\\right)}\n",
        "=\\sqrt{(-2)\\times (-2)+(-2)\\times(-2)}=\\sqrt{8}=2\\sqrt{2}.\\end{align*}"
      ],
      "metadata": {
        "id": "g7ArkxnrK1FZ"
      },
      "id": "g7ArkxnrK1FZ"
    },
    {
      "cell_type": "code",
      "source": [
        "from sympy import *\n",
        "a=Matrix([1,2]).T\n",
        "b=Matrix([3,4]).T\n",
        "print('a.b=')\n",
        "(a*b.T)[0]"
      ],
      "metadata": {
        "id": "Biday3A6JDzv",
        "outputId": "34756a87-6be4-49c8-90ef-99f16a204d2d",
        "colab": {
          "base_uri": "https://localhost:8080/",
          "height": 56
        }
      },
      "id": "Biday3A6JDzv",
      "execution_count": null,
      "outputs": [
        {
          "output_type": "stream",
          "name": "stdout",
          "text": [
            "a.b=\n"
          ]
        },
        {
          "output_type": "execute_result",
          "data": {
            "text/plain": [
              "11"
            ],
            "text/latex": "$\\displaystyle 11$"
          },
          "metadata": {},
          "execution_count": 7
        }
      ]
    },
    {
      "cell_type": "code",
      "source": [
        "print('||a-b||=')\n",
        "sqrt(((a-b)*(a-b).T)[0])"
      ],
      "metadata": {
        "id": "s-jOlrQGJFj9",
        "outputId": "eb1810c2-172a-4652-8ece-654d50e742a1",
        "colab": {
          "base_uri": "https://localhost:8080/",
          "height": 57
        }
      },
      "id": "s-jOlrQGJFj9",
      "execution_count": null,
      "outputs": [
        {
          "output_type": "stream",
          "name": "stdout",
          "text": [
            "||a-b||=\n"
          ]
        },
        {
          "output_type": "execute_result",
          "data": {
            "text/plain": [
              "2*sqrt(2)"
            ],
            "text/latex": "$\\displaystyle 2 \\sqrt{2}$"
          },
          "metadata": {},
          "execution_count": 8
        }
      ]
    },
    {
      "cell_type": "markdown",
      "source": [
        "演習1.6"
      ],
      "metadata": {
        "id": "1oVbHNU-LMOr"
      },
      "id": "1oVbHNU-LMOr"
    },
    {
      "cell_type": "code",
      "source": [
        "from sympy import *\n",
        "x=Matrix([1,2,0])\n",
        "y=Matrix([0,0,1])\n",
        "z=Matrix([2,4,3])\n",
        "2*x+3*y-z"
      ],
      "metadata": {
        "id": "8ki9D1L6LPfJ",
        "outputId": "cb3bda4d-9ea1-4303-8f21-aabb33ce76a5",
        "colab": {
          "base_uri": "https://localhost:8080/",
          "height": 78
        }
      },
      "id": "8ki9D1L6LPfJ",
      "execution_count": null,
      "outputs": [
        {
          "output_type": "execute_result",
          "data": {
            "text/plain": [
              "Matrix([\n",
              "[0],\n",
              "[0],\n",
              "[0]])"
            ],
            "text/latex": "$\\displaystyle \\left[\\begin{matrix}0\\\\0\\\\0\\end{matrix}\\right]$"
          },
          "metadata": {},
          "execution_count": 18
        }
      ]
    },
    {
      "cell_type": "markdown",
      "source": [
        "問1.3"
      ],
      "metadata": {
        "id": "AAhRnCZnOnTb"
      },
      "id": "AAhRnCZnOnTb"
    },
    {
      "cell_type": "code",
      "execution_count": null,
      "id": "5b09581b",
      "metadata": {
        "id": "5b09581b",
        "outputId": "51e4b13a-f684-44cf-ae46-3576e6e5752c",
        "colab": {
          "base_uri": "https://localhost:8080/",
          "height": 149
        }
      },
      "outputs": [
        {
          "output_type": "stream",
          "name": "stdout",
          "text": [
            "(1)\n",
            "a.b = 0\n",
            "b.c = 0\n",
            "c.a = 0\n",
            "\n",
            "(2)\n"
          ]
        },
        {
          "output_type": "execute_result",
          "data": {
            "text/plain": [
              "0"
            ],
            "text/latex": "$\\displaystyle 0$"
          },
          "metadata": {},
          "execution_count": 11
        }
      ],
      "source": [
        "from sympy import *\n",
        "\n",
        "print(\"(1)\")\n",
        "a = Matrix([1,0,0])\n",
        "b = Matrix([0,1,0])\n",
        "c = Matrix([0,0,1])\n",
        "print('a.b =',(a.T*b)[0])\n",
        "print('b.c =',(b.T*c)[0])\n",
        "print('c.a =',(c.T*a)[0])\n",
        "\n",
        "print(\"\")\n",
        "print(\"(2)\")\n",
        "(Matrix([1,2,3]).T * Matrix([1,-2,1]))[0]"
      ]
    },
    {
      "cell_type": "markdown",
      "source": [
        "**問1.4**\n",
        "\n",
        "帰納法で示す．\n",
        "\\begin{eqnarray*}\n",
        "\\boldsymbol{y}_1\\cdot\\boldsymbol{y}_1\n",
        "&=& \\frac{\\boldsymbol{x}_1\\cdot \\boldsymbol{x}_1}{\\|\\boldsymbol{x}_1\\|^2}\n",
        "=\\frac{\\|\\boldsymbol{x}_1\\|^2}{\\|\\boldsymbol{x}_1\\|^2}=1, \\\\\n",
        "\\boldsymbol{y}_1\\cdot\\boldsymbol{y}_2\n",
        "&=& \\frac{\\boldsymbol{y}_1\\cdot (\\boldsymbol{x}_2-(\\boldsymbol{x}_2\\cdot\\boldsymbol{y}_1)\\boldsymbol{y}_1)}{\\|\\boldsymbol{x}_2-(\\boldsymbol{x}_2\\cdot\\boldsymbol{y}_1)\\boldsymbol{y}_1\\|}\\\\\n",
        "&=&\n",
        " \\frac{\\boldsymbol{y}_1\\cdot \\boldsymbol{x}_2-(\\boldsymbol{x}_2\\cdot\\boldsymbol{y}_1) \\boldsymbol{y}_1\\cdot \\boldsymbol{y}_1}{\\|\\boldsymbol{x}_2-(\\boldsymbol{x}_2\\cdot\\boldsymbol{y}_1)\\boldsymbol{y}_1\\|}\n",
        " =\n",
        " \\frac{\\boldsymbol{y}_1\\cdot \\boldsymbol{x}_2-\\boldsymbol{x}_2\\cdot\\boldsymbol{y}_1 }{\\|\\boldsymbol{x}_2-(\\boldsymbol{x}_2\\cdot\\boldsymbol{y}_1)\\boldsymbol{y}_1\\|}\n",
        "=0, \\\\\n",
        "\\boldsymbol{y}_2\\cdot\\boldsymbol{y}_2\n",
        "&=& \\frac{(\\boldsymbol{x}_2-(\\boldsymbol{x}_2\\cdot\\boldsymbol{y}_1){y}_1)\\cdot (\\boldsymbol{x}_2-(\\boldsymbol{x}_2\\cdot\\boldsymbol{y}_1)\\boldsymbol{y}_1)}{\\|\\boldsymbol{x}_2-(\\boldsymbol{x}_2\\cdot\\boldsymbol{y}_1)\\boldsymbol{y}_1\\|^2}\n",
        "= \\frac{\\|\\boldsymbol{x}_2-(\\boldsymbol{x}_2\\cdot\\boldsymbol{y}_1)\\boldsymbol{y}_1\\|^2}{\\|\\boldsymbol{x}_2-(\\boldsymbol{x}_2\\cdot\\boldsymbol{y}_1)\\boldsymbol{y}_1\\|^2}\n",
        "=1.\n",
        "\\end{eqnarray*}\n",
        "よって，$\\boldsymbol{y}_1$と$\\boldsymbol{y}_2$は正規直交系である．\n",
        "\n",
        "いま，\n",
        "$\\boldsymbol{y}_1,\\cdots,\\boldsymbol{y}_j$が正規直交系であるとすると，\n",
        "$i=1,\\cdots,j$として，\n",
        "$$\n",
        "\\boldsymbol{y}_i\\cdot \\boldsymbol{y}_{j+1}\n",
        "= \\frac{\\boldsymbol{y}_i\\cdot(\\boldsymbol{x}_{j+1}-\\sum_{h=1}^{j}(\\boldsymbol{x}_{j+1}\\cdot\\boldsymbol{y}_h)\\boldsymbol{y}_h)}{\\|\\boldsymbol{x}_{j+1}-\\sum_{h=1}^{j}(\\boldsymbol{x}_{j+1}\\cdot\\boldsymbol{y}_h)\\boldsymbol{y}_h\\|}\n",
        "= \\frac{\\boldsymbol{y}_i\\cdot\\boldsymbol{x}_{j+1}-\\boldsymbol{x}_{j+1}\\cdot\\boldsymbol{y}_i}{\\|\\boldsymbol{x}_{j+1}-\\sum_{h=1}^{j}(\\boldsymbol{x}_{j+1}\\cdot\\boldsymbol{y}_h)\\boldsymbol{y}_h\\|}\n",
        "=0.\n",
        "$$\n",
        "ただし，２番目の等式には，\n",
        "$$\n",
        "\\boldsymbol{y}_i\\cdot \\boldsymbol{y}_h=\n",
        "\\begin{cases}\n",
        "\t1; & h=i\\\\\n",
        "\t0;& h\\neq i\n",
        "\\end{cases},\\quad h=1,\\cdots,j\n",
        "$$\n",
        "を用いた．さらに，\n",
        "\\begin{eqnarray*}\n",
        "\\boldsymbol{y}_{j+1}\\cdot \\boldsymbol{y}_{j+1}\n",
        "&=& \\frac{(\\boldsymbol{x}_{j+1}-\\sum_{i=1}^{j}(\\boldsymbol{x}_{j+1}\\cdot\\boldsymbol{y}_i)\\boldsymbol{y}_i)\\cdot(\\boldsymbol{x}_{j+1}-\\sum_{i=1}^{j}(\\boldsymbol{x}_{j+1}\\cdot\\boldsymbol{y}_i)\\boldsymbol{y}_i)}{\\|\\boldsymbol{x}_{j+1}-\\sum_{h=1}^{j}(\\boldsymbol{x}_{j+1}\\cdot\\boldsymbol{y}_h)\\boldsymbol{y}_h\\|^2}\\\\\n",
        "&=& \\frac{\\|\\boldsymbol{x}_{j+1}-\\sum_{h=1}^{j}(\\boldsymbol{x}_{j+1}\\cdot\\boldsymbol{y}_h)\\boldsymbol{y}_h\\|^2}{\\|\\boldsymbol{x}_{j+1}-\\sum_{h=1}^{j}(\\boldsymbol{x}_{j+1}\\cdot\\boldsymbol{y}_h)\\boldsymbol{y}_h\\|^2}\n",
        "= 1\n",
        "\\end{eqnarray*}\n",
        "であるから，$\\boldsymbol{y}_1,\\cdots,\\boldsymbol{y}_{j+1}$も正規直交系となる．\n",
        "よって，数学的帰納法により，$\\boldsymbol{y}_1,\\cdots,\\boldsymbol{y}_{k}$は正規直交系となる．"
      ],
      "metadata": {
        "id": "OC1HKb3mQCQs"
      },
      "id": "OC1HKb3mQCQs"
    },
    {
      "cell_type": "markdown",
      "source": [
        "**演習1.7**"
      ],
      "metadata": {
        "id": "VccBTjTOm5iQ"
      },
      "id": "VccBTjTOm5iQ"
    },
    {
      "cell_type": "code",
      "execution_count": null,
      "id": "bce313de",
      "metadata": {
        "id": "bce313de",
        "outputId": "25f3fe01-ad25-40c9-e9d4-04f4c480874a",
        "colab": {
          "base_uri": "https://localhost:8080/",
          "height": 107
        }
      },
      "outputs": [
        {
          "output_type": "stream",
          "name": "stdout",
          "text": [
            "y1=\n"
          ]
        },
        {
          "output_type": "display_data",
          "data": {
            "text/plain": [
              "Matrix([\n",
              "[ sqrt(3)/3],\n",
              "[ sqrt(3)/3],\n",
              "[-sqrt(3)/3]])"
            ],
            "text/latex": "$\\displaystyle \\left[\\begin{matrix}\\frac{\\sqrt{3}}{3}\\\\\\frac{\\sqrt{3}}{3}\\\\- \\frac{\\sqrt{3}}{3}\\end{matrix}\\right]$"
          },
          "metadata": {}
        }
      ],
      "source": [
        "from sympy import *\n",
        "x1=Matrix([1,1,-1])\n",
        "x2=Matrix([3,2,1])\n",
        "x3=Matrix([1,2,3])\n",
        "y=GramSchmidt([x1,x2,x3],True)\n",
        "# 正規直交系の最初のベクトルを取り出す．\n",
        "print('y1='); display(y[0])"
      ]
    },
    {
      "cell_type": "code",
      "execution_count": null,
      "id": "e5550562",
      "metadata": {
        "id": "e5550562",
        "outputId": "7eca42b8-4398-48f4-e557-a3c4f19483d8",
        "colab": {
          "base_uri": "https://localhost:8080/",
          "height": 107
        }
      },
      "outputs": [
        {
          "output_type": "stream",
          "name": "stdout",
          "text": [
            "y2=\n"
          ]
        },
        {
          "output_type": "display_data",
          "data": {
            "text/plain": [
              "Matrix([\n",
              "[5*sqrt(78)/78],\n",
              "[  sqrt(78)/39],\n",
              "[7*sqrt(78)/78]])"
            ],
            "text/latex": "$\\displaystyle \\left[\\begin{matrix}\\frac{5 \\sqrt{78}}{78}\\\\\\frac{\\sqrt{78}}{39}\\\\\\frac{7 \\sqrt{78}}{78}\\end{matrix}\\right]$"
          },
          "metadata": {}
        }
      ],
      "source": [
        "# 正規直交系の2番目のベクトルを取り出す．\n",
        "print('y2='); display(y[1])"
      ]
    },
    {
      "cell_type": "code",
      "execution_count": null,
      "id": "a734f9c8",
      "metadata": {
        "id": "a734f9c8",
        "outputId": "90426955-e659-40b7-d4bd-edb0d82788ee",
        "colab": {
          "base_uri": "https://localhost:8080/",
          "height": 107
        }
      },
      "outputs": [
        {
          "output_type": "stream",
          "name": "stdout",
          "text": [
            "y3=\n"
          ]
        },
        {
          "output_type": "display_data",
          "data": {
            "text/plain": [
              "Matrix([\n",
              "[-3*sqrt(26)/26],\n",
              "[ 2*sqrt(26)/13],\n",
              "[   sqrt(26)/26]])"
            ],
            "text/latex": "$\\displaystyle \\left[\\begin{matrix}- \\frac{3 \\sqrt{26}}{26}\\\\\\frac{2 \\sqrt{26}}{13}\\\\\\frac{\\sqrt{26}}{26}\\end{matrix}\\right]$"
          },
          "metadata": {}
        }
      ],
      "source": [
        "# 正規直交系の3番目のベクトルを取り出す．\n",
        "print('y3='); display(y[2])"
      ]
    },
    {
      "cell_type": "markdown",
      "source": [
        "**問1.5**"
      ],
      "metadata": {
        "id": "n4pvEjh4nYoy"
      },
      "id": "n4pvEjh4nYoy"
    },
    {
      "cell_type": "code",
      "execution_count": null,
      "id": "97710f17",
      "metadata": {
        "id": "97710f17",
        "outputId": "14ab1095-59bc-4ffa-c195-47a7fbb924de",
        "colab": {
          "base_uri": "https://localhost:8080/"
        }
      },
      "outputs": [
        {
          "output_type": "stream",
          "name": "stdout",
          "text": [
            "y1.y1 = 1\n",
            "y1.y2 = 0\n",
            "y1.y3 = 0\n",
            "y2.y2 = 1\n",
            "y2.y3 = 0\n",
            "y3.y3 = 1\n"
          ]
        }
      ],
      "source": [
        "from sympy import *\n",
        "x1=Matrix([1,1,-1])\n",
        "x2=Matrix([3,2,1])\n",
        "x3=Matrix([1,2,3])\n",
        "y=GramSchmidt([x1,x2,x3],True)\n",
        "print('y1.y1 =', (y[0].T*y[0])[0])\n",
        "print('y1.y2 =', (y[0].T*y[1])[0])\n",
        "print('y1.y3 =', (y[0].T*y[2])[0])\n",
        "print('y2.y2 =', (y[1].T*y[1])[0])\n",
        "print('y2.y3 =', (y[1].T*y[2])[0])\n",
        "print('y3.y3 =', (y[2].T*y[2])[0])"
      ]
    },
    {
      "cell_type": "markdown",
      "source": [
        "**問1.6**\n",
        "\n",
        "  **性質V.1**\n",
        "\n",
        "例1.8より，$X_1$に属する任意の２つのベクトルの和が$X_1$の元となっていることから，$\\boldsymbol{a}+\\boldsymbol{b}\\in X_1$，$\\boldsymbol{b}+\\boldsymbol{a}\\in X_1$．かつ，\n",
        "\t$\\boldsymbol{a} + \\boldsymbol{b}\n",
        "\t=(a_1+b_1, a_2+b_2)\n",
        "\t=(b_1+a_1, b_2+a_2) = \\boldsymbol{b} + \\boldsymbol{a}. $\n",
        "\n",
        "  **性質V.2**\n",
        "\n",
        "$\\boldsymbol{c}=(c_1,c_2)\\in X_1$とすると，例1.8より，$X_1$に属する任意の２つのベクトルの和が$X_1$の元となっていることから，\n",
        "\t$(\\boldsymbol{a}+\\boldsymbol{b})+\\boldsymbol{c}\\in X_1$，$\\boldsymbol{a}+(\\boldsymbol{b}+\\boldsymbol{c})\\in X_1$．かつ，\n",
        "\t$\n",
        "\t(\\boldsymbol{a} + \\boldsymbol{b})+\\boldsymbol{c}\n",
        "\t=((a_1+b_1)+c_1, (a_2+b_2)+c_2)\n",
        "\t=(a_1+(b_1+c_1), a_2+(b_2+c_2)) = \\boldsymbol{a} + (\\boldsymbol{b}+\\boldsymbol{c}).\n",
        "\t$\n",
        "\n",
        "\n",
        "**性質V.3**\n",
        "\n",
        "$\n",
        "\ta_1+x_1b_1,\\   \n",
        "\ta_2+x_2=b_2\n",
        "\t$\n",
        "\tを満たす$\\boldsymbol{x}=(x_1,x_2)\\in\\mathbb{R}^2$は，自明に唯一\n",
        "\t$\n",
        "\tx_1=b_1-a_1, \\\n",
        "\tx_2=b_2-a_2\n",
        "\t$\n",
        "\tであり，\n",
        "\t$\n",
        "\tx_1 + x_2\n",
        "\t=(b_1-a_1)+(b_2-a_2)\n",
        "\t=(b_1+b_2)-(a_1+a_2) = 0.\n",
        "\t$\n",
        "\t∴ $\\boldsymbol{x}\\in X_1$．\n",
        "\n",
        "**性質V.4**\n",
        "\n",
        "例1.8より，\n",
        "  $X_1$に属する任意の２つのベクトルの和が$X_1$の元となっていて，かつ，任意のスカラー倍も$X_1$の元となっていることから，\n",
        "$\\alpha (\\boldsymbol{a}+\\boldsymbol{b})\\in X_1$，$\\alpha \\boldsymbol{a}+\\alpha\\boldsymbol{b}\\in X_1$．かつ，\n",
        "$\n",
        "\t\\alpha (\\boldsymbol{a} + \\boldsymbol{b})\n",
        "\t=(\\alpha (a_1+b_1), \\alpha(a_2+b_2))\n",
        "\t=( \\alpha a_1+ \\alpha b_1, \\alpha a_2+\\alpha b_2)\n",
        "\t= \\alpha \\boldsymbol{a} + \\alpha \\boldsymbol{b}.\n",
        "$\n",
        "\n",
        "  \n",
        "**性質V.5**\n",
        "  \n",
        "  $\\beta\\in\\mathbb{R}$とすると$\\alpha+\\beta\\in \\mathbb{R}$\n",
        "\tであり，$X_1$に属する任意の２つのベクトルの和が$X_1$の元となっていて，かつ，任意のスカラー倍も$X_1$の元となっていることから，\n",
        "\t$(\\alpha + \\beta)\\boldsymbol{a}\\in X_1$，$\\alpha \\boldsymbol{a}+\\alpha \\boldsymbol{a}\\in X_1$．かつ，\n",
        "\t$\n",
        "\t(\\alpha+\\beta) \\boldsymbol{a}\n",
        "\t=((\\alpha+\\beta) a_1, (\\alpha+\\beta)a_2)\n",
        "\t=( \\alpha a_1+ \\beta a_1, \\alpha a_2+\\beta a_2)\n",
        "\t= \\alpha \\boldsymbol{a} + \\beta \\boldsymbol{a}.\n",
        "\t$\n",
        "\n",
        "  \n",
        "  **性質V.6**\n",
        "\n",
        "  $\\beta\\in\\mathbb{R}$とすると$\\alpha\\beta\\in \\mathbb{R}$\n",
        "\tであり，$X_1$に属するすべての元の任意のスカラー倍も$X_1$の元となっていることから，\n",
        "\t$(\\alpha \\beta)\\boldsymbol{a}\\in X_1$，$\\alpha (\\beta\\boldsymbol{a})\\in X_1$．かつ，\n",
        "\t$\n",
        "\t(\\alpha\\beta) \\boldsymbol{a}\n",
        "\t=((\\alpha\\beta) a_1, (\\alpha\\beta)a_2)\n",
        "\t=( \\alpha (\\beta a_1), \\alpha (\\beta a_2))\n",
        "\t= \\alpha (\\beta \\boldsymbol{a}).\n",
        "\t$\n",
        "\n",
        "\n",
        "**性質V.7**\n",
        "\n",
        "$X_1$に属するすべての元の任意のスカラー倍も$X_1$の元となっていることから，\n",
        "$1\\boldsymbol{a}\\in X_1$．かつ，\n",
        "\t$\n",
        "\t1 \\boldsymbol{a}\n",
        "\t=(1 a_1, 1a_2)\n",
        "\t=( a_1, a_2)\n",
        "\t= \\boldsymbol{a}.\n",
        "\t$"
      ],
      "metadata": {
        "id": "Lt0W-bkGoCyy"
      },
      "id": "Lt0W-bkGoCyy"
    },
    {
      "cell_type": "markdown",
      "source": [
        "**問1.7**\n",
        "\n",
        "$$\n",
        "x_1\\boldsymbol{e}_1 +x_2\\boldsymbol{e}_2 +\\cdots + x_n\\boldsymbol{e}_n\n",
        "=(x_1,x_2,\\cdots,x_n)^\\top\n",
        "$$\n",
        "であるから，\n",
        "\\begin{equation}\n",
        "\tx_1\\boldsymbol{e}_1 +x_2\\boldsymbol{e}_2 +\\cdots + x_n\\boldsymbol{e}_n\n",
        "\t=\\boldsymbol{0}\\qquad (*)\n",
        "\\end{equation}\n",
        "となるのは，$x_i=0$, $i=1,\\cdots,n$のときであり，そのときに限り，\n",
        "($*$)が成立する．"
      ],
      "metadata": {
        "id": "39krc-xguzd_"
      },
      "id": "39krc-xguzd_"
    },
    {
      "cell_type": "markdown",
      "source": [
        "**問1.8**"
      ],
      "metadata": {
        "id": "exs0N-uT1y1S"
      },
      "id": "exs0N-uT1y1S"
    },
    {
      "cell_type": "code",
      "execution_count": null,
      "id": "ade4c0ed",
      "metadata": {
        "id": "ade4c0ed",
        "outputId": "14f89368-9df2-4528-bf51-9931b0b05b92",
        "colab": {
          "base_uri": "https://localhost:8080/"
        }
      },
      "outputs": [
        {
          "output_type": "stream",
          "name": "stdout",
          "text": [
            "b中高生・pエコ= 87\n",
            "b中高生・pヘルシー= 81\n",
            "b中高生・pバリュー= 99\n",
            "b大学生・pエコ= 138\n",
            "b大学生・pヘルシー= 129\n",
            "b大学生・pバリュー= 91\n",
            "bシニア・pエコ= 111\n",
            "bシニア・pヘルシー= 120\n",
            "bシニア・pバリュー= 64\n"
          ]
        }
      ],
      "source": [
        "from sympy import *\n",
        "\n",
        "b中高生=Matrix([9,3,4])\n",
        "b大学生=Matrix([6,8,7])\n",
        "bシニア=Matrix([3,5,9])\n",
        "\n",
        "pエコ=Matrix([4,9,6])\n",
        "pヘルシー=Matrix([3,6,9])\n",
        "pバリュー=Matrix([9,2,3])\n",
        "\n",
        "\n",
        "print('b中高生・pエコ=', (b中高生.T*pエコ)[0]);print('b中高生・pヘルシー=', (b中高生.T*pヘルシー)[0])\n",
        "print('b中高生・pバリュー=', (b中高生.T*pバリュー)[0])\n",
        "\n",
        "print('b大学生・pエコ=', (b大学生.T*pエコ)[0])\n",
        "print('b大学生・pヘルシー=', (b大学生.T*pヘルシー)[0])\n",
        "print('b大学生・pバリュー=', (b大学生.T*pバリュー)[0])\n",
        "\n",
        "print('bシニア・pエコ=', (bシニア.T*pエコ)[0])\n",
        "print('bシニア・pヘルシー=', (bシニア.T*pヘルシー)[0])\n",
        "print('bシニア・pバリュー=', (bシニア.T*pバリュー)[0])"
      ]
    },
    {
      "cell_type": "markdown",
      "source": [
        "**問1.9**"
      ],
      "metadata": {
        "id": "VPtfFJvE17kd"
      },
      "id": "VPtfFJvE17kd"
    },
    {
      "cell_type": "code",
      "execution_count": null,
      "id": "03b151b2",
      "metadata": {
        "id": "03b151b2",
        "outputId": "5e55e1c3-c378-4f3b-e8c4-32a9de7df496"
      },
      "outputs": [
        {
          "data": {
            "text/latex": [
              "$\\displaystyle \\left[\\begin{matrix}26950\\\\17701\\\\4430\\\\4231\\end{matrix}\\right]$"
            ],
            "text/plain": [
              "Matrix([\n",
              "[26950],\n",
              "[17701],\n",
              "[ 4430],\n",
              "[ 4231]])"
            ]
          },
          "execution_count": 16,
          "metadata": {},
          "output_type": "execute_result"
        }
      ],
      "source": [
        "import sympy\n",
        "b=sympy.Matrix([26950,17701,4430,4231])\n",
        "b"
      ]
    },
    {
      "cell_type": "markdown",
      "source": [
        "**問1.10**\n",
        "\n",
        "$R\\geq u$とする．このとき，時点$0$で株式を$1$株空売りして，$S$円を金利$r$で預金して，時点$T$で，すべて精算すれば，$SR-Su\\ge0$以上の裁定利益を得ることができる．一方，$d\\ge R$とする．このとき，時点$0$で$S$円を金利$r$で借り入れて，株式を$1$株購入して，時点$T$で，すべて精算すれば，$Sd-SR\\ge0$以上の裁定利益を得ることができる．∴ 無裁定 $\\Rightarrow u>R>d$."
      ],
      "metadata": {
        "id": "glGUbXfN2rpm"
      },
      "id": "glGUbXfN2rpm"
    },
    {
      "cell_type": "code",
      "execution_count": null,
      "id": "f2221388",
      "metadata": {
        "id": "f2221388",
        "outputId": "9f71782a-eacb-41c5-d955-5143c673002b"
      },
      "outputs": [
        {
          "data": {
            "text/latex": [
              "$\\displaystyle \\left[\\begin{matrix}26950 & 17701 & 4430 & 4231\\end{matrix}\\right]$"
            ],
            "text/plain": [
              "Matrix([[26950, 17701, 4430, 4231]])"
            ]
          },
          "execution_count": 18,
          "metadata": {},
          "output_type": "execute_result"
        }
      ],
      "source": [
        "import sympy\n",
        "b=sympy.Matrix([26950,17701,4430,4231])\n",
        "b.T"
      ]
    },
    {
      "cell_type": "markdown",
      "source": [
        "**問1.11**\n",
        "\n",
        "現時点で$\\theta_0$円貸し出すと同時に株式$\\theta$単位を購入して，\n",
        "プット・オプションを複製するポートフォリオを構築するには，\n",
        "\\begin{equation}\n",
        "\\left\\{\n",
        " \\begin{array}{l}\n",
        "  \\theta_0 \\times R + \\theta \\times Su   = P_u := (K-Su)^+ \\\\\n",
        "  \\theta_0 \\times R + \\theta \\times Sd   = P_d := (K-Sd)^+\n",
        " \\end{array}\n",
        "\\right.\\qquad (\\ast)\n",
        "\\end{equation}\n",
        "を満たすように$(\\theta_0,\\ \\theta)$の値を決定すればよい．\n",
        "($\\ast$)を$(\\theta_0,\\ \\theta)$について解くと，\n",
        "$$\n",
        "\\theta_0= \\frac{uP_d-dP_u}{R(u-d)},\\quad  \\theta= \\frac{P_u-P_d}{S(u-d)}.\n",
        "$$\n",
        "$P(0)\\neq\\theta_0  + \\theta \\times S$とすると，裁定機会が生じてしまうので，無裁定ならば，\n",
        "\\begin{align*}\n",
        "P(0) &= \\frac{uP_d-dP_u}{R(u-d)} + \\frac{P_u-P_d}{S(u-d)} \\times S \\\\\n",
        " &= \\frac{R-d}{R(u-d)}P_u + \\frac{u-R}{R(u-d)}P_d  \\\\\n",
        "&= \\frac{1}{R}[q_u (K-Su)^++q_d (K-Sd)^+].\n",
        "\\end{align*}"
      ],
      "metadata": {
        "id": "CJvx5Mgj3lHA"
      },
      "id": "CJvx5Mgj3lHA"
    },
    {
      "cell_type": "markdown",
      "source": [
        "**問1.12**"
      ],
      "metadata": {
        "id": "imCfONUM3q5J"
      },
      "id": "imCfONUM3q5J"
    },
    {
      "cell_type": "code",
      "source": [
        "\t\t\t#原資産現在価格\n",
        "\t\t\tS=10000\n",
        "\t\t\t#行使価格\n",
        "\t\t\tK=10000\n",
        "\t\t\t# 1年後原資産価格上昇率\n",
        "\t\t\tu=1.2\n",
        "\t\t\t# 1年後原資産価格上昇率\n",
        "\t\t\td=0.8\n",
        "\t\t\t# 1+年率利子率\n",
        "\t\t\tR=1.05\n",
        "\t\t\tqu=(R-d)/(u-d); qd=1-qu\n",
        "\t\t\t# コール・オプション価格\n",
        "\t\t\tC0= (qu*max([0,S*u-K])+qd*max([0,S*d-K]))/R\n",
        "\t\t\tprint('コール・オプション価格 =',C0,'円')\n",
        "\t\t\t# プット・オプション価格\n",
        "\t\t\tP0= (qu*max([0,K-S*u])+qd*max([0,K-S*d]))/R\n",
        "\t\t\tprint('プット・オプション価格 =',P0,'円')"
      ],
      "metadata": {
        "id": "J6gnZebbKusA",
        "outputId": "5850df58-d251-4ef1-c2fc-3156d16cf631",
        "colab": {
          "base_uri": "https://localhost:8080/"
        }
      },
      "id": "J6gnZebbKusA",
      "execution_count": null,
      "outputs": [
        {
          "output_type": "stream",
          "name": "stdout",
          "text": [
            "コール・オプション価格 = 1190.4761904761906 円\n",
            "プット・オプション価格 = 714.285714285714 円\n"
          ]
        }
      ]
    },
    {
      "cell_type": "markdown",
      "source": [
        "#練習問題"
      ],
      "metadata": {
        "id": "9pGx5_q4lid1"
      },
      "id": "9pGx5_q4lid1"
    },
    {
      "cell_type": "markdown",
      "source": [
        "#1.1\n",
        "\n",
        "\\begin{eqnarray*}\n",
        "&& (\\|\\boldsymbol{a}\\|+\\| \\boldsymbol{b}\\|)^2- (\\|\\boldsymbol{a}+\\boldsymbol{b}\\|)^2\\\\\n",
        "&=&\\|\\boldsymbol{a}\\|^2+2\\|\\boldsymbol{a}\\|\\|\\boldsymbol{b}\\|+\\|\\boldsymbol{b}\\|^2\n",
        "- (\\boldsymbol{a}+\\boldsymbol{b})\\cdot(\\boldsymbol{a}+\\boldsymbol{b})\\\\\n",
        "&=&\\boldsymbol{a}\\cdot\\boldsymbol{a}+2\\|\\boldsymbol{a}\\|\\|\\boldsymbol{b}\\|+\\boldsymbol{b}\\cdot\\boldsymbol{b}\n",
        "- (\\boldsymbol{a}\\cdot\\boldsymbol{a}+2\\boldsymbol{a}\\cdot \\boldsymbol{b}+\\boldsymbol{b}\\cdot\\boldsymbol{b})\\\\\n",
        "&=& 2(\\|\\boldsymbol{a}\\|\\|\\boldsymbol{b}\\|- \\boldsymbol{a}\\cdot \\boldsymbol{b})\n",
        "\\end{eqnarray*}\n",
        "であるから，\n",
        "$\\|\\boldsymbol{a}\\|\\|\\boldsymbol{b}\\|- \\boldsymbol{a}\\cdot \\boldsymbol{b}\\ge 0$を示せば良い．\n",
        "$\\boldsymbol{a}=(a_1,a_2), \\boldsymbol{b}=(b_1,b_2)$\n",
        "とすると，\n",
        "\\begin{eqnarray*}\n",
        "&& (\\|\\boldsymbol{a}\\|\\|\\boldsymbol{b}\\|)^2- (\\boldsymbol{a}\\cdot\\boldsymbol{b})^2\\\\\n",
        "&=&(a_1^2+a_2^2)(b_1^2+ b_2^2)\n",
        "- (a_1b_1+a_2b_2)^2\\\\\n",
        "&=&a_1^2b_1^2+a_1^2 b_2^2+a_2^2b_1^2+a_2^2b_2^2\n",
        "- (a_1^2b_1^2+2a_1b_1a_2b_2+a_2^2b_2^2)\\\\\n",
        "&=&a_1^2b_2^2- 2a_1b_1a_2b_2+a_2^2b_1^2\\\\\n",
        "&=&(a_1b_2-a_2b_1)^2\\ge 0.\n",
        "\\end{eqnarray*}\n",
        "∴　題意を得る．\n"
      ],
      "metadata": {
        "id": "VnwYKiLTlwb4"
      },
      "id": "VnwYKiLTlwb4"
    },
    {
      "cell_type": "markdown",
      "source": [
        "#1.2\n",
        "\n",
        "$\\left(\\mbox{A株式},\\mbox{B株式},\\mbox{お金の貸出}\\right)\n",
        "=\\left(\\frac{5}{2}\\mbox{株空売り}, \\frac{5}{2}\\mbox{株保有}, \\frac{12500}{11}\\mbox{円貸出}\\right)\n",
        "$\n",
        "というポートフォリオを組んで１年後に清算した場合，１年後のポートフォリオ価値は，\n",
        "$$\n",
        "  - \\frac{5}{2} \\begin{pmatrix}1200\\\\ 1000\\\\ 800\\end{pmatrix}\n",
        "  +\\frac{ 5}{2} \\begin{pmatrix} 800 \\\\ 500 \\\\300\\end{pmatrix}\n",
        "+ \\frac{12500}{11}\\begin{pmatrix} 1.1\\\\ 1.1\\\\ 1.1\\end{pmatrix}\n",
        "=\\begin{pmatrix}250\\\\ 0\\\\0\\end{pmatrix}\n",
        "$$\n",
        "よって，このポートフォリオの１年後の価値は，当該オプションの受取額と等価となっている．したがって，当該オプションの現在価値は，\n",
        "$$\n",
        "  \\frac{5}{2} \\times  1000 - \\frac{5}{2}\\times  500 - \\frac{12500}{11} \\times 1\n",
        "=\\frac{1250}{11}=113.63\\cdots\n",
        "$$\n",
        "すなわち，およそ$114$円と考えられる．\n"
      ],
      "metadata": {
        "id": "TVxZAW6wnxuR"
      },
      "id": "TVxZAW6wnxuR"
    },
    {
      "cell_type": "markdown",
      "source": [
        "#1.3\n",
        "\n",
        "自明に$$\n",
        "\\begin{pmatrix}\n",
        "\t800\\\\\n",
        "\t500\\\\\n",
        "\t300\n",
        "\\end{pmatrix}=\n",
        "\\begin{pmatrix}\n",
        "\t1.1\\\\\n",
        "\t1.1\\\\\n",
        "\t1.1\n",
        "\\end{pmatrix}x\n",
        "$$\n",
        "を満たす$x$は存在しない．\n",
        "したがって，\n",
        "$$\n",
        "\\begin{pmatrix}\n",
        "\t800\\\\\n",
        "\t500\\\\\n",
        "\t300\n",
        "\\end{pmatrix}\n",
        "\\mbox{と}\n",
        "\\begin{pmatrix}\n",
        "\t1.1\\\\\n",
        "\t1.1\\\\\n",
        "\t1.1\n",
        "\\end{pmatrix}\n",
        "$$\n",
        "は一次独立である．\n",
        "さらに，\n",
        "$$\n",
        "\\begin{pmatrix}\n",
        "\t1200\\\\\n",
        "\t1000\\\\\n",
        "\t800\n",
        "\\end{pmatrix}=\n",
        "\\begin{pmatrix}\n",
        "\t800\\\\\n",
        "\t500\\\\\n",
        "\t300\n",
        "\\end{pmatrix}x+\n",
        "\\begin{pmatrix}\n",
        "\t1.1\\\\\n",
        "\t1.1\\\\\n",
        "\t1.1\n",
        "\\end{pmatrix}y\n",
        "$$\n",
        "を満たす$x,y$は，存在しない．実際，\n",
        "$$\n",
        "\\begin{cases}\n",
        "\t1200 = 800x + 1.1y\\\\\n",
        "\t1000 = 500 x + 1.1y\n",
        "\\end{cases}\n",
        "$$\n",
        "を$x,y$について解くと，$x=\\frac{2}{3}$, $y=\\frac{20000}{33}$となるが，\n",
        "\n",
        "$$\n",
        "\\begin{pmatrix}\n",
        "\t1200\\\\\n",
        "\t1000\\\\\n",
        "\t800\n",
        "\\end{pmatrix}\\neq\n",
        "\\begin{pmatrix}\n",
        "\t1200\\\\\n",
        "\t1000\\\\\n",
        "\t\\frac{2600}{3}\n",
        "\\end{pmatrix}\n",
        "=\n",
        "\\begin{pmatrix}\n",
        "\t800\\\\\n",
        "\t500\\\\\n",
        "\t300\n",
        "\\end{pmatrix}\\frac{2}{3}+\n",
        "\\begin{pmatrix}\n",
        "\t1.1\\\\\n",
        "\t1.1\\\\\n",
        "\t1.1\n",
        "\\end{pmatrix}\\frac{20000}{33}.\n",
        "$$\n",
        "以上により，\n",
        "$$\n",
        "\\begin{pmatrix}\n",
        "\t1200\\\\\n",
        "\t1000\\\\\n",
        "\t800\n",
        "\\end{pmatrix},\\\n",
        "\\begin{pmatrix}\n",
        "\t800\\\\\n",
        "\t500\\\\\n",
        "\t300\n",
        "\\end{pmatrix},\\\n",
        "\\begin{pmatrix}\n",
        "\t1.1\\\\\n",
        "\t1.1\\\\\n",
        "\t1.1\n",
        "\\end{pmatrix}\n",
        "$$\n",
        "は一次独立である．"
      ],
      "metadata": {
        "id": "XQsQTD0i7ygF"
      },
      "id": "XQsQTD0i7ygF"
    },
    {
      "cell_type": "markdown",
      "source": [
        "# 2章 行列"
      ],
      "metadata": {
        "id": "mPxtLlbDgqMD"
      },
      "id": "mPxtLlbDgqMD"
    },
    {
      "cell_type": "markdown",
      "source": [
        "**演習2.1**"
      ],
      "metadata": {
        "id": "X3mr_u24J_w8"
      },
      "id": "X3mr_u24J_w8"
    },
    {
      "cell_type": "code",
      "execution_count": null,
      "id": "dda430a9",
      "metadata": {
        "id": "dda430a9",
        "outputId": "81a7eacf-3aa1-4926-b22e-2a328e51336a",
        "colab": {
          "base_uri": "https://localhost:8080/",
          "height": 58
        }
      },
      "outputs": [
        {
          "output_type": "execute_result",
          "data": {
            "text/plain": [
              "Matrix([\n",
              "[1, 3, 5],\n",
              "[8, 6, 4]])"
            ],
            "text/latex": "$\\displaystyle \\left[\\begin{matrix}1 & 3 & 5\\\\8 & 6 & 4\\end{matrix}\\right]$"
          },
          "metadata": {},
          "execution_count": 1
        }
      ],
      "source": [
        "from sympy import *\n",
        "A = Matrix([[1,3,5],[8,6,4]])\n",
        "A"
      ]
    },
    {
      "cell_type": "code",
      "execution_count": null,
      "id": "e4801c75",
      "metadata": {
        "id": "e4801c75",
        "outputId": "60391cd3-e515-4d3e-ddb0-5d5ecbe7b2e0",
        "colab": {
          "base_uri": "https://localhost:8080/"
        }
      },
      "outputs": [
        {
          "output_type": "stream",
          "name": "stdout",
          "text": [
            "(2,1)成分 = 8\n",
            "(1,3)成分 = 5\n"
          ]
        }
      ],
      "source": [
        "print('(2,1)成分 =',A[1,0])\n",
        "print('(1,3)成分 =',A[0,2])"
      ]
    },
    {
      "cell_type": "code",
      "execution_count": null,
      "id": "732c5111",
      "metadata": {
        "id": "732c5111",
        "outputId": "e3024f0b-6fcb-4fb6-cd96-8a01ce633f37",
        "colab": {
          "base_uri": "https://localhost:8080/",
          "height": 116
        }
      },
      "outputs": [
        {
          "output_type": "stream",
          "name": "stdout",
          "text": [
            "第1行 =\n"
          ]
        },
        {
          "output_type": "display_data",
          "data": {
            "text/plain": [
              "Matrix([[1, 3, 5]])"
            ],
            "text/latex": "$\\displaystyle \\left[\\begin{matrix}1 & 3 & 5\\end{matrix}\\right]$"
          },
          "metadata": {}
        },
        {
          "output_type": "stream",
          "name": "stdout",
          "text": [
            "第2列 =\n"
          ]
        },
        {
          "output_type": "display_data",
          "data": {
            "text/plain": [
              "Matrix([\n",
              "[3],\n",
              "[6]])"
            ],
            "text/latex": "$\\displaystyle \\left[\\begin{matrix}3\\\\6\\end{matrix}\\right]$"
          },
          "metadata": {}
        }
      ],
      "source": [
        "print('第1行 ='); display(A.row(0))\n",
        "print('第2列 ='); display(A.col(1))"
      ]
    },
    {
      "cell_type": "markdown",
      "source": [
        "**演習2.2**"
      ],
      "metadata": {
        "id": "k49tjIMSLlM8"
      },
      "id": "k49tjIMSLlM8"
    },
    {
      "cell_type": "code",
      "execution_count": null,
      "id": "9e4d0246",
      "metadata": {
        "id": "9e4d0246",
        "outputId": "f77076f3-e877-4c08-c51d-d700ecb061b5",
        "colab": {
          "base_uri": "https://localhost:8080/",
          "height": 58
        }
      },
      "outputs": [
        {
          "output_type": "execute_result",
          "data": {
            "text/plain": [
              "Matrix([\n",
              "[a + 1, b + 2, c + 3],\n",
              "[    7,     7,     7]])"
            ],
            "text/latex": "$\\displaystyle \\left[\\begin{matrix}a + 1 & b + 2 & c + 3\\\\7 & 7 & 7\\end{matrix}\\right]$"
          },
          "metadata": {},
          "execution_count": 5
        }
      ],
      "source": [
        "from sympy import *\n",
        "# 使用するアルファベットを記号として定義\n",
        "var(\"a:c\"); var(\"x:z\")\n",
        "Matrix([[1,2,3],[4,5,6]]) + Matrix([[a,b,c],[3,2,1]])"
      ]
    },
    {
      "cell_type": "code",
      "execution_count": null,
      "id": "ccc8d86a",
      "metadata": {
        "id": "ccc8d86a",
        "outputId": "0784f697-9710-4676-e17d-56bf08de2101",
        "colab": {
          "base_uri": "https://localhost:8080/",
          "height": 58
        }
      },
      "outputs": [
        {
          "output_type": "execute_result",
          "data": {
            "text/plain": [
              "Matrix([\n",
              "[  3,   6,   9],\n",
              "[3*a, 3*b, 3*c]])"
            ],
            "text/latex": "$\\displaystyle \\left[\\begin{matrix}3 & 6 & 9\\\\3 a & 3 b & 3 c\\end{matrix}\\right]$"
          },
          "metadata": {},
          "execution_count": 6
        }
      ],
      "source": [
        "3 * Matrix([[1,2,3],[a,b,c]])"
      ]
    },
    {
      "cell_type": "code",
      "execution_count": null,
      "id": "cdc4a54f",
      "metadata": {
        "id": "cdc4a54f",
        "outputId": "bb01e0eb-cdb9-4157-cb73-4baf98fe1a09",
        "colab": {
          "base_uri": "https://localhost:8080/",
          "height": 78
        }
      },
      "outputs": [
        {
          "output_type": "execute_result",
          "data": {
            "text/plain": [
              "Matrix([\n",
              "[-3, a - x],\n",
              "[-3, b - y],\n",
              "[-3, c - z]])"
            ],
            "text/latex": "$\\displaystyle \\left[\\begin{matrix}-3 & a - x\\\\-3 & b - y\\\\-3 & c - z\\end{matrix}\\right]$"
          },
          "metadata": {},
          "execution_count": 7
        }
      ],
      "source": [
        "Matrix([[1,a],[2,b],[3,c]]) - Matrix([[4,x],[5,y],[6,z]])"
      ]
    },
    {
      "cell_type": "markdown",
      "source": [
        "**演習2.3**"
      ],
      "metadata": {
        "id": "h_yRoz_ZOIIF"
      },
      "id": "h_yRoz_ZOIIF"
    },
    {
      "cell_type": "code",
      "execution_count": null,
      "id": "a139e3b9",
      "metadata": {
        "id": "a139e3b9",
        "outputId": "ffc8f8b2-830e-44ef-a443-a0e366cdcedb",
        "colab": {
          "base_uri": "https://localhost:8080/",
          "height": 58
        }
      },
      "outputs": [
        {
          "output_type": "execute_result",
          "data": {
            "text/plain": [
              "Matrix([\n",
              "[14, 23],\n",
              "[ 8, 27]])"
            ],
            "text/latex": "$\\displaystyle \\left[\\begin{matrix}14 & 23\\\\8 & 27\\end{matrix}\\right]$"
          },
          "metadata": {},
          "execution_count": 8
        }
      ],
      "source": [
        "from sympy import *\n",
        "A = Matrix([[3,5,1],[4,1,2]])\n",
        "B = Matrix([[1,5],[2,1],[1,3]])\n",
        "A*B"
      ]
    },
    {
      "cell_type": "code",
      "execution_count": null,
      "id": "90ca430b",
      "metadata": {
        "id": "90ca430b",
        "outputId": "8f6f747d-ab06-4374-aac6-de5ee6dede61",
        "colab": {
          "base_uri": "https://localhost:8080/",
          "height": 78
        }
      },
      "outputs": [
        {
          "output_type": "execute_result",
          "data": {
            "text/plain": [
              "Matrix([\n",
              "[23, 10, 11],\n",
              "[10, 11,  4],\n",
              "[15,  8,  7]])"
            ],
            "text/latex": "$\\displaystyle \\left[\\begin{matrix}23 & 10 & 11\\\\10 & 11 & 4\\\\15 & 8 & 7\\end{matrix}\\right]$"
          },
          "metadata": {},
          "execution_count": 9
        }
      ],
      "source": [
        "B*A"
      ]
    },
    {
      "cell_type": "markdown",
      "source": [
        "**演習2.4**"
      ],
      "metadata": {
        "id": "OFEoJW8UPmXv"
      },
      "id": "OFEoJW8UPmXv"
    },
    {
      "cell_type": "code",
      "source": [
        "from sympy import *\n",
        "# 使用する記号を定義\n",
        "var(\"a:d\")\n",
        "A = Matrix([[a,b],[c,d]])\n",
        "I = eye(2)\n",
        "print('A ='); display(A)\n",
        "print('I ='); display(I)\n",
        "print('AI ='); display(A*I)\n",
        "print('IA ='); display(I*A)"
      ],
      "metadata": {
        "colab": {
          "base_uri": "https://localhost:8080/",
          "height": 254
        },
        "id": "2doaah11P_h7",
        "outputId": "3756a727-91ee-4ba3-8200-6357bda1fd19"
      },
      "id": "2doaah11P_h7",
      "execution_count": null,
      "outputs": [
        {
          "output_type": "stream",
          "name": "stdout",
          "text": [
            "A =\n"
          ]
        },
        {
          "output_type": "display_data",
          "data": {
            "text/plain": [
              "Matrix([\n",
              "[a, b],\n",
              "[c, d]])"
            ],
            "text/latex": "$\\displaystyle \\left[\\begin{matrix}a & b\\\\c & d\\end{matrix}\\right]$"
          },
          "metadata": {}
        },
        {
          "output_type": "stream",
          "name": "stdout",
          "text": [
            "I =\n"
          ]
        },
        {
          "output_type": "display_data",
          "data": {
            "text/plain": [
              "Matrix([\n",
              "[1, 0],\n",
              "[0, 1]])"
            ],
            "text/latex": "$\\displaystyle \\left[\\begin{matrix}1 & 0\\\\0 & 1\\end{matrix}\\right]$"
          },
          "metadata": {}
        },
        {
          "output_type": "stream",
          "name": "stdout",
          "text": [
            "AI =\n"
          ]
        },
        {
          "output_type": "display_data",
          "data": {
            "text/plain": [
              "Matrix([\n",
              "[a, b],\n",
              "[c, d]])"
            ],
            "text/latex": "$\\displaystyle \\left[\\begin{matrix}a & b\\\\c & d\\end{matrix}\\right]$"
          },
          "metadata": {}
        },
        {
          "output_type": "stream",
          "name": "stdout",
          "text": [
            "IA =\n"
          ]
        },
        {
          "output_type": "display_data",
          "data": {
            "text/plain": [
              "Matrix([\n",
              "[a, b],\n",
              "[c, d]])"
            ],
            "text/latex": "$\\displaystyle \\left[\\begin{matrix}a & b\\\\c & d\\end{matrix}\\right]$"
          },
          "metadata": {}
        }
      ]
    },
    {
      "cell_type": "markdown",
      "source": [
        "**演習2.5**"
      ],
      "metadata": {
        "id": "d8FyN8U-QeOr"
      },
      "id": "d8FyN8U-QeOr"
    },
    {
      "cell_type": "code",
      "source": [
        "from sympy import *\n",
        "A = Matrix([[1,2,3],[4,5,6]])\n",
        "print('A ='); display(A)\n",
        "print('Aの転置行列 ='); display(A.T)\n",
        "print('Aの転置行列 ='); display(transpose(A))"
      ],
      "metadata": {
        "colab": {
          "base_uri": "https://localhost:8080/",
          "height": 235
        },
        "id": "YqH77cnJQgs_",
        "outputId": "9b799b84-cdf2-46b2-da67-ac28ad8769dc"
      },
      "id": "YqH77cnJQgs_",
      "execution_count": null,
      "outputs": [
        {
          "output_type": "stream",
          "name": "stdout",
          "text": [
            "A =\n"
          ]
        },
        {
          "output_type": "display_data",
          "data": {
            "text/plain": [
              "Matrix([\n",
              "[1, 2, 3],\n",
              "[4, 5, 6]])"
            ],
            "text/latex": "$\\displaystyle \\left[\\begin{matrix}1 & 2 & 3\\\\4 & 5 & 6\\end{matrix}\\right]$"
          },
          "metadata": {}
        },
        {
          "output_type": "stream",
          "name": "stdout",
          "text": [
            "Aの転置行列 =\n"
          ]
        },
        {
          "output_type": "display_data",
          "data": {
            "text/plain": [
              "Matrix([\n",
              "[1, 4],\n",
              "[2, 5],\n",
              "[3, 6]])"
            ],
            "text/latex": "$\\displaystyle \\left[\\begin{matrix}1 & 4\\\\2 & 5\\\\3 & 6\\end{matrix}\\right]$"
          },
          "metadata": {}
        },
        {
          "output_type": "stream",
          "name": "stdout",
          "text": [
            "Aの転置行列 =\n"
          ]
        },
        {
          "output_type": "display_data",
          "data": {
            "text/plain": [
              "Matrix([\n",
              "[1, 4],\n",
              "[2, 5],\n",
              "[3, 6]])"
            ],
            "text/latex": "$\\displaystyle \\left[\\begin{matrix}1 & 4\\\\2 & 5\\\\3 & 6\\end{matrix}\\right]$"
          },
          "metadata": {}
        }
      ]
    },
    {
      "cell_type": "markdown",
      "source": [
        "**演習2.6**"
      ],
      "metadata": {
        "id": "ZVWp1aPuSsig"
      },
      "id": "ZVWp1aPuSsig"
    },
    {
      "cell_type": "code",
      "source": [
        "from sympy import *\n",
        "var('a11,a12,a13,a21,a22,a23,a31,a32,a33')\n",
        "var('b11,b12,b13,b21,b22,b23,b31,b32,b33')\n",
        "var('alpha')\n",
        "A = Matrix([[a11,a12,a13],[a21,a22,a23],[a31,a32,a33]])\n",
        "B = Matrix([[b11,b12,b13],[b21,b22,b23],[b31,b32,b33]])\n",
        "print('A = '); display(A)\n",
        "print('B = '); display(B)\n",
        "print('(1)')\n",
        "print('(A^T)^T = '); display(A.T.T)\n",
        "print('(2)')\n",
        "print('A^T+B^T = '); display(A.T+B.T)\n",
        "print('(A+B)^T = '); display((A+B).T)\n",
        "print('(3)')\n",
        "print('(alpha * A)^T = '); display((alpha * A).T)\n",
        "print('alpha * A^T = '); display(alpha * A.T)\n",
        "print('(4)')\n",
        "print('(A * B)^T = '); display((A * B).T)\n",
        "print('B^T +A^T = '); display((B.T * A.T))"
      ],
      "metadata": {
        "id": "hQkC8AJdSul0",
        "outputId": "e705629b-fbf4-40d4-a40d-6507d528f777",
        "colab": {
          "base_uri": "https://localhost:8080/",
          "height": 807
        }
      },
      "id": "hQkC8AJdSul0",
      "execution_count": null,
      "outputs": [
        {
          "output_type": "stream",
          "name": "stdout",
          "text": [
            "A = \n"
          ]
        },
        {
          "output_type": "display_data",
          "data": {
            "text/plain": [
              "Matrix([\n",
              "[a11, a12, a13],\n",
              "[a21, a22, a23],\n",
              "[a31, a32, a33]])"
            ],
            "text/latex": "$\\displaystyle \\left[\\begin{matrix}a_{11} & a_{12} & a_{13}\\\\a_{21} & a_{22} & a_{23}\\\\a_{31} & a_{32} & a_{33}\\end{matrix}\\right]$"
          },
          "metadata": {}
        },
        {
          "output_type": "stream",
          "name": "stdout",
          "text": [
            "B = \n"
          ]
        },
        {
          "output_type": "display_data",
          "data": {
            "text/plain": [
              "Matrix([\n",
              "[b11, b12, b13],\n",
              "[b21, b22, b23],\n",
              "[b31, b32, b33]])"
            ],
            "text/latex": "$\\displaystyle \\left[\\begin{matrix}b_{11} & b_{12} & b_{13}\\\\b_{21} & b_{22} & b_{23}\\\\b_{31} & b_{32} & b_{33}\\end{matrix}\\right]$"
          },
          "metadata": {}
        },
        {
          "output_type": "stream",
          "name": "stdout",
          "text": [
            "(1)\n",
            "(A^T)^T = \n"
          ]
        },
        {
          "output_type": "display_data",
          "data": {
            "text/plain": [
              "Matrix([\n",
              "[a11, a12, a13],\n",
              "[a21, a22, a23],\n",
              "[a31, a32, a33]])"
            ],
            "text/latex": "$\\displaystyle \\left[\\begin{matrix}a_{11} & a_{12} & a_{13}\\\\a_{21} & a_{22} & a_{23}\\\\a_{31} & a_{32} & a_{33}\\end{matrix}\\right]$"
          },
          "metadata": {}
        },
        {
          "output_type": "stream",
          "name": "stdout",
          "text": [
            "(2)\n",
            "A^T+B^T = \n"
          ]
        },
        {
          "output_type": "display_data",
          "data": {
            "text/plain": [
              "Matrix([\n",
              "[a11 + b11, a21 + b21, a31 + b31],\n",
              "[a12 + b12, a22 + b22, a32 + b32],\n",
              "[a13 + b13, a23 + b23, a33 + b33]])"
            ],
            "text/latex": "$\\displaystyle \\left[\\begin{matrix}a_{11} + b_{11} & a_{21} + b_{21} & a_{31} + b_{31}\\\\a_{12} + b_{12} & a_{22} + b_{22} & a_{32} + b_{32}\\\\a_{13} + b_{13} & a_{23} + b_{23} & a_{33} + b_{33}\\end{matrix}\\right]$"
          },
          "metadata": {}
        },
        {
          "output_type": "stream",
          "name": "stdout",
          "text": [
            "(A+B)^T = \n"
          ]
        },
        {
          "output_type": "display_data",
          "data": {
            "text/plain": [
              "Matrix([\n",
              "[a11 + b11, a21 + b21, a31 + b31],\n",
              "[a12 + b12, a22 + b22, a32 + b32],\n",
              "[a13 + b13, a23 + b23, a33 + b33]])"
            ],
            "text/latex": "$\\displaystyle \\left[\\begin{matrix}a_{11} + b_{11} & a_{21} + b_{21} & a_{31} + b_{31}\\\\a_{12} + b_{12} & a_{22} + b_{22} & a_{32} + b_{32}\\\\a_{13} + b_{13} & a_{23} + b_{23} & a_{33} + b_{33}\\end{matrix}\\right]$"
          },
          "metadata": {}
        },
        {
          "output_type": "stream",
          "name": "stdout",
          "text": [
            "(3)\n",
            "(alpha * A)^T = \n"
          ]
        },
        {
          "output_type": "display_data",
          "data": {
            "text/plain": [
              "Matrix([\n",
              "[a11*alpha, a21*alpha, a31*alpha],\n",
              "[a12*alpha, a22*alpha, a32*alpha],\n",
              "[a13*alpha, a23*alpha, a33*alpha]])"
            ],
            "text/latex": "$\\displaystyle \\left[\\begin{matrix}a_{11} \\alpha & a_{21} \\alpha & a_{31} \\alpha\\\\a_{12} \\alpha & a_{22} \\alpha & a_{32} \\alpha\\\\a_{13} \\alpha & a_{23} \\alpha & a_{33} \\alpha\\end{matrix}\\right]$"
          },
          "metadata": {}
        },
        {
          "output_type": "stream",
          "name": "stdout",
          "text": [
            "alpha * A^T = \n"
          ]
        },
        {
          "output_type": "display_data",
          "data": {
            "text/plain": [
              "Matrix([\n",
              "[a11*alpha, a21*alpha, a31*alpha],\n",
              "[a12*alpha, a22*alpha, a32*alpha],\n",
              "[a13*alpha, a23*alpha, a33*alpha]])"
            ],
            "text/latex": "$\\displaystyle \\left[\\begin{matrix}a_{11} \\alpha & a_{21} \\alpha & a_{31} \\alpha\\\\a_{12} \\alpha & a_{22} \\alpha & a_{32} \\alpha\\\\a_{13} \\alpha & a_{23} \\alpha & a_{33} \\alpha\\end{matrix}\\right]$"
          },
          "metadata": {}
        },
        {
          "output_type": "stream",
          "name": "stdout",
          "text": [
            "(4)\n",
            "(A * B)^T = \n"
          ]
        },
        {
          "output_type": "display_data",
          "data": {
            "text/plain": [
              "Matrix([\n",
              "[a11*b11 + a12*b21 + a13*b31, a21*b11 + a22*b21 + a23*b31, a31*b11 + a32*b21 + a33*b31],\n",
              "[a11*b12 + a12*b22 + a13*b32, a21*b12 + a22*b22 + a23*b32, a31*b12 + a32*b22 + a33*b32],\n",
              "[a11*b13 + a12*b23 + a13*b33, a21*b13 + a22*b23 + a23*b33, a31*b13 + a32*b23 + a33*b33]])"
            ],
            "text/latex": "$\\displaystyle \\left[\\begin{matrix}a_{11} b_{11} + a_{12} b_{21} + a_{13} b_{31} & a_{21} b_{11} + a_{22} b_{21} + a_{23} b_{31} & a_{31} b_{11} + a_{32} b_{21} + a_{33} b_{31}\\\\a_{11} b_{12} + a_{12} b_{22} + a_{13} b_{32} & a_{21} b_{12} + a_{22} b_{22} + a_{23} b_{32} & a_{31} b_{12} + a_{32} b_{22} + a_{33} b_{32}\\\\a_{11} b_{13} + a_{12} b_{23} + a_{13} b_{33} & a_{21} b_{13} + a_{22} b_{23} + a_{23} b_{33} & a_{31} b_{13} + a_{32} b_{23} + a_{33} b_{33}\\end{matrix}\\right]$"
          },
          "metadata": {}
        },
        {
          "output_type": "stream",
          "name": "stdout",
          "text": [
            "B^T +A^T = \n"
          ]
        },
        {
          "output_type": "display_data",
          "data": {
            "text/plain": [
              "Matrix([\n",
              "[a11*b11 + a12*b21 + a13*b31, a21*b11 + a22*b21 + a23*b31, a31*b11 + a32*b21 + a33*b31],\n",
              "[a11*b12 + a12*b22 + a13*b32, a21*b12 + a22*b22 + a23*b32, a31*b12 + a32*b22 + a33*b32],\n",
              "[a11*b13 + a12*b23 + a13*b33, a21*b13 + a22*b23 + a23*b33, a31*b13 + a32*b23 + a33*b33]])"
            ],
            "text/latex": "$\\displaystyle \\left[\\begin{matrix}a_{11} b_{11} + a_{12} b_{21} + a_{13} b_{31} & a_{21} b_{11} + a_{22} b_{21} + a_{23} b_{31} & a_{31} b_{11} + a_{32} b_{21} + a_{33} b_{31}\\\\a_{11} b_{12} + a_{12} b_{22} + a_{13} b_{32} & a_{21} b_{12} + a_{22} b_{22} + a_{23} b_{32} & a_{31} b_{12} + a_{32} b_{22} + a_{33} b_{32}\\\\a_{11} b_{13} + a_{12} b_{23} + a_{13} b_{33} & a_{21} b_{13} + a_{22} b_{23} + a_{23} b_{33} & a_{31} b_{13} + a_{32} b_{23} + a_{33} b_{33}\\end{matrix}\\right]$"
          },
          "metadata": {}
        }
      ]
    },
    {
      "cell_type": "markdown",
      "source": [
        "**問2.1**"
      ],
      "metadata": {
        "id": "xef7DctxTYx6"
      },
      "id": "xef7DctxTYx6"
    },
    {
      "cell_type": "markdown",
      "source": [
        "#練習問題"
      ],
      "metadata": {
        "id": "5hMN7yrgUuVp"
      },
      "id": "5hMN7yrgUuVp"
    },
    {
      "cell_type": "markdown",
      "source": [
        "**2.1**"
      ],
      "metadata": {
        "id": "EM35U92TgZ9P"
      },
      "id": "EM35U92TgZ9P"
    },
    {
      "cell_type": "code",
      "execution_count": null,
      "id": "d4841417",
      "metadata": {
        "id": "d4841417",
        "outputId": "16461df1-1c8e-4c58-dd83-cffe4ceaa1c3",
        "colab": {
          "base_uri": "https://localhost:8080/",
          "height": 98
        }
      },
      "outputs": [
        {
          "output_type": "display_data",
          "data": {
            "text/plain": [
              "Matrix([\n",
              "[a11*b11*c11 + a11*b12*c21 + a12*b21*c11 + a12*b22*c21, a11*b11*c12 + a11*b12*c22 + a12*b21*c12 + a12*b22*c22],\n",
              "[a21*b11*c11 + a21*b12*c21 + a22*b21*c11 + a22*b22*c21, a21*b11*c12 + a21*b12*c22 + a22*b21*c12 + a22*b22*c22]])"
            ],
            "text/latex": "$\\displaystyle \\left[\\begin{matrix}a_{11} b_{11} c_{11} + a_{11} b_{12} c_{21} + a_{12} b_{21} c_{11} + a_{12} b_{22} c_{21} & a_{11} b_{11} c_{12} + a_{11} b_{12} c_{22} + a_{12} b_{21} c_{12} + a_{12} b_{22} c_{22}\\\\a_{21} b_{11} c_{11} + a_{21} b_{12} c_{21} + a_{22} b_{21} c_{11} + a_{22} b_{22} c_{21} & a_{21} b_{11} c_{12} + a_{21} b_{12} c_{22} + a_{22} b_{21} c_{12} + a_{22} b_{22} c_{22}\\end{matrix}\\right]$"
          },
          "metadata": {}
        },
        {
          "output_type": "execute_result",
          "data": {
            "text/plain": [
              "Matrix([\n",
              "[a11*b11*c11 + a11*b12*c21 + a12*b21*c11 + a12*b22*c21, a11*b11*c12 + a11*b12*c22 + a12*b21*c12 + a12*b22*c22],\n",
              "[a21*b11*c11 + a21*b12*c21 + a22*b21*c11 + a22*b22*c21, a21*b11*c12 + a21*b12*c22 + a22*b21*c12 + a22*b22*c22]])"
            ],
            "text/latex": "$\\displaystyle \\left[\\begin{matrix}a_{11} b_{11} c_{11} + a_{11} b_{12} c_{21} + a_{12} b_{21} c_{11} + a_{12} b_{22} c_{21} & a_{11} b_{11} c_{12} + a_{11} b_{12} c_{22} + a_{12} b_{21} c_{12} + a_{12} b_{22} c_{22}\\\\a_{21} b_{11} c_{11} + a_{21} b_{12} c_{21} + a_{22} b_{21} c_{11} + a_{22} b_{22} c_{21} & a_{21} b_{11} c_{12} + a_{21} b_{12} c_{22} + a_{22} b_{21} c_{12} + a_{22} b_{22} c_{22}\\end{matrix}\\right]$"
          },
          "metadata": {},
          "execution_count": 21
        }
      ],
      "source": [
        "from sympy import *\n",
        "# 使用する記号定義\n",
        "var(\"a11, a12, a21, a22\")\n",
        "var(\"b11, b12, b21, b22\")\n",
        "var(\"c11, c12, c21, c22\")\n",
        "A = Matrix([[a11,a12],[a21,a22]])\n",
        "B = Matrix([[b11,b12],[b21,b22]])\n",
        "C = Matrix([[c11,c12],[c21,c22]])\n",
        "display(expand(A*(B*C)))\n",
        "expand((A*B)*C)"
      ]
    },
    {
      "cell_type": "code",
      "execution_count": null,
      "id": "1bb9494b",
      "metadata": {
        "id": "1bb9494b",
        "outputId": "f6da3e55-7eb5-40ca-81f5-82965bdab5f7",
        "colab": {
          "base_uri": "https://localhost:8080/",
          "height": 98
        }
      },
      "outputs": [
        {
          "output_type": "display_data",
          "data": {
            "text/plain": [
              "Matrix([\n",
              "[a11*b11 + a11*c11 + a12*b21 + a12*c21, a11*b12 + a11*c12 + a12*b22 + a12*c22],\n",
              "[a21*b11 + a21*c11 + a22*b21 + a22*c21, a21*b12 + a21*c12 + a22*b22 + a22*c22]])"
            ],
            "text/latex": "$\\displaystyle \\left[\\begin{matrix}a_{11} b_{11} + a_{11} c_{11} + a_{12} b_{21} + a_{12} c_{21} & a_{11} b_{12} + a_{11} c_{12} + a_{12} b_{22} + a_{12} c_{22}\\\\a_{21} b_{11} + a_{21} c_{11} + a_{22} b_{21} + a_{22} c_{21} & a_{21} b_{12} + a_{21} c_{12} + a_{22} b_{22} + a_{22} c_{22}\\end{matrix}\\right]$"
          },
          "metadata": {}
        },
        {
          "output_type": "execute_result",
          "data": {
            "text/plain": [
              "Matrix([\n",
              "[a11*b11 + a11*c11 + a12*b21 + a12*c21, a11*b12 + a11*c12 + a12*b22 + a12*c22],\n",
              "[a21*b11 + a21*c11 + a22*b21 + a22*c21, a21*b12 + a21*c12 + a22*b22 + a22*c22]])"
            ],
            "text/latex": "$\\displaystyle \\left[\\begin{matrix}a_{11} b_{11} + a_{11} c_{11} + a_{12} b_{21} + a_{12} c_{21} & a_{11} b_{12} + a_{11} c_{12} + a_{12} b_{22} + a_{12} c_{22}\\\\a_{21} b_{11} + a_{21} c_{11} + a_{22} b_{21} + a_{22} c_{21} & a_{21} b_{12} + a_{21} c_{12} + a_{22} b_{22} + a_{22} c_{22}\\end{matrix}\\right]$"
          },
          "metadata": {},
          "execution_count": 23
        }
      ],
      "source": [
        "display(expand(A*(B+C)))\n",
        "A*B+A*C"
      ]
    },
    {
      "cell_type": "code",
      "execution_count": null,
      "id": "ce2e0748",
      "metadata": {
        "id": "ce2e0748",
        "outputId": "b68bc41b-8439-494c-d536-448bf1750782",
        "colab": {
          "base_uri": "https://localhost:8080/",
          "height": 98
        }
      },
      "outputs": [
        {
          "output_type": "display_data",
          "data": {
            "text/plain": [
              "Matrix([\n",
              "[a11*b11 + a11*c11 + a21*b12 + a21*c12, a12*b11 + a12*c11 + a22*b12 + a22*c12],\n",
              "[a11*b21 + a11*c21 + a21*b22 + a21*c22, a12*b21 + a12*c21 + a22*b22 + a22*c22]])"
            ],
            "text/latex": "$\\displaystyle \\left[\\begin{matrix}a_{11} b_{11} + a_{11} c_{11} + a_{21} b_{12} + a_{21} c_{12} & a_{12} b_{11} + a_{12} c_{11} + a_{22} b_{12} + a_{22} c_{12}\\\\a_{11} b_{21} + a_{11} c_{21} + a_{21} b_{22} + a_{21} c_{22} & a_{12} b_{21} + a_{12} c_{21} + a_{22} b_{22} + a_{22} c_{22}\\end{matrix}\\right]$"
          },
          "metadata": {}
        },
        {
          "output_type": "execute_result",
          "data": {
            "text/plain": [
              "Matrix([\n",
              "[a11*b11 + a11*c11 + a21*b12 + a21*c12, a12*b11 + a12*c11 + a22*b12 + a22*c12],\n",
              "[a11*b21 + a11*c21 + a21*b22 + a21*c22, a12*b21 + a12*c21 + a22*b22 + a22*c22]])"
            ],
            "text/latex": "$\\displaystyle \\left[\\begin{matrix}a_{11} b_{11} + a_{11} c_{11} + a_{21} b_{12} + a_{21} c_{12} & a_{12} b_{11} + a_{12} c_{11} + a_{22} b_{12} + a_{22} c_{12}\\\\a_{11} b_{21} + a_{11} c_{21} + a_{21} b_{22} + a_{21} c_{22} & a_{12} b_{21} + a_{12} c_{21} + a_{22} b_{22} + a_{22} c_{22}\\end{matrix}\\right]$"
          },
          "metadata": {},
          "execution_count": 24
        }
      ],
      "source": [
        "display(expand((B+C)*A))\n",
        "B*A+C*A"
      ]
    },
    {
      "cell_type": "markdown",
      "source": [
        "**2.2**\n",
        "\n",
        "行列$A$と$B$を各々，\n",
        "$A=(a_{ij}),\\quad  B=(b_{ij})$と表記し，さらに，$A$の$i$行ベクトルと\n",
        "$B$の$j$列ベクトルを各々，\n",
        "$$\n",
        "\\boldsymbol{a}_i=(a_{i1}, a_{i2},\\cdots,a_{in}),\\quad\n",
        "\\boldsymbol{b}^j=\n",
        "\\begin{pmatrix}\n",
        "\tb_{1j}\\\\ b_{2j}\\\\\\vdots\\\\b_{m'j}\n",
        "\\end{pmatrix}\n",
        "$$\n",
        "として，\n",
        "$\n",
        "A=\\begin{pmatrix}\n",
        "\t\\boldsymbol{a}_1 \\\\ \\boldsymbol{a}_2\\\\ \\vdots \\\\ \\boldsymbol{a}_m\n",
        "\\end{pmatrix},\\quad\n",
        "B=\\begin{pmatrix}\n",
        "\t\\boldsymbol{b}^1, \\boldsymbol{b}^2, \\cdots , \\boldsymbol{b}^{n'}\n",
        "\\end{pmatrix}\n",
        "$\n",
        "と表記する．\n",
        "\n",
        "転置を行うと，$i$行$j$列成分が$j$行$i$列成分になる事に注意する．\n",
        "\n",
        "(1)\n",
        " $\n",
        "\t\\left(A^\\top\\right)^\\top\n",
        "\t=\\left((a_{ij})^\\top\\right)^\\top\n",
        "\t=(a_{ji})^\\top= (a_{ij})=A.\n",
        "\t$\n",
        "\n",
        "  (2)\n",
        "\t$\n",
        "\t(A+B)^\\top\n",
        "\t= (a_{ij}+b_{ij})^\\top\n",
        "\t= (a_{ji}+b_{ji})\n",
        "\t= A^\\top + B^\\top.\n",
        "\t$\n",
        "\n",
        "  (3)\n",
        "\t$\n",
        "\t(\\alpha A)^\\top =\n",
        "\t(\\alpha a_{ij})^\\top\n",
        "\t= (\\alpha a_{ji}) = \\alpha (a_{ji})= \\alpha A^\\top.  \n",
        "\t$\n",
        "\n",
        "(4)\n",
        "\t$\n",
        "\t(AB)^\\top\n",
        "\t=(\\boldsymbol{a}_i\\cdot \\boldsymbol{b}^j )^\\top\n",
        "\t=(\\boldsymbol{a}_j\\cdot \\boldsymbol{b}^i )\n",
        "\t=((\\boldsymbol{b}^i)^\\top\\cdot (\\boldsymbol{a}_j)^\\top )\n",
        "\t= B^\\top A^\\top.\n",
        "\t$\n"
      ],
      "metadata": {
        "id": "4TnBdjXdeZg1"
      },
      "id": "4TnBdjXdeZg1"
    },
    {
      "cell_type": "markdown",
      "source": [
        "# 第3章"
      ],
      "metadata": {
        "id": "usSegOpjZP4B"
      },
      "id": "usSegOpjZP4B"
    },
    {
      "cell_type": "markdown",
      "source": [
        "**演習3.1**"
      ],
      "metadata": {
        "id": "VDBT4UHbZ-44"
      },
      "id": "VDBT4UHbZ-44"
    },
    {
      "cell_type": "code",
      "source": [
        "from sympy import *\n",
        "Ab=Matrix([[0,  0, 2, 1],\n",
        "                       [-2, 1, 1, -1],\n",
        "                       [1,  0, 5, 2],\n",
        "                       [0,  0, 4, 2]]);\n",
        "Ab"
      ],
      "metadata": {
        "id": "HyP4AM-HaEla",
        "outputId": "23010122-96c6-4dab-b18e-dfbc14d5df85",
        "colab": {
          "base_uri": "https://localhost:8080/",
          "height": 98
        }
      },
      "id": "HyP4AM-HaEla",
      "execution_count": null,
      "outputs": [
        {
          "output_type": "execute_result",
          "data": {
            "text/plain": [
              "Matrix([\n",
              "[ 0, 0, 2,  1],\n",
              "[-2, 1, 1, -1],\n",
              "[ 1, 0, 5,  2],\n",
              "[ 0, 0, 4,  2]])"
            ],
            "text/latex": "$\\displaystyle \\left[\\begin{matrix}0 & 0 & 2 & 1\\\\-2 & 1 & 1 & -1\\\\1 & 0 & 5 & 2\\\\0 & 0 & 4 & 2\\end{matrix}\\right]$"
          },
          "metadata": {},
          "execution_count": 6
        }
      ]
    },
    {
      "cell_type": "code",
      "source": [
        "Ab.rref()[0]"
      ],
      "metadata": {
        "id": "No3kG47MaQEY",
        "outputId": "41ea26f6-f3f3-4e66-94f4-0b7f8e4f3ade",
        "colab": {
          "base_uri": "https://localhost:8080/",
          "height": 99
        }
      },
      "id": "No3kG47MaQEY",
      "execution_count": null,
      "outputs": [
        {
          "output_type": "execute_result",
          "data": {
            "text/plain": [
              "Matrix([\n",
              "[1, 0, 0, -1/2],\n",
              "[0, 1, 0, -5/2],\n",
              "[0, 0, 1,  1/2],\n",
              "[0, 0, 0,    0]])"
            ],
            "text/latex": "$\\displaystyle \\left[\\begin{matrix}1 & 0 & 0 & - \\frac{1}{2}\\\\0 & 1 & 0 & - \\frac{5}{2}\\\\0 & 0 & 1 & \\frac{1}{2}\\\\0 & 0 & 0 & 0\\end{matrix}\\right]$"
          },
          "metadata": {},
          "execution_count": 44
        }
      ]
    },
    {
      "cell_type": "markdown",
      "source": [
        "**演習3.2**"
      ],
      "metadata": {
        "id": "88C7ZfZKavMy"
      },
      "id": "88C7ZfZKavMy"
    },
    {
      "cell_type": "code",
      "source": [
        "from sympy import *\n",
        "#拡大係数行列をAbとして生成\n",
        "Ab=Matrix([[0,0,2,1],[-2,1,1,-1],[1,0,5,2],[0,0,4,2]]);\n",
        "Ab"
      ],
      "metadata": {
        "id": "HqfBrTGLazKr",
        "outputId": "9492c0b2-bacf-4514-fe95-df15a4eead84",
        "colab": {
          "base_uri": "https://localhost:8080/",
          "height": 98
        }
      },
      "id": "HqfBrTGLazKr",
      "execution_count": null,
      "outputs": [
        {
          "output_type": "execute_result",
          "data": {
            "text/plain": [
              "Matrix([\n",
              "[ 0, 0, 2,  1],\n",
              "[-2, 1, 1, -1],\n",
              "[ 1, 0, 5,  2],\n",
              "[ 0, 0, 4,  2]])"
            ],
            "text/latex": "$\\displaystyle \\left[\\begin{matrix}0 & 0 & 2 & 1\\\\-2 & 1 & 1 & -1\\\\1 & 0 & 5 & 2\\\\0 & 0 & 4 & 2\\end{matrix}\\right]$"
          },
          "metadata": {},
          "execution_count": 8
        }
      ]
    },
    {
      "cell_type": "code",
      "source": [
        "\tAb.rank()"
      ],
      "metadata": {
        "id": "oHXpDFl9ZdZB",
        "outputId": "5b6300ad-2edb-4723-b360-5a35f87adcc8",
        "colab": {
          "base_uri": "https://localhost:8080/"
        }
      },
      "id": "oHXpDFl9ZdZB",
      "execution_count": null,
      "outputs": [
        {
          "output_type": "execute_result",
          "data": {
            "text/plain": [
              "3"
            ]
          },
          "metadata": {},
          "execution_count": 9
        }
      ]
    },
    {
      "cell_type": "markdown",
      "source": [
        "**問3.1**\n",
        "\n",
        "\\begin{eqnarray*}\n",
        "\t&&\t\\begin{pmatrix}\n",
        "\t\t0 & 0 & 3 & 4 \\\\\n",
        "\t\t1 & 2 & 3 & 1 \\\\\n",
        "\t\t2 & 1 & 1 & 3\n",
        "\t\\end{pmatrix}\\\\\n",
        "\t\\rightarrow&&\n",
        "\t\\begin{pmatrix}\n",
        "\t\t1 & 2 & 3 & 1 \\\\\n",
        "\t\t0 & 0 & 3 & 4 \\\\\n",
        "\t\t2 & 1 & 1 & 3\n",
        "\t\\end{pmatrix}\\quad \\mbox{1行と2行入れ替え}\\\\\n",
        "\t\\rightarrow&&\n",
        "\t\\begin{pmatrix}\n",
        "\t\t1 & 2 & 3 & 1 \\\\\n",
        "\t\t0 & 0 & 3 & 4 \\\\\n",
        "\t\t0 & -3 & -5 & 1\n",
        "\t\\end{pmatrix}\\quad \\mbox{3行$-2\\times1$行}\\\\\n",
        "\t\\rightarrow&&\n",
        "\t\\begin{pmatrix}\n",
        "\t\t1 & 2 & 3 & 1 \\\\\n",
        "\t\t0 & -3 & -5 & 1\\\\\n",
        "\t\t0 & 0 & 3 & 4 \\\\\n",
        "\t\\end{pmatrix}\\quad \\mbox{3行と2行入れ替え}\n",
        "\\end{eqnarray*}\n",
        "階段行列より，階数は3である．"
      ],
      "metadata": {
        "id": "hJOoqq3qbP8G"
      },
      "id": "hJOoqq3qbP8G"
    },
    {
      "cell_type": "markdown",
      "source": [
        "**演習3.3**"
      ],
      "metadata": {
        "id": "27Q11L3MctfA"
      },
      "id": "27Q11L3MctfA"
    },
    {
      "cell_type": "code",
      "source": [
        "from sympy import *\n",
        "\n",
        "print('(1)')\n",
        "# 係数行列と拡大係数行列の生成\n",
        "A=Matrix([[1,2,-3,-4],[2,9,-1,2],[0,1,1,2]])\n",
        "b=Matrix([1,-3,-1])\n",
        "Ab=A.row_join(b)\n",
        "Ab"
      ],
      "metadata": {
        "id": "9g9RaTdcZOhG",
        "outputId": "d6e15928-0150-42dc-a05d-ff86680439b3",
        "colab": {
          "base_uri": "https://localhost:8080/",
          "height": 97
        }
      },
      "id": "9g9RaTdcZOhG",
      "execution_count": null,
      "outputs": [
        {
          "output_type": "stream",
          "name": "stdout",
          "text": [
            "(1)\n"
          ]
        },
        {
          "output_type": "execute_result",
          "data": {
            "text/plain": [
              "Matrix([\n",
              "[1, 2, -3, -4,  1],\n",
              "[2, 9, -1,  2, -3],\n",
              "[0, 1,  1,  2, -1]])"
            ],
            "text/latex": "$\\displaystyle \\left[\\begin{matrix}1 & 2 & -3 & -4 & 1\\\\2 & 9 & -1 & 2 & -3\\\\0 & 1 & 1 & 2 & -1\\end{matrix}\\right]$"
          },
          "metadata": {},
          "execution_count": 10
        }
      ]
    },
    {
      "cell_type": "code",
      "source": [
        "# 拡大係数行列を階段行列にする\n",
        "Ab=Ab.rref()[0]\n",
        "Ab"
      ],
      "metadata": {
        "id": "IEGU3fxddBEn",
        "outputId": "112617d0-2794-4bc5-df2d-61909893f34c",
        "colab": {
          "base_uri": "https://localhost:8080/",
          "height": 78
        }
      },
      "id": "IEGU3fxddBEn",
      "execution_count": null,
      "outputs": [
        {
          "output_type": "execute_result",
          "data": {
            "text/plain": [
              "Matrix([\n",
              "[1, 0, -5, -8,  3],\n",
              "[0, 1,  1,  2, -1],\n",
              "[0, 0,  0,  0,  0]])"
            ],
            "text/latex": "$\\displaystyle \\left[\\begin{matrix}1 & 0 & -5 & -8 & 3\\\\0 & 1 & 1 & 2 & -1\\\\0 & 0 & 0 & 0 & 0\\end{matrix}\\right]$"
          },
          "metadata": {},
          "execution_count": 11
        }
      ]
    },
    {
      "cell_type": "code",
      "source": [
        "# x3 = a, x4 = b として解を求める\n",
        "var('a:b')\n",
        "c=Matrix([0,0,-a,-b,1])\n",
        "Ab*c"
      ],
      "metadata": {
        "id": "Pp7NJ57sdXT9",
        "outputId": "9fbd3e6d-52d6-49af-d162-80d3a108a955",
        "colab": {
          "base_uri": "https://localhost:8080/",
          "height": 78
        }
      },
      "id": "Pp7NJ57sdXT9",
      "execution_count": null,
      "outputs": [
        {
          "output_type": "execute_result",
          "data": {
            "text/plain": [
              "Matrix([\n",
              "[5*a + 8*b + 3],\n",
              "[ -a - 2*b - 1],\n",
              "[            0]])"
            ],
            "text/latex": "$\\displaystyle \\left[\\begin{matrix}5 a + 8 b + 3\\\\- a - 2 b - 1\\\\0\\end{matrix}\\right]$"
          },
          "metadata": {},
          "execution_count": 12
        }
      ]
    },
    {
      "cell_type": "code",
      "source": [
        "print('(2)')\n",
        "# 係数行列と拡大係数行列の生成\n",
        "A=Matrix([[1,1,-1],[2,5,1],[3,6,0]])\n",
        "b=Matrix([1,3,5])\n",
        "Ab=A.row_join(b)\n",
        "Ab"
      ],
      "metadata": {
        "id": "wRWgJjKJeQwJ",
        "outputId": "0633a1b9-7367-4499-e8b7-41b33e9e016e",
        "colab": {
          "base_uri": "https://localhost:8080/",
          "height": 97
        }
      },
      "id": "wRWgJjKJeQwJ",
      "execution_count": null,
      "outputs": [
        {
          "output_type": "stream",
          "name": "stdout",
          "text": [
            "(2)\n"
          ]
        },
        {
          "output_type": "execute_result",
          "data": {
            "text/plain": [
              "Matrix([\n",
              "[1, 1, -1, 1],\n",
              "[2, 5,  1, 3],\n",
              "[3, 6,  0, 5]])"
            ],
            "text/latex": "$\\displaystyle \\left[\\begin{matrix}1 & 1 & -1 & 1\\\\2 & 5 & 1 & 3\\\\3 & 6 & 0 & 5\\end{matrix}\\right]$"
          },
          "metadata": {},
          "execution_count": 13
        }
      ]
    },
    {
      "cell_type": "code",
      "source": [
        "# 拡大係数行列を階段行列にする\n",
        "Ab=Ab.rref()[0]\n",
        "Ab"
      ],
      "metadata": {
        "id": "NCYVux-4ikrD",
        "outputId": "c6db414f-c09e-426d-9e75-b08b3d43a18d",
        "colab": {
          "base_uri": "https://localhost:8080/",
          "height": 78
        }
      },
      "id": "NCYVux-4ikrD",
      "execution_count": null,
      "outputs": [
        {
          "output_type": "execute_result",
          "data": {
            "text/plain": [
              "Matrix([\n",
              "[1, 0, -2, 0],\n",
              "[0, 1,  1, 0],\n",
              "[0, 0,  0, 1]])"
            ],
            "text/latex": "$\\displaystyle \\left[\\begin{matrix}1 & 0 & -2 & 0\\\\0 & 1 & 1 & 0\\\\0 & 0 & 0 & 1\\end{matrix}\\right]$"
          },
          "metadata": {},
          "execution_count": 14
        }
      ]
    },
    {
      "cell_type": "markdown",
      "source": [
        "**問3.2**"
      ],
      "metadata": {
        "id": "boRDMzSg4EeQ"
      },
      "id": "boRDMzSg4EeQ"
    },
    {
      "cell_type": "code",
      "source": [
        "from sympy import *\n",
        "# 係数行列と拡大係数行列の生成\n",
        "A=Matrix([[1,2,3],[2,9,1],[3,1,15]])\n",
        "Ab=A.row_join(Matrix([5,5,10]))\n",
        "Ab"
      ],
      "metadata": {
        "colab": {
          "base_uri": "https://localhost:8080/",
          "height": 78
        },
        "id": "rO62K8kQ4H74",
        "outputId": "87b5d35e-ef59-4781-aff2-92e71c156db1"
      },
      "id": "rO62K8kQ4H74",
      "execution_count": null,
      "outputs": [
        {
          "output_type": "execute_result",
          "data": {
            "text/plain": [
              "Matrix([\n",
              "[1, 2,  3,  5],\n",
              "[2, 9,  1,  5],\n",
              "[3, 1, 15, 10]])"
            ],
            "text/latex": "$\\displaystyle \\left[\\begin{matrix}1 & 2 & 3 & 5\\\\2 & 9 & 1 & 5\\\\3 & 1 & 15 & 10\\end{matrix}\\right]$"
          },
          "metadata": {},
          "execution_count": 15
        }
      ]
    },
    {
      "cell_type": "code",
      "source": [
        "# 拡大係数行列を階段行列にする\n",
        "Ab=Ab.rref()[0]\n",
        "Ab"
      ],
      "metadata": {
        "colab": {
          "base_uri": "https://localhost:8080/",
          "height": 78
        },
        "id": "vZ5oS9Qi4w6f",
        "outputId": "56536609-2b63-45d5-bd5e-715388395020"
      },
      "id": "vZ5oS9Qi4w6f",
      "execution_count": null,
      "outputs": [
        {
          "output_type": "execute_result",
          "data": {
            "text/plain": [
              "Matrix([\n",
              "[1, 0, 0,  57],\n",
              "[0, 1, 0, -11],\n",
              "[0, 0, 1, -10]])"
            ],
            "text/latex": "$\\displaystyle \\left[\\begin{matrix}1 & 0 & 0 & 57\\\\0 & 1 & 0 & -11\\\\0 & 0 & 1 & -10\\end{matrix}\\right]$"
          },
          "metadata": {},
          "execution_count": 16
        }
      ]
    },
    {
      "cell_type": "code",
      "source": [
        "# 解のベクトルを求める\n",
        "x=Ab*Matrix([0,0,0,1])\n",
        "x"
      ],
      "metadata": {
        "colab": {
          "base_uri": "https://localhost:8080/",
          "height": 78
        },
        "id": "GJZ8uxgi4-zB",
        "outputId": "f885e2f3-f7eb-4456-c85b-7e4be832e23b"
      },
      "id": "GJZ8uxgi4-zB",
      "execution_count": null,
      "outputs": [
        {
          "output_type": "execute_result",
          "data": {
            "text/plain": [
              "Matrix([\n",
              "[ 57],\n",
              "[-11],\n",
              "[-10]])"
            ],
            "text/latex": "$\\displaystyle \\left[\\begin{matrix}57\\\\-11\\\\-10\\end{matrix}\\right]$"
          },
          "metadata": {},
          "execution_count": 17
        }
      ]
    },
    {
      "cell_type": "markdown",
      "source": [
        "**演習3.4**"
      ],
      "metadata": {
        "id": "H70MyAtP5p6o"
      },
      "id": "H70MyAtP5p6o"
    },
    {
      "cell_type": "code",
      "source": [
        "#(1)\n",
        "from sympy import *\n",
        "x1,x2,x3,x4 = symbols('x1,x2,x3,x4')\n",
        "solve([Eq(  x1 + 2*x2 - 3*x3 - 4*x4,1),\n",
        "             Eq(2*x1 + 9*x2 -   x3 + 2*x4,-3),\n",
        "             Eq(         x2 +   x3 + 2*x4,-1)],\n",
        "             (x1,x2,x3,x4))"
      ],
      "metadata": {
        "colab": {
          "base_uri": "https://localhost:8080/"
        },
        "id": "KPrT4Cy05r8k",
        "outputId": "35ad8ce7-6a1d-47ad-92a8-d60cb7f5137b"
      },
      "id": "KPrT4Cy05r8k",
      "execution_count": null,
      "outputs": [
        {
          "output_type": "execute_result",
          "data": {
            "text/plain": [
              "{x1: 5*x3 + 8*x4 + 3, x2: -x3 - 2*x4 - 1}"
            ]
          },
          "metadata": {},
          "execution_count": 18
        }
      ]
    },
    {
      "cell_type": "code",
      "source": [
        "#(2)\n",
        "from sympy import *\n",
        "x1,x2,x3 = symbols('x1,x2,x3')\n",
        "solve([Eq(  x1 +   x2 - x3, 1),\n",
        "             Eq(2*x1 + 5*x2 + x3, 3),\n",
        "             Eq(3*x1 + 6*x2,      5)],\n",
        "            (x1,x2,x3))"
      ],
      "metadata": {
        "colab": {
          "base_uri": "https://localhost:8080/"
        },
        "id": "Oj00J4xp6z6k",
        "outputId": "975f43f5-6ce4-4800-e0e5-0af4562f6d0b"
      },
      "id": "Oj00J4xp6z6k",
      "execution_count": null,
      "outputs": [
        {
          "output_type": "execute_result",
          "data": {
            "text/plain": [
              "[]"
            ]
          },
          "metadata": {},
          "execution_count": 19
        }
      ]
    },
    {
      "cell_type": "markdown",
      "source": [
        "**問3.3**"
      ],
      "metadata": {
        "id": "4hi98Qjn7VBq"
      },
      "id": "4hi98Qjn7VBq"
    },
    {
      "cell_type": "code",
      "source": [
        "from sympy import *\n",
        "x1,x2,x3 = symbols('x1,x2,x3')\n",
        "solve([Eq(  x1 + 2*x2 + 3*x3, 5),\n",
        "\t            Eq(2*x1 + 9*x2 +   x3, 5),\n",
        "\t            Eq(3*x1 +   x2 +15*x3, 10)],\n",
        "\t            (x1,x2,x3))"
      ],
      "metadata": {
        "colab": {
          "base_uri": "https://localhost:8080/"
        },
        "id": "Sx0cak7A7Whe",
        "outputId": "2cd66300-7d5f-4ece-9ad6-22134021d1c6"
      },
      "id": "Sx0cak7A7Whe",
      "execution_count": null,
      "outputs": [
        {
          "output_type": "execute_result",
          "data": {
            "text/plain": [
              "{x1: 57, x2: -11, x3: -10}"
            ]
          },
          "metadata": {},
          "execution_count": 20
        }
      ]
    },
    {
      "cell_type": "markdown",
      "source": [
        "**演習3.5**"
      ],
      "metadata": {
        "id": "5xbY7gax_pga"
      },
      "id": "5xbY7gax_pga"
    },
    {
      "cell_type": "code",
      "source": [
        "from sympy import *\n",
        "# 文字列記号の定義\n",
        "var('a:z')\n",
        "# 単位行列の定義\n",
        "I=eye(3); I"
      ],
      "metadata": {
        "colab": {
          "base_uri": "https://localhost:8080/",
          "height": 78
        },
        "id": "QRqidsv1_sCo",
        "outputId": "76c63210-5ff4-4ef3-9135-8c1fd2c7114e"
      },
      "id": "QRqidsv1_sCo",
      "execution_count": null,
      "outputs": [
        {
          "output_type": "execute_result",
          "data": {
            "text/plain": [
              "Matrix([\n",
              "[1, 0, 0],\n",
              "[0, 1, 0],\n",
              "[0, 0, 1]])"
            ],
            "text/latex": "$\\displaystyle \\left[\\begin{matrix}1 & 0 & 0\\\\0 & 1 & 0\\\\0 & 0 & 1\\end{matrix}\\right]$"
          },
          "metadata": {},
          "execution_count": 22
        }
      ]
    },
    {
      "cell_type": "code",
      "source": [
        "# (1)\n",
        "# I型基本行列をI1として生成．\n",
        "I1=Matrix([I.row(1),I.row(0), I.row(2)]); I1"
      ],
      "metadata": {
        "colab": {
          "base_uri": "https://localhost:8080/",
          "height": 78
        },
        "id": "dMfdaJKKAkh5",
        "outputId": "254c2f85-493e-4410-9a31-14f9bc0854ac"
      },
      "id": "dMfdaJKKAkh5",
      "execution_count": null,
      "outputs": [
        {
          "output_type": "execute_result",
          "data": {
            "text/plain": [
              "Matrix([\n",
              "[0, 1, 0],\n",
              "[1, 0, 0],\n",
              "[0, 0, 1]])"
            ],
            "text/latex": "$\\displaystyle \\left[\\begin{matrix}0 & 1 & 0\\\\1 & 0 & 0\\\\0 & 0 & 1\\end{matrix}\\right]$"
          },
          "metadata": {},
          "execution_count": 23
        }
      ]
    },
    {
      "cell_type": "code",
      "source": [
        "A1=Matrix([[b,a,c],[x,y,z]]).T; A1"
      ],
      "metadata": {
        "colab": {
          "base_uri": "https://localhost:8080/",
          "height": 78
        },
        "id": "m1S4NWsUA1kx",
        "outputId": "7c6c0d99-c20e-4af5-f44e-63224eedf557"
      },
      "id": "m1S4NWsUA1kx",
      "execution_count": null,
      "outputs": [
        {
          "output_type": "execute_result",
          "data": {
            "text/plain": [
              "Matrix([\n",
              "[b, x],\n",
              "[a, y],\n",
              "[c, z]])"
            ],
            "text/latex": "$\\displaystyle \\left[\\begin{matrix}b & x\\\\a & y\\\\c & z\\end{matrix}\\right]$"
          },
          "metadata": {},
          "execution_count": 24
        }
      ]
    },
    {
      "cell_type": "code",
      "source": [
        "\tI1*A1"
      ],
      "metadata": {
        "colab": {
          "base_uri": "https://localhost:8080/",
          "height": 78
        },
        "id": "U3P6qpt2BT4_",
        "outputId": "1a383be2-471c-44c5-fcd9-f6263a543029"
      },
      "id": "U3P6qpt2BT4_",
      "execution_count": null,
      "outputs": [
        {
          "output_type": "execute_result",
          "data": {
            "text/plain": [
              "Matrix([\n",
              "[a, y],\n",
              "[b, x],\n",
              "[c, z]])"
            ],
            "text/latex": "$\\displaystyle \\left[\\begin{matrix}a & y\\\\b & x\\\\c & z\\end{matrix}\\right]$"
          },
          "metadata": {},
          "execution_count": 25
        }
      ]
    },
    {
      "cell_type": "code",
      "source": [
        "\t# (2)\n",
        "  # II型基本行列をI2として生成．\n",
        "\tI2=Matrix([I.row(0),I.row(1)/2, I.row(2)]); I2"
      ],
      "metadata": {
        "colab": {
          "base_uri": "https://localhost:8080/",
          "height": 78
        },
        "id": "MNWzTpIgB8Il",
        "outputId": "cd09022f-bbee-4301-97e1-1e94a22fa2c2"
      },
      "id": "MNWzTpIgB8Il",
      "execution_count": null,
      "outputs": [
        {
          "output_type": "execute_result",
          "data": {
            "text/plain": [
              "Matrix([\n",
              "[1,   0, 0],\n",
              "[0, 1/2, 0],\n",
              "[0,   0, 1]])"
            ],
            "text/latex": "$\\displaystyle \\left[\\begin{matrix}1 & 0 & 0\\\\0 & \\frac{1}{2} & 0\\\\0 & 0 & 1\\end{matrix}\\right]$"
          },
          "metadata": {},
          "execution_count": 26
        }
      ]
    },
    {
      "cell_type": "code",
      "source": [
        "A2=Matrix([[a,2*b,c],[x,2*y,z]]).T; A2"
      ],
      "metadata": {
        "colab": {
          "base_uri": "https://localhost:8080/",
          "height": 78
        },
        "id": "t29Nov35CEeb",
        "outputId": "8800561a-2e90-4a84-d3b5-04f1054f9f9d"
      },
      "id": "t29Nov35CEeb",
      "execution_count": null,
      "outputs": [
        {
          "output_type": "execute_result",
          "data": {
            "text/plain": [
              "Matrix([\n",
              "[  a,   x],\n",
              "[2*b, 2*y],\n",
              "[  c,   z]])"
            ],
            "text/latex": "$\\displaystyle \\left[\\begin{matrix}a & x\\\\2 b & 2 y\\\\c & z\\end{matrix}\\right]$"
          },
          "metadata": {},
          "execution_count": 27
        }
      ]
    },
    {
      "cell_type": "code",
      "source": [
        "I2*A2"
      ],
      "metadata": {
        "colab": {
          "base_uri": "https://localhost:8080/",
          "height": 78
        },
        "id": "zibmXgvcCPCI",
        "outputId": "661de1c9-2078-48e5-bfdd-7849d37b4c60"
      },
      "id": "zibmXgvcCPCI",
      "execution_count": null,
      "outputs": [
        {
          "output_type": "execute_result",
          "data": {
            "text/plain": [
              "Matrix([\n",
              "[a, x],\n",
              "[b, y],\n",
              "[c, z]])"
            ],
            "text/latex": "$\\displaystyle \\left[\\begin{matrix}a & x\\\\b & y\\\\c & z\\end{matrix}\\right]$"
          },
          "metadata": {},
          "execution_count": 28
        }
      ]
    },
    {
      "cell_type": "code",
      "source": [
        "# (3)\n",
        "# III型基本行列をI3として生成．\n",
        "I3=Matrix([I.row(0),I.row(1)-3*I.row(0), I.row(2)]); I3"
      ],
      "metadata": {
        "colab": {
          "base_uri": "https://localhost:8080/",
          "height": 78
        },
        "id": "3apy9QXpCYDG",
        "outputId": "cd8fe82a-2cd9-426c-a420-3455e2214830"
      },
      "id": "3apy9QXpCYDG",
      "execution_count": null,
      "outputs": [
        {
          "output_type": "execute_result",
          "data": {
            "text/plain": [
              "Matrix([\n",
              "[ 1, 0, 0],\n",
              "[-3, 1, 0],\n",
              "[ 0, 0, 1]])"
            ],
            "text/latex": "$\\displaystyle \\left[\\begin{matrix}1 & 0 & 0\\\\-3 & 1 & 0\\\\0 & 0 & 1\\end{matrix}\\right]$"
          },
          "metadata": {},
          "execution_count": 29
        }
      ]
    },
    {
      "cell_type": "code",
      "source": [
        "A3=Matrix([[a,b+3*a,c],[x,y+3*x,z]]).T; A3"
      ],
      "metadata": {
        "colab": {
          "base_uri": "https://localhost:8080/",
          "height": 78
        },
        "id": "V1bbbGAJCjmG",
        "outputId": "b0ac5d7a-5a76-4b7f-a9a4-2a3b382808f6"
      },
      "id": "V1bbbGAJCjmG",
      "execution_count": null,
      "outputs": [
        {
          "output_type": "execute_result",
          "data": {
            "text/plain": [
              "Matrix([\n",
              "[      a,       x],\n",
              "[3*a + b, 3*x + y],\n",
              "[      c,       z]])"
            ],
            "text/latex": "$\\displaystyle \\left[\\begin{matrix}a & x\\\\3 a + b & 3 x + y\\\\c & z\\end{matrix}\\right]$"
          },
          "metadata": {},
          "execution_count": 30
        }
      ]
    },
    {
      "cell_type": "code",
      "source": [
        "\tI3*A3"
      ],
      "metadata": {
        "colab": {
          "base_uri": "https://localhost:8080/",
          "height": 78
        },
        "id": "icX4uFZpCpJi",
        "outputId": "1a169773-dba7-44ed-dbbe-d99a06ef626e"
      },
      "id": "icX4uFZpCpJi",
      "execution_count": null,
      "outputs": [
        {
          "output_type": "execute_result",
          "data": {
            "text/plain": [
              "Matrix([\n",
              "[a, x],\n",
              "[b, y],\n",
              "[c, z]])"
            ],
            "text/latex": "$\\displaystyle \\left[\\begin{matrix}a & x\\\\b & y\\\\c & z\\end{matrix}\\right]$"
          },
          "metadata": {},
          "execution_count": 31
        }
      ]
    },
    {
      "cell_type": "code",
      "source": [
        "# (4)\n",
        "B1=A1.T; B1"
      ],
      "metadata": {
        "colab": {
          "base_uri": "https://localhost:8080/",
          "height": 58
        },
        "id": "B1H6r4J1CxTc",
        "outputId": "8f6cae8a-e1c9-422e-b570-404ab1e04e73"
      },
      "id": "B1H6r4J1CxTc",
      "execution_count": null,
      "outputs": [
        {
          "output_type": "execute_result",
          "data": {
            "text/plain": [
              "Matrix([\n",
              "[b, a, c],\n",
              "[x, y, z]])"
            ],
            "text/latex": "$\\displaystyle \\left[\\begin{matrix}b & a & c\\\\x & y & z\\end{matrix}\\right]$"
          },
          "metadata": {},
          "execution_count": 32
        }
      ]
    },
    {
      "cell_type": "code",
      "source": [
        "B1*I1"
      ],
      "metadata": {
        "colab": {
          "base_uri": "https://localhost:8080/",
          "height": 58
        },
        "id": "zBRWKdCtC3gg",
        "outputId": "e1338c76-df9d-4243-f50a-e47d282b45ec"
      },
      "id": "zBRWKdCtC3gg",
      "execution_count": null,
      "outputs": [
        {
          "output_type": "execute_result",
          "data": {
            "text/plain": [
              "Matrix([\n",
              "[a, b, c],\n",
              "[y, x, z]])"
            ],
            "text/latex": "$\\displaystyle \\left[\\begin{matrix}a & b & c\\\\y & x & z\\end{matrix}\\right]$"
          },
          "metadata": {},
          "execution_count": 33
        }
      ]
    },
    {
      "cell_type": "code",
      "source": [
        "\t# (5)\n",
        "B2=A2.T; B2"
      ],
      "metadata": {
        "colab": {
          "base_uri": "https://localhost:8080/",
          "height": 58
        },
        "id": "jPwXScQiC9CJ",
        "outputId": "49c1d3d2-50f9-4a2b-e98f-6702aba7d4d6"
      },
      "id": "jPwXScQiC9CJ",
      "execution_count": null,
      "outputs": [
        {
          "output_type": "execute_result",
          "data": {
            "text/plain": [
              "Matrix([\n",
              "[a, 2*b, c],\n",
              "[x, 2*y, z]])"
            ],
            "text/latex": "$\\displaystyle \\left[\\begin{matrix}a & 2 b & c\\\\x & 2 y & z\\end{matrix}\\right]$"
          },
          "metadata": {},
          "execution_count": 34
        }
      ]
    },
    {
      "cell_type": "code",
      "source": [
        "B2*I2"
      ],
      "metadata": {
        "colab": {
          "base_uri": "https://localhost:8080/",
          "height": 58
        },
        "id": "4Sio2CwGDCL5",
        "outputId": "7f7c3c66-b4c0-4806-925e-f3487dd15de7"
      },
      "id": "4Sio2CwGDCL5",
      "execution_count": null,
      "outputs": [
        {
          "output_type": "execute_result",
          "data": {
            "text/plain": [
              "Matrix([\n",
              "[a, b, c],\n",
              "[x, y, z]])"
            ],
            "text/latex": "$\\displaystyle \\left[\\begin{matrix}a & b & c\\\\x & y & z\\end{matrix}\\right]$"
          },
          "metadata": {},
          "execution_count": 35
        }
      ]
    },
    {
      "cell_type": "code",
      "source": [
        "\t# (6)\n",
        "B3=A3.T; B3"
      ],
      "metadata": {
        "colab": {
          "base_uri": "https://localhost:8080/",
          "height": 58
        },
        "id": "iUXhAS9jDGkx",
        "outputId": "61303b4a-0934-4719-d3db-7bc8cf6429c5"
      },
      "id": "iUXhAS9jDGkx",
      "execution_count": null,
      "outputs": [
        {
          "output_type": "execute_result",
          "data": {
            "text/plain": [
              "Matrix([\n",
              "[a, 3*a + b, c],\n",
              "[x, 3*x + y, z]])"
            ],
            "text/latex": "$\\displaystyle \\left[\\begin{matrix}a & 3 a + b & c\\\\x & 3 x + y & z\\end{matrix}\\right]$"
          },
          "metadata": {},
          "execution_count": 36
        }
      ]
    },
    {
      "cell_type": "code",
      "source": [
        "B3*I3.T"
      ],
      "metadata": {
        "colab": {
          "base_uri": "https://localhost:8080/",
          "height": 58
        },
        "id": "Q9as3pTVDLLf",
        "outputId": "4d126a4f-656f-4f11-d8ec-d2d65d325b18"
      },
      "id": "Q9as3pTVDLLf",
      "execution_count": null,
      "outputs": [
        {
          "output_type": "execute_result",
          "data": {
            "text/plain": [
              "Matrix([\n",
              "[a, b, c],\n",
              "[x, y, z]])"
            ],
            "text/latex": "$\\displaystyle \\left[\\begin{matrix}a & b & c\\\\x & y & z\\end{matrix}\\right]$"
          },
          "metadata": {},
          "execution_count": 64
        }
      ]
    },
    {
      "cell_type": "markdown",
      "source": [
        "**演習3.6**"
      ],
      "metadata": {
        "id": "ZJPeY_BZJD-P"
      },
      "id": "ZJPeY_BZJD-P"
    },
    {
      "cell_type": "code",
      "source": [
        "from sympy import *\n",
        "A=Matrix([[0,0,2,1],[-2,1,1,-1],[1,0,5,2],[0,0,4,2]]);\n",
        "A"
      ],
      "metadata": {
        "id": "MkpHmqLvJFaJ",
        "outputId": "5c64f304-a8be-4add-fded-867f1c985a26",
        "colab": {
          "base_uri": "https://localhost:8080/",
          "height": 98
        }
      },
      "id": "MkpHmqLvJFaJ",
      "execution_count": null,
      "outputs": [
        {
          "output_type": "execute_result",
          "data": {
            "text/plain": [
              "Matrix([\n",
              "[ 0, 0, 2,  1],\n",
              "[-2, 1, 1, -1],\n",
              "[ 1, 0, 5,  2],\n",
              "[ 0, 0, 4,  2]])"
            ],
            "text/latex": "$\\displaystyle \\left[\\begin{matrix}0 & 0 & 2 & 1\\\\-2 & 1 & 1 & -1\\\\1 & 0 & 5 & 2\\\\0 & 0 & 4 & 2\\end{matrix}\\right]$"
          },
          "metadata": {},
          "execution_count": 37
        }
      ]
    },
    {
      "cell_type": "code",
      "source": [
        "A.rref()[0].T.rref()[0]"
      ],
      "metadata": {
        "id": "oYxvz9iaJI4t",
        "outputId": "c2a1915f-b162-43fc-9785-67afdd35f2ed",
        "colab": {
          "base_uri": "https://localhost:8080/",
          "height": 98
        }
      },
      "id": "oYxvz9iaJI4t",
      "execution_count": null,
      "outputs": [
        {
          "output_type": "execute_result",
          "data": {
            "text/plain": [
              "Matrix([\n",
              "[1, 0, 0, 0],\n",
              "[0, 1, 0, 0],\n",
              "[0, 0, 1, 0],\n",
              "[0, 0, 0, 0]])"
            ],
            "text/latex": "$\\displaystyle \\left[\\begin{matrix}1 & 0 & 0 & 0\\\\0 & 1 & 0 & 0\\\\0 & 0 & 1 & 0\\\\0 & 0 & 0 & 0\\end{matrix}\\right]$"
          },
          "metadata": {},
          "execution_count": 38
        }
      ]
    },
    {
      "cell_type": "markdown",
      "source": [
        "**問3.4**"
      ],
      "metadata": {
        "id": "J8r39-DB9cjP"
      },
      "id": "J8r39-DB9cjP"
    },
    {
      "cell_type": "code",
      "source": [
        "from sympy import *\n",
        "# 係数行列と拡大係数行列の生成\n",
        "A=Matrix([[3.5,5.0 ],[1.2 ,1.5 ]])\n",
        "Ab=A.row_join(Matrix([18800, 5910]))\n",
        "print('拡大係数行列 =')\n",
        "display(Ab)\n",
        "print('')\n",
        "print('掃き出し法による解 =')\n",
        "Ab.rref()[0]"
      ],
      "metadata": {
        "colab": {
          "base_uri": "https://localhost:8080/",
          "height": 154
        },
        "id": "ZC7iLemZ9euF",
        "outputId": "55ce9e6a-a7d6-44f4-ae1f-4cf477e7784f"
      },
      "id": "ZC7iLemZ9euF",
      "execution_count": null,
      "outputs": [
        {
          "output_type": "stream",
          "name": "stdout",
          "text": [
            "拡大係数行列 =\n"
          ]
        },
        {
          "output_type": "display_data",
          "data": {
            "text/plain": [
              "Matrix([\n",
              "[3.5, 5.0, 18800],\n",
              "[1.2, 1.5,  5910]])"
            ],
            "text/latex": "$\\displaystyle \\left[\\begin{matrix}3.5 & 5.0 & 18800\\\\1.2 & 1.5 & 5910\\end{matrix}\\right]$"
          },
          "metadata": {}
        },
        {
          "output_type": "stream",
          "name": "stdout",
          "text": [
            "\n",
            "掃き出し法による解 =\n"
          ]
        },
        {
          "output_type": "execute_result",
          "data": {
            "text/plain": [
              "Matrix([\n",
              "[1, 0, 1800.0],\n",
              "[0, 1, 2500.0]])"
            ],
            "text/latex": "$\\displaystyle \\left[\\begin{matrix}1 & 0 & 1800.0\\\\0 & 1 & 2500.0\\end{matrix}\\right]$"
          },
          "metadata": {},
          "execution_count": 21
        }
      ]
    },
    {
      "cell_type": "markdown",
      "source": [
        "#練習問題#"
      ],
      "metadata": {
        "id": "_6f4hRCQKIv5"
      },
      "id": "_6f4hRCQKIv5"
    },
    {
      "cell_type": "markdown",
      "source": [
        "**3.1**"
      ],
      "metadata": {
        "id": "eKlza8Y-M2Qv"
      },
      "id": "eKlza8Y-M2Qv"
    },
    {
      "cell_type": "markdown",
      "source": [
        "(1)\n",
        "\\begin{eqnarray*}\n",
        "\t&&\t\\begin{pmatrix}\n",
        "\t\t\t1200 & 800 & 1.1\\\\\n",
        "\t\t\t1000 & 500 & 1.1\\\\\n",
        "\t\t\t800   & 300 & 1.1\n",
        "\t\t\\end{pmatrix}\\\\\n",
        "\t&\\rightarrow&\n",
        "\t\\begin{pmatrix}\n",
        "\t\t400 & 500 & 0\\\\\n",
        "\t\t200 & 200 & 0\\\\\n",
        "\t\t800   & 300 & 1.1\n",
        "\t\\end{pmatrix}\\quad \\begin{array}{l}\\mbox{1行$-$3行}\\\\ \\mbox{2行$-$3行}\\end{array}\\\\\n",
        "\t&\\rightarrow&\n",
        "\\begin{pmatrix}\n",
        "\t-100 & 0 & 0\\\\\n",
        "\t200 & 200 & 0\\\\\n",
        "\t500   & 0 & 1.1\n",
        "\\end{pmatrix}\\quad \\begin{array}{l}\\mbox{1行$-2.5\\times $2行}\\\\ \\mbox{3行$-1.5\\times $2行}\\end{array}\n",
        "\t\\end{eqnarray*}\n",
        "\n",
        "∴ $\\mathrm{rank}A=3.$\n",
        "\n",
        "(2)\n",
        "\\begin{eqnarray*}\n",
        "&&\t\\left(\n",
        "\t\\begin{array}{rrr|r}\n",
        "\t\t1200 & 800 & 1.1 & 250\\\\\n",
        "\t\t1000 & 500 & 1.1 & 0 \\\\\n",
        "\t\t800   & 300 & 1.1 & 0\n",
        "\t\\end{array}\n",
        "\\right)\\\\\n",
        "&\\rightarrow&\n",
        "\\left(\n",
        "\\begin{array}{rrr|r}\n",
        "\t-100 & 0 &  0 & 250\\\\\n",
        "\t200 & 200 & 0 & 0\\\\\n",
        "\t500   & 0 & 1.1 &0\n",
        "\\end{array}\n",
        "\\right)\\quad \\mbox{上記(1)の掃き出し}\\\\\n",
        "&\\rightarrow&\n",
        "\\left(\n",
        "\\begin{array}{rrr|r}\n",
        "\t-100 & 0 &  0 & 250\\\\\n",
        "\t    0 & 200 & 0 & 500\\\\\n",
        "\t   0   & 0 & 1.1 &1250\n",
        "\\end{array}\n",
        "\\right) \\quad \\begin{array}{l}\\mbox{2行$+2\\times $1行}\\\\ \\mbox{3行$+5\\times $1行}\\end{array}\\\\\n",
        "&\\rightarrow&\n",
        "\\left(\n",
        "\\begin{array}{rrr|r}\n",
        "\t1 & 0 &  0 & -2.5\\\\\n",
        "\t0 & 1 & 0 &  2.5\\\\\n",
        "\t0   & 0 & 1 &\\frac{1250}{1.1}\n",
        "\\end{array}\n",
        "\\right) \\quad \\begin{array}{l}\\mbox{1行$/(-100)$}\\\\ \\mbox{2行$/200$}\\\\ \\mbox{3行$/1.1$}\\end{array}\n",
        "\\end{eqnarray*}\n",
        "∴ $(x_1,x_2,x_3)=\\left(-2.5,2.5,\\frac{1250}{1.1}\\right)$.\n",
        "\n",
        "なお，この解答例のように，階段行列を求める際に，最終行最右列を最初のピボットとして，逐次上の行のゼロと異なる最右列成分をピボットとして，下三角行列にしても答えは同じとなる．計算の楽な方で上三角か下三角の階段行列にすれば良い．"
      ],
      "metadata": {
        "id": "R5-lSO4ZKYrr"
      },
      "id": "R5-lSO4ZKYrr"
    },
    {
      "cell_type": "markdown",
      "source": [
        "**Python Sympyを用いた解答例**\n"
      ],
      "metadata": {
        "id": "fr-pOhSrNUQG"
      },
      "id": "fr-pOhSrNUQG"
    },
    {
      "cell_type": "code",
      "source": [
        "from sympy import *\n",
        "#行列Aの生成\n",
        "A=Matrix([[1200,800,1.1],[1000,500,1.1],[800,300,1.1]])\n",
        "A"
      ],
      "metadata": {
        "id": "rFe2yCfFNX8V",
        "outputId": "033e1733-c637-47f2-f922-937f6e682cc7",
        "colab": {
          "base_uri": "https://localhost:8080/",
          "height": 78
        }
      },
      "id": "rFe2yCfFNX8V",
      "execution_count": null,
      "outputs": [
        {
          "output_type": "execute_result",
          "data": {
            "text/plain": [
              "Matrix([\n",
              "[1200, 800, 1.1],\n",
              "[1000, 500, 1.1],\n",
              "[ 800, 300, 1.1]])"
            ],
            "text/latex": "$\\displaystyle \\left[\\begin{matrix}1200 & 800 & 1.1\\\\1000 & 500 & 1.1\\\\800 & 300 & 1.1\\end{matrix}\\right]$"
          },
          "metadata": {},
          "execution_count": 68
        }
      ]
    },
    {
      "cell_type": "code",
      "source": [
        "# (1)\n",
        "A.rank()"
      ],
      "metadata": {
        "id": "WOzM8ZxdNsLC",
        "outputId": "4932b6bb-c4be-4e31-cb7b-7ab03a44cdde",
        "colab": {
          "base_uri": "https://localhost:8080/"
        }
      },
      "id": "WOzM8ZxdNsLC",
      "execution_count": null,
      "outputs": [
        {
          "output_type": "execute_result",
          "data": {
            "text/plain": [
              "3"
            ]
          },
          "metadata": {},
          "execution_count": 70
        }
      ]
    },
    {
      "cell_type": "code",
      "source": [
        "\tb=Matrix([[250],[0],[0]])\n",
        "\t# 拡大係数行列の生成\n",
        "\tAb=A.row_join(b)\n",
        "\t# 拡大係数行列を階段行列にする\n",
        "\tAb.rref()[0]"
      ],
      "metadata": {
        "id": "MDO4wmOhN5aS",
        "outputId": "ffb71111-4def-4c4e-b66c-e2cdcab81ba4",
        "colab": {
          "base_uri": "https://localhost:8080/",
          "height": 78
        }
      },
      "id": "MDO4wmOhN5aS",
      "execution_count": null,
      "outputs": [
        {
          "output_type": "execute_result",
          "data": {
            "text/plain": [
              "Matrix([\n",
              "[1, 0, 0,             -2.5],\n",
              "[0, 1, 0,              2.5],\n",
              "[0, 0, 1, 1136.36363636364]])"
            ],
            "text/latex": "$\\displaystyle \\left[\\begin{matrix}1 & 0 & 0 & -2.5\\\\0 & 1 & 0 & 2.5\\\\0 & 0 & 1 & 1136.36363636364\\end{matrix}\\right]$"
          },
          "metadata": {},
          "execution_count": 73
        }
      ]
    },
    {
      "cell_type": "markdown",
      "source": [
        "#第4章 逆行列と行列式"
      ],
      "metadata": {
        "id": "hxyEE8jCgd3v"
      },
      "id": "hxyEE8jCgd3v"
    },
    {
      "cell_type": "markdown",
      "source": [
        "**問4.1**\n",
        "\n",
        "任意の実数$x_{ij}, i, j = 1, 2$に対して，\n",
        "$$\n",
        "X=\\begin{pmatrix}\n",
        "  x_{11} & x_{12}\\\\\n",
        "  x_{21} & x_{22}\n",
        "  \\end{pmatrix}\n",
        "$$\n",
        "とすると，\n",
        "$$\n",
        "AX=\\begin{pmatrix}\n",
        "  x_{11} +2x_{21} & x_{12}+2x_{22}\\\\\n",
        "  3x_{11} +6x_{21} & 3x_{12}+6x_{22}\n",
        "  \\end{pmatrix}\n",
        "$$\n",
        "ここで，$y_1=x_{11} +2x_{21}, y_2= x_{12}+2x_{22}$とおくと，\n",
        "$$\n",
        "AX=\\begin{pmatrix}\n",
        "  y_{1} & y_{2}\\\\\n",
        "  3y_{1} & 3y_{2}\n",
        "  \\end{pmatrix}\n",
        "$$\n",
        "であり，$y_1=3y_2=1$とすると，$3y_1\\neq0$, $y_2\\neq0$なので，\n",
        "$AX\\neq I$である．したがって，$A$は正則ではない．"
      ],
      "metadata": {
        "id": "eNXeFhB5hDJe"
      },
      "id": "eNXeFhB5hDJe"
    },
    {
      "cell_type": "markdown",
      "source": [
        "**問4.2**\n",
        "\\begin{eqnarray*}\n",
        "X=\\frac{1}{a_{11}a_{22}-a_{12}a_{21}}\\begin{pmatrix}\n",
        "          a_{22} & -a_{12} \\\\\n",
        "          -a_{21} & a_{11}\n",
        "          \\end{pmatrix}\n",
        "          \\end{eqnarray*}\n",
        "とおくと，\n",
        "\\begin{eqnarray*}\n",
        " XA&=&\n",
        " \\frac{1}{a_{11}a_{22}-a_{12}a_{21}}\\begin{pmatrix}\n",
        "          a_{22} & -a_{12} \\\\\n",
        "          -a_{21} & a_{11}\n",
        "          \\end{pmatrix}\n",
        " \\begin{pmatrix}\n",
        "          a_{11} & a_{12} \\\\\n",
        "          a_{21} & a_{22}\n",
        "          \\end{pmatrix}\\\\\n",
        " &=&\\frac{1}{a_{11}a_{22}-a_{12}a_{21}}\\begin{pmatrix}\n",
        "          a_{11}a_{22}-a_{12}a_{21} & 0 \\\\\n",
        "          0 & a_{11}a_{22}-a_{12}a_{21}\n",
        "          \\end{pmatrix}=I.\n",
        "\\end{eqnarray*}\n",
        "同様にして，$AX=I$，\n",
        "$$\n",
        "\\mbox{∴}\\qquad A^{-1}=\\frac{1}{a_{11}a_{22}-a_{12}a_{21}}\\begin{pmatrix}\n",
        "          a_{22} & -a_{12} \\\\\n",
        "          -a_{21} & a_{11}\n",
        "          \\end{pmatrix}.\n",
        "$$"
      ],
      "metadata": {
        "id": "bjoT4KvBh7r1"
      },
      "id": "bjoT4KvBh7r1"
    },
    {
      "cell_type": "markdown",
      "source": [
        "**問4.3**\n",
        "\\begin{eqnarray*}\n",
        "A=\\begin{pmatrix}\n",
        "          2 & 3 \\\\\n",
        "          5 & 6\n",
        "          \\end{pmatrix},\\\n",
        "\\boldsymbol{x}=\\begin{pmatrix}\n",
        "         x_{1}\\\\x_{2}\n",
        "        \\end{pmatrix},\\\n",
        "        \\boldsymbol{b}=\\begin{pmatrix}\n",
        "        \t1\\\\4\n",
        "        \\end{pmatrix}\n",
        "          \\end{eqnarray*}\n",
        "とおくと，\n",
        "\\begin{eqnarray*}\n",
        " A^{-1}&=&\n",
        " \\frac{1}{2\\times 6-3\\times 5}\n",
        " \\begin{pmatrix}\n",
        "          6 & -3 \\\\\n",
        "          -5 & 2\n",
        "          \\end{pmatrix}\n",
        "  =  -\\frac{1}{3}\n",
        " \\begin{pmatrix}\n",
        "          6 & -3 \\\\\n",
        "          -5 & 2\n",
        "          \\end{pmatrix}\n",
        "          , \\\\\n",
        "\\boldsymbol{x}&=& A^{-1}\\boldsymbol{b}\\\\\n",
        "&=&  -\\frac{1}{3}\n",
        "\\begin{pmatrix}\n",
        "          6 & -3 \\\\\n",
        "          -5 & 2\n",
        "          \\end{pmatrix}\n",
        "\\begin{pmatrix}\n",
        "         1\\\\4\n",
        "        \\end{pmatrix}\n",
        "= -\\frac{1}{3} \\begin{pmatrix}\n",
        "         6-12\\\\-5+8\n",
        "        \\end{pmatrix}=  \\begin{pmatrix}\n",
        "         2 \\\\-1\n",
        "        \\end{pmatrix}.\n",
        "\\end{eqnarray*}\n",
        "また，\n",
        "$$\n",
        "\\boldsymbol{x}=\n",
        "\\begin{pmatrix}\n",
        "\t2 \\\\-1\n",
        "\\end{pmatrix}.\n",
        "$$\n",
        "とすると，\n",
        "\\begin{eqnarray*}\n",
        "A\\boldsymbol{x} &=&\n",
        "\\begin{pmatrix}\n",
        "          2 & 3 \\\\\n",
        "          5 & 6\n",
        "          \\end{pmatrix}\n",
        "\\begin{pmatrix}\n",
        "         2 \\\\-1\n",
        "        \\end{pmatrix}\n",
        "        =\n",
        "   \\begin{pmatrix}\n",
        "         4-3 \\\\10-6\n",
        "        \\end{pmatrix}= \\begin{pmatrix}\n",
        "         1 \\\\4\n",
        "        \\end{pmatrix}=\\boldsymbol{b}\n",
        "        \\end{eqnarray*}\n",
        "  となっている．"
      ],
      "metadata": {
        "id": "fC_ZwaW-iOC1"
      },
      "id": "fC_ZwaW-iOC1"
    },
    {
      "cell_type": "markdown",
      "source": [
        "**演習4.1**\n"
      ],
      "metadata": {
        "id": "7LychZGRG3fS"
      },
      "id": "7LychZGRG3fS"
    },
    {
      "cell_type": "code",
      "source": [
        "# SymPyライブラリの読み込み\n",
        "from sympy import *\n",
        "# 記号の定義\n",
        "var('a11,a12,a21,a22')\n",
        "# 行列Aを作成\n",
        "A = Matrix([[a11,a12],[a21,a22]])\n",
        "A"
      ],
      "metadata": {
        "id": "MvD4GfcSKKwF",
        "outputId": "9f6dbebb-ca06-4b60-dc4a-f646dcb1829a",
        "colab": {
          "base_uri": "https://localhost:8080/",
          "height": 58
        }
      },
      "id": "MvD4GfcSKKwF",
      "execution_count": null,
      "outputs": [
        {
          "output_type": "execute_result",
          "data": {
            "text/plain": [
              "Matrix([\n",
              "[a11, a12],\n",
              "[a21, a22]])"
            ],
            "text/latex": "$\\displaystyle \\left[\\begin{matrix}a_{11} & a_{12}\\\\a_{21} & a_{22}\\end{matrix}\\right]$"
          },
          "metadata": {},
          "execution_count": 6
        }
      ]
    },
    {
      "cell_type": "code",
      "source": [
        "#行列式の計算\n",
        "A.det()"
      ],
      "metadata": {
        "id": "62W7c5D1KPR5",
        "outputId": "2e5971ff-12ae-452a-bdb4-4f78d954fcad",
        "colab": {
          "base_uri": "https://localhost:8080/",
          "height": 37
        }
      },
      "id": "62W7c5D1KPR5",
      "execution_count": null,
      "outputs": [
        {
          "output_type": "execute_result",
          "data": {
            "text/plain": [
              "0"
            ],
            "text/latex": "$\\displaystyle 0$"
          },
          "metadata": {},
          "execution_count": 39
        }
      ]
    },
    {
      "cell_type": "markdown",
      "source": [
        "**演習4.2**\n"
      ],
      "metadata": {
        "id": "Hl9Z8uanG5qe"
      },
      "id": "Hl9Z8uanG5qe"
    },
    {
      "cell_type": "code",
      "source": [
        "# SymPyライブラリの読み込み\n",
        "from sympy import *\n",
        "# 記号の定義\n",
        "var('a11,a12,a21,a22')\n",
        "# 行列Aを作成\n",
        "A = Matrix([[a11,a12],[a21,a22]])\n",
        "A"
      ],
      "metadata": {
        "colab": {
          "base_uri": "https://localhost:8080/",
          "height": 58
        },
        "id": "2dzM3pk9JRR5",
        "outputId": "df5ff138-8029-4d13-87d2-11b73a8cb4ae"
      },
      "id": "2dzM3pk9JRR5",
      "execution_count": null,
      "outputs": [
        {
          "output_type": "execute_result",
          "data": {
            "text/plain": [
              "Matrix([\n",
              "[a11, a12],\n",
              "[a21, a22]])"
            ],
            "text/latex": "$\\displaystyle \\left[\\begin{matrix}a_{11} & a_{12}\\\\a_{21} & a_{22}\\end{matrix}\\right]$"
          },
          "metadata": {},
          "execution_count": 40
        }
      ]
    },
    {
      "cell_type": "code",
      "source": [
        "#余因子列の計算\n",
        "A.adjugate()"
      ],
      "metadata": {
        "colab": {
          "base_uri": "https://localhost:8080/",
          "height": 58
        },
        "id": "kxFRpg7DJZrs",
        "outputId": "0d25eed2-55bc-4fd8-d2d3-ffb4ccbeeedb"
      },
      "id": "kxFRpg7DJZrs",
      "execution_count": null,
      "outputs": [
        {
          "output_type": "execute_result",
          "data": {
            "text/plain": [
              "Matrix([\n",
              "[ a22, -a12],\n",
              "[-a21,  a11]])"
            ],
            "text/latex": "$\\displaystyle \\left[\\begin{matrix}a_{22} & - a_{12}\\\\- a_{21} & a_{11}\\end{matrix}\\right]$"
          },
          "metadata": {},
          "execution_count": 41
        }
      ]
    },
    {
      "cell_type": "markdown",
      "source": [
        "**演習4.3**\n"
      ],
      "metadata": {
        "id": "ToTdBAVkG_c5"
      },
      "id": "ToTdBAVkG_c5"
    },
    {
      "cell_type": "code",
      "source": [
        "# SymPyライブラリの読み込み\n",
        "from sympy import *\n",
        "# 記号の定義\n",
        "var('a11,a12,a13')\n",
        "var('a21,a22,a23')\n",
        "var('a31,a32,a33')\n",
        "#a11,a12,a13 = sympy.symbols('a11,a12,a13')\n",
        "#a21,a22,a23 = sympy.symbols('a21,a22,a23')\n",
        "#a31,a32,a33 = sympy.symbols('a31,a32,a33')\n",
        "# 行列Aを作成\n",
        "A = Matrix([[a11,a12,a13],[a21,a22,a23],[a31,a32,a33]])\n",
        "A"
      ],
      "metadata": {
        "colab": {
          "base_uri": "https://localhost:8080/",
          "height": 78
        },
        "id": "n2NExlxIIWM7",
        "outputId": "afa03752-2986-43cb-baac-40ce5dbe5202"
      },
      "id": "n2NExlxIIWM7",
      "execution_count": null,
      "outputs": [
        {
          "output_type": "execute_result",
          "data": {
            "text/plain": [
              "Matrix([\n",
              "[a11, a12, a13],\n",
              "[a21, a22, a23],\n",
              "[a31, a32, a33]])"
            ],
            "text/latex": "$\\displaystyle \\left[\\begin{matrix}a_{11} & a_{12} & a_{13}\\\\a_{21} & a_{22} & a_{23}\\\\a_{31} & a_{32} & a_{33}\\end{matrix}\\right]$"
          },
          "metadata": {},
          "execution_count": 42
        }
      ]
    },
    {
      "cell_type": "code",
      "source": [
        "# 余因子行列adjAの計算\n",
        "A.adjugate()"
      ],
      "metadata": {
        "colab": {
          "base_uri": "https://localhost:8080/",
          "height": 78
        },
        "id": "yVrDeEjBIdJs",
        "outputId": "9439699d-c6ba-47d5-b6c7-f4a8d31357dc"
      },
      "id": "yVrDeEjBIdJs",
      "execution_count": null,
      "outputs": [
        {
          "output_type": "execute_result",
          "data": {
            "text/plain": [
              "Matrix([\n",
              "[ a22*a33 - a23*a32, -a12*a33 + a13*a32,  a12*a23 - a13*a22],\n",
              "[-a21*a33 + a23*a31,  a11*a33 - a13*a31, -a11*a23 + a13*a21],\n",
              "[ a21*a32 - a22*a31, -a11*a32 + a12*a31,  a11*a22 - a12*a21]])"
            ],
            "text/latex": "$\\displaystyle \\left[\\begin{matrix}a_{22} a_{33} - a_{23} a_{32} & - a_{12} a_{33} + a_{13} a_{32} & a_{12} a_{23} - a_{13} a_{22}\\\\- a_{21} a_{33} + a_{23} a_{31} & a_{11} a_{33} - a_{13} a_{31} & - a_{11} a_{23} + a_{13} a_{21}\\\\a_{21} a_{32} - a_{22} a_{31} & - a_{11} a_{32} + a_{12} a_{31} & a_{11} a_{22} - a_{12} a_{21}\\end{matrix}\\right]$"
          },
          "metadata": {},
          "execution_count": 43
        }
      ]
    },
    {
      "cell_type": "code",
      "source": [
        "#逆行列×行列式の計算\n",
        "A.inv()*A.det()"
      ],
      "metadata": {
        "colab": {
          "base_uri": "https://localhost:8080/",
          "height": 78
        },
        "id": "LX_UoOXlIpxZ",
        "outputId": "76c922c1-07ea-4e57-f6a9-8757422df9d0"
      },
      "id": "LX_UoOXlIpxZ",
      "execution_count": null,
      "outputs": [
        {
          "output_type": "execute_result",
          "data": {
            "text/plain": [
              "Matrix([\n",
              "[ a22*a33 - a23*a32, -a12*a33 + a13*a32,  a12*a23 - a13*a22],\n",
              "[-a21*a33 + a23*a31,  a11*a33 - a13*a31, -a11*a23 + a13*a21],\n",
              "[ a21*a32 - a22*a31, -a11*a32 + a12*a31,  a11*a22 - a12*a21]])"
            ],
            "text/latex": "$\\displaystyle \\left[\\begin{matrix}a_{22} a_{33} - a_{23} a_{32} & - a_{12} a_{33} + a_{13} a_{32} & a_{12} a_{23} - a_{13} a_{22}\\\\- a_{21} a_{33} + a_{23} a_{31} & a_{11} a_{33} - a_{13} a_{31} & - a_{11} a_{23} + a_{13} a_{21}\\\\a_{21} a_{32} - a_{22} a_{31} & - a_{11} a_{32} + a_{12} a_{31} & a_{11} a_{22} - a_{12} a_{21}\\end{matrix}\\right]$"
          },
          "metadata": {},
          "execution_count": 44
        }
      ]
    },
    {
      "cell_type": "markdown",
      "source": [
        "**演習4.4**"
      ],
      "metadata": {
        "id": "o1fxy8EZMBVL"
      },
      "id": "o1fxy8EZMBVL"
    },
    {
      "cell_type": "code",
      "source": [
        "# SymPyライブラリの読み込み\n",
        "from sympy import *\n",
        "# 行列の生成\n",
        "A=Matrix([[1,3,2,5],[0,0,3,2],[1,5,4,0],[1,2,1,1]])\n",
        "A"
      ],
      "metadata": {
        "id": "hXfu8rMLMExJ",
        "outputId": "4ce4bc5f-a9c2-4ff1-c27d-042bf2abc92e",
        "colab": {
          "base_uri": "https://localhost:8080/",
          "height": 98
        }
      },
      "id": "hXfu8rMLMExJ",
      "execution_count": null,
      "outputs": [
        {
          "output_type": "execute_result",
          "data": {
            "text/plain": [
              "Matrix([\n",
              "[1, 3, 2, 5],\n",
              "[0, 0, 3, 2],\n",
              "[1, 5, 4, 0],\n",
              "[1, 2, 1, 1]])"
            ],
            "text/latex": "$\\displaystyle \\left[\\begin{matrix}1 & 3 & 2 & 5\\\\0 & 0 & 3 & 2\\\\1 & 5 & 4 & 0\\\\1 & 2 & 1 & 1\\end{matrix}\\right]$"
          },
          "metadata": {},
          "execution_count": 45
        }
      ]
    },
    {
      "cell_type": "code",
      "source": [
        "A=Matrix([A.row(0),A.row(1),A.row(2)-A.row(0),A.row(3)-A.row(0)])\n",
        "A"
      ],
      "metadata": {
        "id": "jAXOTIZ7MZ1n",
        "outputId": "2f6b5262-0613-4083-88b4-47f009261556",
        "colab": {
          "base_uri": "https://localhost:8080/",
          "height": 98
        }
      },
      "id": "jAXOTIZ7MZ1n",
      "execution_count": null,
      "outputs": [
        {
          "output_type": "execute_result",
          "data": {
            "text/plain": [
              "Matrix([\n",
              "[1,  3,  2,  5],\n",
              "[0,  0,  3,  2],\n",
              "[0,  2,  2, -5],\n",
              "[0, -1, -1, -4]])"
            ],
            "text/latex": "$\\displaystyle \\left[\\begin{matrix}1 & 3 & 2 & 5\\\\0 & 0 & 3 & 2\\\\0 & 2 & 2 & -5\\\\0 & -1 & -1 & -4\\end{matrix}\\right]$"
          },
          "metadata": {},
          "execution_count": 46
        }
      ]
    },
    {
      "cell_type": "code",
      "source": [
        "#2行と3行の入換\n",
        "A=Matrix([A.row(0),A.row(2),A.row(1),A.row(3)])\n",
        "A"
      ],
      "metadata": {
        "id": "XRkOtiU4Mh9P",
        "outputId": "87a4f268-59dc-4501-bc5b-de04bbb2fa2d",
        "colab": {
          "base_uri": "https://localhost:8080/",
          "height": 98
        }
      },
      "id": "XRkOtiU4Mh9P",
      "execution_count": null,
      "outputs": [
        {
          "output_type": "execute_result",
          "data": {
            "text/plain": [
              "Matrix([\n",
              "[1,  3,  2,  5],\n",
              "[0,  2,  2, -5],\n",
              "[0,  0,  3,  2],\n",
              "[0, -1, -1, -4]])"
            ],
            "text/latex": "$\\displaystyle \\left[\\begin{matrix}1 & 3 & 2 & 5\\\\0 & 2 & 2 & -5\\\\0 & 0 & 3 & 2\\\\0 & -1 & -1 & -4\\end{matrix}\\right]$"
          },
          "metadata": {},
          "execution_count": 47
        }
      ]
    },
    {
      "cell_type": "code",
      "source": [
        "#4行+1/2*2行\n",
        "A=Matrix([A.row(0),A.row(1),A.row(2),A.row(3)+A.row(1)/2])\n",
        "A"
      ],
      "metadata": {
        "id": "q48hvIi6Mt9x",
        "outputId": "a8f90001-0b3b-4957-fa02-f68be4396991",
        "colab": {
          "base_uri": "https://localhost:8080/",
          "height": 98
        }
      },
      "id": "q48hvIi6Mt9x",
      "execution_count": null,
      "outputs": [
        {
          "output_type": "execute_result",
          "data": {
            "text/plain": [
              "Matrix([\n",
              "[1, 3, 2,     5],\n",
              "[0, 2, 2,    -5],\n",
              "[0, 0, 3,     2],\n",
              "[0, 0, 0, -13/2]])"
            ],
            "text/latex": "$\\displaystyle \\left[\\begin{matrix}1 & 3 & 2 & 5\\\\0 & 2 & 2 & -5\\\\0 & 0 & 3 & 2\\\\0 & 0 & 0 & - \\frac{13}{2}\\end{matrix}\\right]$"
          },
          "metadata": {},
          "execution_count": 48
        }
      ]
    },
    {
      "cell_type": "code",
      "source": [
        "# 対角成分の積\n",
        "diagonal_prod=prod([A[i,i] for i in range(4)])\n",
        "# １度2行と3行の入れ替えを行っているので符号を変える\n",
        "- diagonal_prod"
      ],
      "metadata": {
        "id": "0MfYSHNyNHj0",
        "outputId": "cee52024-843b-4e8e-d07c-897852bb1610",
        "colab": {
          "base_uri": "https://localhost:8080/",
          "height": 37
        }
      },
      "id": "0MfYSHNyNHj0",
      "execution_count": null,
      "outputs": [
        {
          "output_type": "execute_result",
          "data": {
            "text/plain": [
              "39"
            ],
            "text/latex": "$\\displaystyle 39$"
          },
          "metadata": {},
          "execution_count": 49
        }
      ]
    },
    {
      "cell_type": "markdown",
      "source": [
        "**問4.4**"
      ],
      "metadata": {
        "id": "nQjZbrXFibIU"
      },
      "id": "nQjZbrXFibIU"
    },
    {
      "source": [
        "from sympy import *\n",
        "A =Matrix([[0.7,0.3,0.1],[0.2, 0.6, 0.4],[0.1,0.4,0.8]])\n",
        "s = Matrix([500,800,600])\n",
        "from sympy import *\n",
        "A =Matrix([[0.7,0.3,0.1],[0.2, 0.6, 0.4],[0.1,0.4,0.8]])\n",
        "s = Matrix([500,800,600])\n",
        "display(A)\n",
        "display(A.inv())\n",
        "#Ainv=Matrix([[1.68,-1.05,0.32],[-0.63, 2.74, -1.32],[0.11,-1.32,1.89]]) # Added missing comma\n",
        "#display(Ainv)\n",
        "display(s)\n",
        "x = A.inv()*s\n",
        "display(x)\n",
        "#display(Ainv*s)\n",
        "#\n",
        "#\n",
        "Aafter = Matrix([A.row(0).multiply_elementwise(Matrix([[1.5,1.5,1]])),A.row(1),A.row(2)])\n",
        "safter = Aafter*x\n",
        "display(Aafter)\n",
        "display(safter)\n",
        "print('売上変化量=',sum(safter -s))"
      ],
      "cell_type": "code",
      "metadata": {
        "id": "1EretiU3xqeq",
        "outputId": "16a46ea9-b19f-47ed-cf81-22e43ee161f3",
        "colab": {
          "base_uri": "https://localhost:8080/",
          "height": 401
        }
      },
      "id": "1EretiU3xqeq",
      "execution_count": null,
      "outputs": [
        {
          "output_type": "display_data",
          "data": {
            "text/plain": [
              "Matrix([\n",
              "[0.7, 0.3, 0.1],\n",
              "[0.2, 0.6, 0.4],\n",
              "[0.1, 0.4, 0.8]])"
            ],
            "text/latex": "$\\displaystyle \\left[\\begin{matrix}0.7 & 0.3 & 0.1\\\\0.2 & 0.6 & 0.4\\\\0.1 & 0.4 & 0.8\\end{matrix}\\right]$"
          },
          "metadata": {}
        },
        {
          "output_type": "display_data",
          "data": {
            "text/plain": [
              "Matrix([\n",
              "[  1.68421052631579, -1.05263157894737,  0.31578947368421],\n",
              "[-0.631578947368421,  2.89473684210526, -1.36842105263158],\n",
              "[ 0.105263157894737, -1.31578947368421,  1.89473684210526]])"
            ],
            "text/latex": "$\\displaystyle \\left[\\begin{matrix}1.68421052631579 & -1.05263157894737 & 0.31578947368421\\\\-0.631578947368421 & 2.89473684210526 & -1.36842105263158\\\\0.105263157894737 & -1.31578947368421 & 1.89473684210526\\end{matrix}\\right]$"
          },
          "metadata": {}
        },
        {
          "output_type": "display_data",
          "data": {
            "text/plain": [
              "Matrix([\n",
              "[500],\n",
              "[800],\n",
              "[600]])"
            ],
            "text/latex": "$\\displaystyle \\left[\\begin{matrix}500\\\\800\\\\600\\end{matrix}\\right]$"
          },
          "metadata": {}
        },
        {
          "output_type": "display_data",
          "data": {
            "text/plain": [
              "Matrix([\n",
              "[189.473684210526],\n",
              "[1178.94736842105],\n",
              "[136.842105263158]])"
            ],
            "text/latex": "$\\displaystyle \\left[\\begin{matrix}189.473684210526\\\\1178.94736842105\\\\136.842105263158\\end{matrix}\\right]$"
          },
          "metadata": {}
        },
        {
          "output_type": "display_data",
          "data": {
            "text/plain": [
              "Matrix([\n",
              "[1.05, 0.45, 0.1],\n",
              "[ 0.2,  0.6, 0.4],\n",
              "[ 0.1,  0.4, 0.8]])"
            ],
            "text/latex": "$\\displaystyle \\left[\\begin{matrix}1.05 & 0.45 & 0.1\\\\0.2 & 0.6 & 0.4\\\\0.1 & 0.4 & 0.8\\end{matrix}\\right]$"
          },
          "metadata": {}
        },
        {
          "output_type": "display_data",
          "data": {
            "text/plain": [
              "Matrix([\n",
              "[743.157894736842],\n",
              "[           800.0],\n",
              "[           600.0]])"
            ],
            "text/latex": "$\\displaystyle \\left[\\begin{matrix}743.157894736842\\\\800.0\\\\600.0\\end{matrix}\\right]$"
          },
          "metadata": {}
        },
        {
          "output_type": "stream",
          "name": "stdout",
          "text": [
            "売上変化量= 243.157894736841\n"
          ]
        }
      ]
    },
    {
      "cell_type": "markdown",
      "source": [
        "#練習問題#\n"
      ],
      "metadata": {
        "id": "4kU5l6EyieUU"
      },
      "id": "4kU5l6EyieUU"
    },
    {
      "cell_type": "markdown",
      "source": [
        " **問題I**\n",
        "\n",
        " **問1**\n",
        " \\begin{eqnarray*}\n",
        "|A|&=&\n",
        "  \\begin{vmatrix}\n",
        "  1 & 2 & 3 \\\\\n",
        "  2 & 2 & 4 \\\\\n",
        "  3 & 4 & 3\n",
        "  \\end{vmatrix}\\\\\n",
        "  &=&\n",
        "  \\begin{vmatrix}\n",
        "  1 & 2 & 3 \\\\\n",
        "  0 & -2 & -2 \\\\\n",
        "  0 & -2 & -6\n",
        "  \\end{vmatrix}\\quad\n",
        "  \\begin{matrix}\n",
        "   \\\\\n",
        "  2\\mbox{行}-2\\times1\\mbox{行}\\\\\n",
        "  3\\mbox{行}-3\\times1\\mbox{行}\\\\\n",
        "  \\end{matrix}\\\\\n",
        "  &=&\n",
        "  \\begin{vmatrix}\n",
        "  1 & 2 & 3 \\\\\n",
        "  0 & -2 & -2 \\\\\n",
        "  0 & 0 & -4\n",
        "  \\end{vmatrix}\\quad\n",
        "  \\begin{matrix}\n",
        "   \\\\\n",
        "  \\\\\n",
        "  3\\mbox{行}-2\\mbox{行}\\\\\n",
        "  \\end{matrix}\\\\\n",
        "  &=& 1\\times (-2)\\times(-4)\\quad\n",
        "  (\\mbox{∵上三角行列の行列式$=$対角要素積})\\\\\n",
        "  &=& 8\n",
        "  \\end{eqnarray*}\n",
        " **問２**\n",
        "\\begin{eqnarray*}\n",
        "\\mathrm{adj}A\n",
        "&=&\\begin{pmatrix}\n",
        "\\tilde{A}_{11} & \\tilde{A}_{21} & \\tilde{A}_{31} \\\\\n",
        "\\tilde{A}_{12}  & \\tilde{A}_{22} & \\tilde{A}_{32} \\\\\n",
        "\\tilde{A}_{13} & \\tilde{A}_{23}  & \\tilde{A}_{33} \\end{pmatrix}\\\\\n",
        "&=&\n",
        "\\begin{pmatrix}\n",
        " \\begin{vmatrix}\n",
        "2 & 4 \\\\\n",
        "4 & 3\n",
        "\\end{vmatrix}\n",
        "&\n",
        "-\\begin{vmatrix}\n",
        "2 & 3 \\\\\n",
        "4 & 3\n",
        "\\end{vmatrix}\n",
        "&\n",
        "\\begin{vmatrix}\n",
        "2 & 3 \\\\\n",
        "2 & 4\n",
        "\\end{vmatrix}\n",
        "\\\\\n",
        "-\\begin{vmatrix}\n",
        "2 & 4 \\\\\n",
        "3 & 3\n",
        "\\end{vmatrix}\n",
        "&\n",
        "\\begin{vmatrix}\n",
        "1 & 3 \\\\\n",
        "3 & 3\n",
        "\\end{vmatrix}\n",
        "&\n",
        "-\\begin{vmatrix}\n",
        "1 & 3 \\\\\n",
        "2 & 4\n",
        "\\end{vmatrix}\n",
        "\\\\\n",
        "\\begin{vmatrix}\n",
        "2 & 2 \\\\\n",
        "3 & 4\n",
        "\\end{vmatrix}\n",
        "&\n",
        "-\\begin{vmatrix}\n",
        "1 & 2 \\\\\n",
        "3 & 4\n",
        "\\end{vmatrix}\n",
        "&\n",
        "\\begin{vmatrix}\n",
        "1 & 2 \\\\\n",
        "2 & 2\n",
        "\\end{vmatrix}\n",
        "\\end{pmatrix}\n",
        "\\\\\n",
        "&=&\n",
        "\\begin{pmatrix}\n",
        "6-16 & -(6-12) & 8-6\\\\\n",
        "-(6-12) & 3-9 & -(4-6)\\\\\n",
        "8-6 & -(4-6) & 2-4\n",
        "\\end{pmatrix}\n",
        "=\n",
        "\\begin{pmatrix}-10 & 6 & 2\\\\\n",
        "6 & -6 & 2\\\\\n",
        "2 & 2 & -2\\end{pmatrix}\\mbox{}\n",
        "\\end{eqnarray*}\n",
        " **問３**\n",
        "\\begin{eqnarray*}\n",
        "A^{-1}&=&\n",
        "\\frac{1}{|A|}\\mathrm{adj}A\\\\\n",
        "&=&\\frac{1}{8}\n",
        "\\begin{pmatrix}-10 & 6 & 2\\\\\n",
        "6 & -6 & 2\\\\\n",
        "2 & 2 & -2\\end{pmatrix}\\\\\n",
        "&=&\n",
        "\\frac{1}{4}\n",
        "\\begin{pmatrix}-{5} & {3} & {1}\\\\\n",
        "{3} & -{3} & {1}\\\\\n",
        "{1} & {1} & -{1}\\end{pmatrix}\n",
        "=\n",
        "\\begin{pmatrix}-\\frac{5}{4} & \\frac{3}{4} & \\frac{1}{4}\\\\\n",
        "\\frac{3}{4} & -\\frac{3}{4} & \\frac{1}{4}\\\\\n",
        "\\frac{1}{4} & \\frac{1}{4} & -\\frac{1}{4}\\end{pmatrix}\n",
        "\\end{eqnarray*}\n",
        " **問４**\n",
        " \\begin{eqnarray*}\n",
        " \\begin{pmatrix} x\\\\ y \\\\ z\\end{pmatrix}\n",
        " &=&\n",
        " A^{-1}\\begin{pmatrix} 1\\\\ 1 \\\\ 1\\end{pmatrix}\n",
        " \\\\\n",
        "&=&\n",
        "\\frac{1}{4}\n",
        "\\begin{pmatrix}-{5} & {3} & {1}\\\\\n",
        "{3} & -{3} & {1}\\\\\n",
        "{1} & {1} & -{1}\\end{pmatrix}\n",
        "\\begin{pmatrix} 1\\\\ 1 \\\\ 1\\end{pmatrix}\\\\\n",
        "&=&\\frac{1}{4}\n",
        " \\begin{pmatrix}-5+3+1\\\\\n",
        "3-3+1\\\\\n",
        "1+1-1\\end{pmatrix}\n",
        " =\\frac{1}{4}\n",
        " \\begin{pmatrix}-1\\\\\n",
        "{1}\\\\\n",
        "{1}\\end{pmatrix} =\n",
        "\\begin{pmatrix}-\\frac{1}{4}\\\\\n",
        "\\frac{1}{4}\\\\\n",
        "\\frac{1}{4}\\end{pmatrix}\n",
        " \\end{eqnarray*}\n"
      ],
      "metadata": {
        "id": "3d-qSiYXjuGC"
      },
      "id": "3d-qSiYXjuGC"
    },
    {
      "cell_type": "markdown",
      "source": [
        "**問題II**\n",
        "\\begin{eqnarray*}\n",
        "\\begin{vmatrix}3 a e+b g & 3 a f+bh\\\\\n",
        "3 c e +dg& 3 c f+dh\\end{vmatrix}\n",
        "&=&\n",
        "\\begin{vmatrix}\n",
        "\\begin{pmatrix}3a & b\\\\\n",
        "3c & d\\end{pmatrix}\\cdot\n",
        "\\begin{pmatrix}e & f\\\\\n",
        "g & h\\end{pmatrix}\n",
        "\\end{vmatrix}\n",
        "\\\\\n",
        "&=&\n",
        "\\begin{vmatrix}\n",
        "\\begin{pmatrix}3a & b\\\\\n",
        "3c & d\\end{pmatrix}\\end{vmatrix}\n",
        "\\begin{vmatrix}\n",
        "\\begin{pmatrix}e & f\\\\\n",
        "g & h\\end{pmatrix}\n",
        "\\end{vmatrix}\n",
        "\\quad (\\mbox{∵}\\ |AB|=|A||B|)\n",
        "\\\\\n",
        "&=&\n",
        "3\n",
        "\\begin{vmatrix}\n",
        "\\begin{pmatrix}a & b\\\\\n",
        "c & d\\end{pmatrix}\\end{vmatrix}\n",
        "\\begin{vmatrix}\n",
        "\\begin{pmatrix}e & f\\\\\n",
        "g & h\\end{pmatrix}\n",
        "\\end{vmatrix}\\\\\n",
        "&=&3|A||B|.\n",
        "\\end{eqnarray*}\n",
        "\n",
        "**別解**\n",
        "\n",
        "行列式の線形性（公式4.4(行列式の公式ーその１)の3と4）により\n",
        "\\begin{eqnarray*}\n",
        "\\begin{vmatrix}3 a e+b g & 3 a f+bh\\\\\n",
        "3 c e +dg& 3 c f+dh\\end{vmatrix}\n",
        "&=&\n",
        "\\begin{vmatrix}3 a e & 3 a f+bh\\\\\n",
        "3 c e & 3 c f+dh\\end{vmatrix}\n",
        "+\n",
        "\\begin{vmatrix}b g & 3 a f+bh\\\\\n",
        "dg& 3 c f+dh\\end{vmatrix}\n",
        "\\\\\n",
        "&=&\n",
        "\\begin{vmatrix}3 a e & 3 a f\\\\\n",
        "3 c e & 3 c f\\end{vmatrix}\n",
        "+\n",
        "\\begin{vmatrix}3 a e & bh\\\\\n",
        "3 c e & dh\\end{vmatrix}\n",
        "\\\\\n",
        "&&\n",
        "+\n",
        "\\begin{vmatrix}b g & 3 a f\\\\\n",
        "dg& 3 c f\\end{vmatrix}\n",
        "+\n",
        "\\begin{vmatrix}b g & bh\\\\\n",
        "dg& dh\\end{vmatrix}\n",
        "\\\\\n",
        "&=&(3\\times3)ef\n",
        "\\begin{vmatrix}a & a \\\\\n",
        "c & c\\end{vmatrix}\n",
        "+3eh\n",
        "\\begin{vmatrix}a  & b\\\\\n",
        "c  & d\\end{vmatrix}\n",
        "\\\\\n",
        "&&\n",
        "+3fg\n",
        "\\begin{vmatrix}b  & a \\\\\n",
        "d& c \\end{vmatrix}\n",
        "+\n",
        "gh\\begin{vmatrix}b  & b\\\\\n",
        "d& d\\end{vmatrix}\n",
        "\\\\\n",
        "&=&0+3eh\n",
        "\\begin{vmatrix}a  & b\\\\\n",
        "c  & d\\end{vmatrix}\n",
        "+3fg\n",
        "\\begin{vmatrix}b  & a \\\\\n",
        "d& c \\end{vmatrix}+0\n",
        "\\\\\n",
        "&&(\\mbox{∵ 2つの列が同じ行列の行列式$=0$)}\\\\\n",
        "&=&3eh\n",
        "\\begin{vmatrix}a  & b\\\\\n",
        "c  & d\\end{vmatrix}\n",
        "-3fg\n",
        "\\begin{vmatrix}a  & b \\\\\n",
        "c& d \\end{vmatrix}\n",
        "\\\\\n",
        "&&(\\mbox{∵ 2列を入れ替えた行列式$=-$(元の行列式}))\\\\\n",
        "&=&3(eh-fg)|A|\\\\\n",
        "&=&3|B||A|=3|A||B|.\n",
        "\\end{eqnarray*}"
      ],
      "metadata": {
        "id": "ILpWcJ6qkiq7"
      },
      "id": "ILpWcJ6qkiq7"
    },
    {
      "cell_type": "markdown",
      "source": [
        "## 第５章"
      ],
      "metadata": {
        "id": "DAuliuDIEn_F"
      },
      "id": "DAuliuDIEn_F"
    },
    {
      "cell_type": "markdown",
      "source": [
        "**演習5.1**\n"
      ],
      "metadata": {
        "id": "QsyjecyXEr9s"
      },
      "id": "QsyjecyXEr9s"
    },
    {
      "cell_type": "markdown",
      "source": [
        "(1)"
      ],
      "metadata": {
        "id": "SHcD1E_UFH6N"
      },
      "id": "SHcD1E_UFH6N"
    },
    {
      "cell_type": "code",
      "source": [
        "from sympy import *\n",
        "A=Matrix([[2,2],[1,3]])\n",
        "A"
      ],
      "metadata": {
        "colab": {
          "base_uri": "https://localhost:8080/",
          "height": 58
        },
        "id": "SWDRTptrExNn",
        "outputId": "6006283f-c6a6-4ac6-8c4f-a22ca50d6939"
      },
      "id": "SWDRTptrExNn",
      "execution_count": null,
      "outputs": [
        {
          "output_type": "execute_result",
          "data": {
            "text/plain": [
              "Matrix([\n",
              "[2, 2],\n",
              "[1, 3]])"
            ],
            "text/latex": "$\\displaystyle \\left[\\begin{matrix}2 & 2\\\\1 & 3\\end{matrix}\\right]$"
          },
          "metadata": {},
          "execution_count": 50
        }
      ]
    },
    {
      "cell_type": "code",
      "source": [
        "A.eigenvects()"
      ],
      "metadata": {
        "colab": {
          "base_uri": "https://localhost:8080/"
        },
        "id": "N3oNgprXFFyL",
        "outputId": "f73c499f-ac21-4e78-c32a-6e01e3621a76"
      },
      "id": "N3oNgprXFFyL",
      "execution_count": null,
      "outputs": [
        {
          "output_type": "execute_result",
          "data": {
            "text/plain": [
              "[(1,\n",
              "  1,\n",
              "  [Matrix([\n",
              "   [-2],\n",
              "   [ 1]])]),\n",
              " (4,\n",
              "  1,\n",
              "  [Matrix([\n",
              "   [1],\n",
              "   [1]])])]"
            ]
          },
          "metadata": {},
          "execution_count": 51
        }
      ]
    },
    {
      "cell_type": "markdown",
      "source": [
        "(2)"
      ],
      "metadata": {
        "id": "HLh-wYqQFJxn"
      },
      "id": "HLh-wYqQFJxn"
    },
    {
      "cell_type": "code",
      "source": [
        "A=Matrix([[1,1],[-1,3]])\n",
        "A"
      ],
      "metadata": {
        "colab": {
          "base_uri": "https://localhost:8080/",
          "height": 58
        },
        "id": "Hjg2KHUsFLUD",
        "outputId": "b00d8954-f1ae-46e2-e071-2057c2c1fca7"
      },
      "id": "Hjg2KHUsFLUD",
      "execution_count": null,
      "outputs": [
        {
          "output_type": "execute_result",
          "data": {
            "text/plain": [
              "Matrix([\n",
              "[ 1, 1],\n",
              "[-1, 3]])"
            ],
            "text/latex": "$\\displaystyle \\left[\\begin{matrix}1 & 1\\\\-1 & 3\\end{matrix}\\right]$"
          },
          "metadata": {},
          "execution_count": 4
        }
      ]
    },
    {
      "cell_type": "code",
      "source": [
        "A.eigenvects()"
      ],
      "metadata": {
        "colab": {
          "base_uri": "https://localhost:8080/"
        },
        "id": "PNwNScTOFYCj",
        "outputId": "1ed311d0-f762-41c8-8bcb-a7f0488cbe39"
      },
      "id": "PNwNScTOFYCj",
      "execution_count": null,
      "outputs": [
        {
          "output_type": "execute_result",
          "data": {
            "text/plain": [
              "[(1,\n",
              "  1,\n",
              "  [Matrix([\n",
              "   [-2],\n",
              "   [ 1]])]),\n",
              " (4,\n",
              "  1,\n",
              "  [Matrix([\n",
              "   [1],\n",
              "   [1]])])]"
            ]
          },
          "metadata": {},
          "execution_count": 52
        }
      ]
    },
    {
      "cell_type": "markdown",
      "source": [
        "(3)"
      ],
      "metadata": {
        "id": "dE7LZALNFdMb"
      },
      "id": "dE7LZALNFdMb"
    },
    {
      "cell_type": "code",
      "source": [
        "A=Matrix([[2,5],[-1,-2]])\n",
        "A"
      ],
      "metadata": {
        "colab": {
          "base_uri": "https://localhost:8080/",
          "height": 58
        },
        "id": "ufX93piEFelL",
        "outputId": "a1d8120b-0959-4cb7-9747-f7cd37947078"
      },
      "id": "ufX93piEFelL",
      "execution_count": null,
      "outputs": [
        {
          "output_type": "execute_result",
          "data": {
            "text/plain": [
              "Matrix([\n",
              "[ 2,  5],\n",
              "[-1, -2]])"
            ],
            "text/latex": "$\\displaystyle \\left[\\begin{matrix}2 & 5\\\\-1 & -2\\end{matrix}\\right]$"
          },
          "metadata": {},
          "execution_count": 53
        }
      ]
    },
    {
      "cell_type": "code",
      "source": [
        "A.eigenvects()"
      ],
      "metadata": {
        "colab": {
          "base_uri": "https://localhost:8080/"
        },
        "id": "gCjATdJtFmXN",
        "outputId": "bbf9eff9-4001-4ed4-aeca-c53e4a0b24bc"
      },
      "id": "gCjATdJtFmXN",
      "execution_count": null,
      "outputs": [
        {
          "output_type": "execute_result",
          "data": {
            "text/plain": [
              "[(-I,\n",
              "  1,\n",
              "  [Matrix([\n",
              "   [-2 + I],\n",
              "   [     1]])]),\n",
              " (I,\n",
              "  1,\n",
              "  [Matrix([\n",
              "   [-2 - I],\n",
              "   [     1]])])]"
            ]
          },
          "metadata": {},
          "execution_count": 54
        }
      ]
    },
    {
      "cell_type": "markdown",
      "source": [
        "**演習5.2**"
      ],
      "metadata": {
        "id": "Tw1_kmBEG7lh"
      },
      "id": "Tw1_kmBEG7lh"
    },
    {
      "cell_type": "code",
      "source": [
        "from sympy import *\n",
        "A=Matrix([[1,1/2],[1/4,3/4]])\n",
        "A"
      ],
      "metadata": {
        "colab": {
          "base_uri": "https://localhost:8080/",
          "height": 58
        },
        "id": "zsbIcIffG_t7",
        "outputId": "280ec015-53bd-4cf7-e2bb-847edc4e4104"
      },
      "id": "zsbIcIffG_t7",
      "execution_count": null,
      "outputs": [
        {
          "output_type": "execute_result",
          "data": {
            "text/plain": [
              "Matrix([\n",
              "[   1,  0.5],\n",
              "[0.25, 0.75]])"
            ],
            "text/latex": "$\\displaystyle \\left[\\begin{matrix}1 & 0.5\\\\0.25 & 0.75\\end{matrix}\\right]$"
          },
          "metadata": {},
          "execution_count": 55
        }
      ]
    },
    {
      "cell_type": "code",
      "source": [
        "A.eigenvects()"
      ],
      "metadata": {
        "colab": {
          "base_uri": "https://localhost:8080/"
        },
        "id": "CIOIAed5HG0H",
        "outputId": "6cd56048-8163-47cf-8cd1-623ae912540b"
      },
      "id": "CIOIAed5HG0H",
      "execution_count": null,
      "outputs": [
        {
          "output_type": "execute_result",
          "data": {
            "text/plain": [
              "[(1.25000000000000,\n",
              "  1,\n",
              "  [Matrix([\n",
              "   [0.894427190999916],\n",
              "   [0.447213595499958]])]),\n",
              " (0.500000000000000,\n",
              "  1,\n",
              "  [Matrix([\n",
              "   [-0.74535599249993],\n",
              "   [ 0.74535599249993]])])]"
            ]
          },
          "metadata": {},
          "execution_count": 56
        }
      ]
    },
    {
      "cell_type": "markdown",
      "source": [
        "**問5.1**\n",
        "\n",
        "固有方程式\n",
        "\\begin{eqnarray*}\n",
        "\t\\phi_A(\\lambda)\n",
        "\t&=&\\begin{vmatrix}\n",
        "\t\t1-\\lambda & \\frac{1}{4}\\\\\n",
        "\t\t\\frac{1}{4} & 1-\\lambda\n",
        "\t\\end{vmatrix}\\\\\n",
        "&=& (1-\\lambda)^2-\\left(\\frac{1}{4}\\right)^2\\\\\n",
        "&=& \\left(1-\\lambda-\\frac{1}{4}\\right) \\left(1-\\lambda+\\frac{1}{4}\\right)=0.\n",
        "\\end{eqnarray*}\n",
        "を解いて，固有値は，$\\lambda=\\frac{3}{4},\\ \\frac{５}{4}$．\n",
        "固有値$\\lambda=\\frac{3}{4}$に対する固有ベクトルは，\n",
        "\\begin{eqnarray*}\n",
        "\t\\begin{pmatrix}\n",
        "\t\t1-\\frac{3}{4} & \\frac{1}{4}\\\\\n",
        "\t\t\\frac{1}{4}  & 1-\\frac{3}{4}\n",
        "\t\\end{pmatrix}\\begin{pmatrix}\n",
        "\tx_1 \\\\ x_2\\end{pmatrix}\n",
        "&=& \t\\begin{pmatrix}\n",
        "\t\\frac{1}{4} & \\frac{1}{4}\\\\\n",
        "\t\\frac{1}{4}  & \\frac{1}{4}\n",
        "\\end{pmatrix}\\begin{pmatrix}\n",
        "\tx_1 \\\\ x_2\\end{pmatrix}\n",
        "= \\begin{pmatrix}\n",
        "\t0 \\\\ 0\n",
        "\\end{pmatrix}\n",
        "\\end{eqnarray*}\n",
        "を満たす$(x_1,x_2)$であるので，その固有空間は，\n",
        "$$\n",
        "W_{\\frac{3}{4}}=\\{(x_1,x_2)^\\top \\in\\mathbb{R}^2;\\ x_2=-x_1\\}.\n",
        "$$\n",
        "一方，固有値$\\lambda=\\frac{5}{4}$に対する固有ベクトルは，\n",
        "\\begin{eqnarray*}\n",
        "\t\\begin{pmatrix}\n",
        "\t\t1-\\frac{5}{4} & \\frac{1}{4}\\\\\n",
        "\t\t\\frac{1}{4}  & 1-\\frac{5}{4}\n",
        "\t\\end{pmatrix}\\begin{pmatrix}\n",
        "\t\tx_1 \\\\ x_2\\end{pmatrix}\n",
        "\t&=& \t\\begin{pmatrix}\n",
        "\t\t-\\frac{1}{4} & \\frac{1}{4}\\\\\n",
        "\t\t\\frac{1}{4}  & -\\frac{1}{4}\n",
        "\t\\end{pmatrix}\\begin{pmatrix}\n",
        "\t\tx_1 \\\\ x_2\\end{pmatrix}\n",
        "\t= \\begin{pmatrix}\n",
        "\t\t0 \\\\ 0\n",
        "\t\\end{pmatrix}\n",
        "\\end{eqnarray*}\n",
        "を満たす$(x_1,x_2)$であるので，その固有空間は，\n",
        "$$\n",
        "W_{\\frac{5}{4}}=\\{(x_1,x_2)^\\top \\in\\mathbb{R}^2;\\ x_2=x_1\\}.\n",
        "$$"
      ],
      "metadata": {
        "id": "InNPQy2SHnVu"
      },
      "id": "InNPQy2SHnVu"
    },
    {
      "cell_type": "markdown",
      "source": [
        "**演習5.3**"
      ],
      "metadata": {
        "id": "SXvrAhdHNURy"
      },
      "id": "SXvrAhdHNURy"
    },
    {
      "cell_type": "code",
      "source": [
        "from sympy import *\n",
        "A=Matrix([[0,1,-1],[1,0,1],[-1,1,0]])\n",
        "A"
      ],
      "metadata": {
        "colab": {
          "base_uri": "https://localhost:8080/",
          "height": 78
        },
        "id": "Skinc9GKNXOQ",
        "outputId": "4332a28d-97bf-4979-bb8a-29f1efcd5803"
      },
      "id": "Skinc9GKNXOQ",
      "execution_count": null,
      "outputs": [
        {
          "output_type": "execute_result",
          "data": {
            "text/plain": [
              "Matrix([\n",
              "[ 0, 1, -1],\n",
              "[ 1, 0,  1],\n",
              "[-1, 1,  0]])"
            ],
            "text/latex": "$\\displaystyle \\left[\\begin{matrix}0 & 1 & -1\\\\1 & 0 & 1\\\\-1 & 1 & 0\\end{matrix}\\right]$"
          },
          "metadata": {},
          "execution_count": 57
        }
      ]
    },
    {
      "cell_type": "code",
      "source": [
        "A.eigenvects()"
      ],
      "metadata": {
        "colab": {
          "base_uri": "https://localhost:8080/"
        },
        "id": "pVIyDfj6Ndsg",
        "outputId": "08badef5-d53a-4c6d-c171-6c69f5c5e545"
      },
      "id": "pVIyDfj6Ndsg",
      "execution_count": null,
      "outputs": [
        {
          "output_type": "execute_result",
          "data": {
            "text/plain": [
              "[(-2,\n",
              "  1,\n",
              "  [Matrix([\n",
              "   [ 1],\n",
              "   [-1],\n",
              "   [ 1]])]),\n",
              " (1,\n",
              "  2,\n",
              "  [Matrix([\n",
              "   [1],\n",
              "   [1],\n",
              "   [0]]),\n",
              "   Matrix([\n",
              "   [-1],\n",
              "   [ 0],\n",
              "   [ 1]])])]"
            ]
          },
          "metadata": {},
          "execution_count": 58
        }
      ]
    },
    {
      "cell_type": "code",
      "source": [
        "P0=GramSchmidt([Matrix([1,1,0]),\n",
        "                Matrix([-1,0,1])], True)\n",
        "P0"
      ],
      "metadata": {
        "colab": {
          "base_uri": "https://localhost:8080/"
        },
        "id": "9Bw1XYrpNmyD",
        "outputId": "80d534b4-8d0f-4162-ee6a-247cd2993c56"
      },
      "id": "9Bw1XYrpNmyD",
      "execution_count": null,
      "outputs": [
        {
          "output_type": "execute_result",
          "data": {
            "text/plain": [
              "[Matrix([\n",
              " [sqrt(2)/2],\n",
              " [sqrt(2)/2],\n",
              " [        0]]),\n",
              " Matrix([\n",
              " [-sqrt(6)/6],\n",
              " [ sqrt(6)/6],\n",
              " [ sqrt(6)/3]])]"
            ]
          },
          "metadata": {},
          "execution_count": 59
        }
      ]
    },
    {
      "cell_type": "code",
      "source": [
        "P1=GramSchmidt([Matrix([1,-1,1])],True)\n",
        "P1"
      ],
      "metadata": {
        "colab": {
          "base_uri": "https://localhost:8080/"
        },
        "id": "sh_5OU8rOt5T",
        "outputId": "bd098876-ff01-420a-8170-78560c4da8e2"
      },
      "id": "sh_5OU8rOt5T",
      "execution_count": null,
      "outputs": [
        {
          "output_type": "execute_result",
          "data": {
            "text/plain": [
              "[Matrix([\n",
              " [ sqrt(3)/3],\n",
              " [-sqrt(3)/3],\n",
              " [ sqrt(3)/3]])]"
            ]
          },
          "metadata": {},
          "execution_count": 60
        }
      ]
    },
    {
      "cell_type": "code",
      "source": [
        "P=Matrix(P0[0]).row_join(Matrix(P0[1]))\n",
        "P=P.row_join(Matrix(P1))\n",
        "P"
      ],
      "metadata": {
        "colab": {
          "base_uri": "https://localhost:8080/",
          "height": 88
        },
        "id": "hR5A8e5FO8D8",
        "outputId": "4bb933a7-be18-4a58-b16d-580383604348"
      },
      "id": "hR5A8e5FO8D8",
      "execution_count": null,
      "outputs": [
        {
          "output_type": "execute_result",
          "data": {
            "text/plain": [
              "Matrix([\n",
              "[sqrt(2)/2, -sqrt(6)/6,  sqrt(3)/3],\n",
              "[sqrt(2)/2,  sqrt(6)/6, -sqrt(3)/3],\n",
              "[        0,  sqrt(6)/3,  sqrt(3)/3]])"
            ],
            "text/latex": "$\\displaystyle \\left[\\begin{matrix}\\frac{\\sqrt{2}}{2} & - \\frac{\\sqrt{6}}{6} & \\frac{\\sqrt{3}}{3}\\\\\\frac{\\sqrt{2}}{2} & \\frac{\\sqrt{6}}{6} & - \\frac{\\sqrt{3}}{3}\\\\0 & \\frac{\\sqrt{6}}{3} & \\frac{\\sqrt{3}}{3}\\end{matrix}\\right]$"
          },
          "metadata": {},
          "execution_count": 61
        }
      ]
    },
    {
      "cell_type": "code",
      "source": [
        "P.T*A*P"
      ],
      "metadata": {
        "colab": {
          "base_uri": "https://localhost:8080/",
          "height": 78
        },
        "id": "LHvcKHcyPB0Q",
        "outputId": "0f8d62bc-f522-4342-85b8-96a7dc3253c5"
      },
      "id": "LHvcKHcyPB0Q",
      "execution_count": null,
      "outputs": [
        {
          "output_type": "execute_result",
          "data": {
            "text/plain": [
              "Matrix([\n",
              "[1, 0,  0],\n",
              "[0, 1,  0],\n",
              "[0, 0, -2]])"
            ],
            "text/latex": "$\\displaystyle \\left[\\begin{matrix}1 & 0 & 0\\\\0 & 1 & 0\\\\0 & 0 & -2\\end{matrix}\\right]$"
          },
          "metadata": {},
          "execution_count": 62
        }
      ]
    },
    {
      "cell_type": "markdown",
      "source": [
        "#練習問題#"
      ],
      "metadata": {
        "id": "QpuV16G9S1zW"
      },
      "id": "QpuV16G9S1zW"
    },
    {
      "cell_type": "markdown",
      "source": [
        "\n",
        "\t(1)\n",
        "\\begin{eqnarray*}\n",
        "A=\\begin{pmatrix}0 & 1 & \\sqrt{2}\\\\ 1 & 2 & \\sqrt{2}\\\\ \\sqrt{2} & \\sqrt{2} & 1\\end{pmatrix}.\n",
        "\\end{eqnarray*}\n",
        "とすると，$A$の固有方程式は\n",
        "\\begin{eqnarray*}\n",
        "\t\\phi_{A}(\\lambda)\n",
        "&=& \\begin{vmatrix}\n",
        "\t-\\lambda & 1 & \\sqrt{2}\\cr\n",
        "\t1 & 2-\\lambda & \\sqrt{2}\\cr\n",
        "\t\\sqrt{2} & \\sqrt{2} & 1-\\lambda\n",
        "\\end{vmatrix}\\\\\n",
        "&=& -\\lambda\\begin{vmatrix}\n",
        "\t1 & -\\frac{1}{\\lambda} & -\\frac{\\sqrt{2}}{\\lambda}\\cr\n",
        "\t1 & 2-\\lambda & \\sqrt{2}\\cr\n",
        "\t\\sqrt{2} & \\sqrt{2} & 1-\\lambda\n",
        "\\end{vmatrix}\\quad \\mbox{1行から$-\\lambda$を括りだし}\\\\\n",
        "&=& -\\lambda\\begin{vmatrix}\n",
        "\t 1 & -\\frac{1}{\\lambda} & -\\frac{\\sqrt{2}}{\\lambda}\\cr\n",
        "\t 0 & 2-\\lambda +\\frac{1}{\\lambda}& \\sqrt{2}+\\frac{\\sqrt{2}}{\\lambda}\\cr\n",
        "\t 0 & \\sqrt{2}+  \\frac{\\sqrt{2}}{\\lambda} & 1-\\lambda + \\frac{2}{\\lambda}\n",
        " \\end{vmatrix}\n",
        "\\quad \\begin{array}{l}\n",
        "\t\\mbox{2行$-$1行}\\\\\n",
        "\t\\mbox{3行$-\\sqrt{2}\\times$1行}\\\\\n",
        "\\end{array}\n",
        "\\\\\n",
        "&=& -(2\\lambda-\\lambda^2+1)\\begin{vmatrix}\n",
        "\t1 & -\\frac{1}{\\lambda} & -\\frac{\\sqrt{2}}{\\lambda}\\cr\n",
        "\t0 & 1 & \\sqrt{2}\\frac{\\lambda+1}{2\\lambda-\\lambda^2+1}\\cr\n",
        "\t0 & \\sqrt{2}+  \\frac{\\sqrt{2}}{\\lambda} & 1-\\lambda + \\frac{2}{\\lambda}\n",
        "\\end{vmatrix}\\quad \\begin{array}{l}\n",
        "\\mbox{2行から$\\frac{2\\lambda-\\lambda^2+1}{\\lambda}$括りだし}\n",
        "\\end{array}\\\\\n",
        "&=&-(2\\lambda-\\lambda^2-1)\\begin{vmatrix}\n",
        "\t1 & -\\frac{1}{\\lambda} & -\\frac{\\sqrt{2}}{\\lambda}\\cr\n",
        "\t0 & 1 & \\frac{(\\lambda+1)\\sqrt{2}}{2\\lambda-\\lambda^2+1}\\cr\n",
        "\t0 & 0 & 1-\\lambda +\\frac{2}{\\lambda}\n",
        "\t- \\frac{(\\lambda+1)^2 2}{\\lambda(2\\lambda-\\lambda^2+1)}\n",
        "\\end{vmatrix}\\quad \\begin{array}{l}\n",
        "\\mbox{3行$-\\left(\\sqrt{2}+\\frac{\\sqrt{2}}{\\lambda}\\right)\\times$2行}\n",
        "\\end{array}\\\\\n",
        "&=& -\\begin{vmatrix}\n",
        "\t1 & -\\frac{1}{\\lambda} & -\\frac{\\sqrt{2}}{\\lambda}\\cr\n",
        "\t0 & 1 & \\frac{(\\lambda+1)\\sqrt{2}}{2\\lambda-\\lambda^2+1}\\cr\n",
        "\t0 & 0 & \\lambda^3-3\\lambda^2-3\\lambda+1\n",
        "\\end{vmatrix}\\quad \\begin{array}{l}\n",
        "\\mbox{3行から$\\frac{1}{2\\lambda-\\lambda^2+1}$括りだし}\n",
        "\\end{array}\\\\\n",
        "&=& -\\lambda^3+3\\lambda^2+3\\lambda-1\\\\\n",
        "&=& -(\\lambda+1)(\\lambda-2-\\sqrt{3})(\\lambda-2+\\sqrt{3})\n",
        "=0.\n",
        "\\end{eqnarray*}\n",
        "∴ 固有値は，$-1$, $2-\\sqrt{3}$, $2+\\sqrt{3}$. 固有値$-1$に対する固有ベクトルは，\n",
        "\\begin{eqnarray*}\n",
        "      && \\begin{pmatrix}\n",
        "\t\t1 & 1 & \\sqrt{2}\\cr\n",
        "\t\t1 & 3 & \\sqrt{2}\\cr\n",
        "\t\t\\sqrt{2} & \\sqrt{2} & 2\n",
        "\t\t\\end{pmatrix}\n",
        "\t\t\\begin{pmatrix}\n",
        "\t\t x_1\\\\\n",
        "\t\t x_2\\\\\n",
        "\t\t x_3\n",
        "\t\t\\end{pmatrix}=\\boldsymbol{0}\\\\\n",
        "&\\iff& \\begin{pmatrix}\n",
        "\t\t1 & 1 & \\sqrt{2}\\cr\n",
        "\t\t0 & 2 & 0\\cr\n",
        "\t\t0 & 0 & 0\n",
        "\t\t\\end{pmatrix}\n",
        "\t\t\\begin{pmatrix}\n",
        "\t\t x_1\\\\\n",
        "\t\t x_2\\\\\n",
        "\t\t x_3\n",
        "\t\t\\end{pmatrix}=\\boldsymbol{0}\\quad \\begin{array}{l}\n",
        "\t\t\\mbox{2行$-$1行}\\\\\n",
        "\t\t\\mbox{3行$-\\sqrt{2}\\times$1行}\n",
        "\t\\end{array}\\\\\n",
        "&\\iff& \\begin{pmatrix}\n",
        "\t\t1 & 0 & \\sqrt{2}\\cr\n",
        "\t\t0 & 1 & 0\\cr\n",
        "\t\t0 & 0 & 0\n",
        "\t\t\\end{pmatrix}\n",
        "\t\t\\begin{pmatrix}\n",
        "\t\t x_1\\\\\n",
        "\t\t x_2\\\\\n",
        "\t\t x_3\n",
        "\t\t\\end{pmatrix}=\\boldsymbol{0}\\quad \\begin{array}{l}\n",
        "\t\t\\mbox{2行$\\div2$}\\\\\n",
        "\t\t\\mbox{1行$-$2行}\n",
        "\t\\end{array}\n",
        "\t\t\\end{eqnarray*}\n",
        "\t\tより\n",
        "$(x_1,x_2,x_3)=(-\\sqrt{2},0,1)$. これを正規化して，\n",
        "$\\left(-\\frac{\\sqrt{6}}{3},0,\\frac{\\sqrt{3}}{3}\\right)$.\n",
        "固有値$2-\\sqrt{3}$に対する固有ベクトルは，\n",
        "\\begin{eqnarray*}\n",
        "      && \\begin{pmatrix}\n",
        "\t\t-2+\\sqrt{3} & 1 & \\sqrt{2}\\cr\n",
        "\t\t1 & \\sqrt{3} & \\sqrt{2}\\cr\n",
        "\t\t\\sqrt{2} & \\sqrt{2} & -1+\\sqrt{3}\n",
        "\t\t\\end{pmatrix}\n",
        "\t\t\\begin{pmatrix}\n",
        "\t\t x_1\\\\\n",
        "\t\t x_2\\\\\n",
        "\t\t x_3\n",
        "\t\t\\end{pmatrix}=\\boldsymbol{0}\\\\\n",
        "&\\iff& \\begin{pmatrix}\n",
        "\t\t1 & \\frac{1}{-2+\\sqrt{3}} & \\frac{\\sqrt{2}}{-2+\\sqrt{3}}\\cr\n",
        "\t\t1 & \\sqrt{3} & \\sqrt{2}\\cr\n",
        "\t\t\\sqrt{2} & \\sqrt{2} & -1+\\sqrt{3}\n",
        "\t\t\\end{pmatrix}\n",
        "\t\t\\begin{pmatrix}\n",
        "\t\t x_1\\\\\n",
        "\t\t x_2\\\\\n",
        "\t\t x_3\n",
        "\t\t\\end{pmatrix}=\\boldsymbol{0}\\quad \\begin{array}{l}\n",
        "\t\t\\mbox{1行$\\div(-2+\\sqrt{3})$}\n",
        "\t\\end{array}\\\\\n",
        "&\\iff& \\begin{pmatrix}\n",
        "\t\t1 & -2-\\sqrt{3} & -2\\sqrt{2}-\\sqrt{6} \\cr\n",
        "\t\t1 & \\sqrt{3} & \\sqrt{2}\\cr\n",
        "\t\t\\sqrt{2} & \\sqrt{2} & -1+\\sqrt{3}\n",
        "\t\t\\end{pmatrix}\n",
        "\t\t\\begin{pmatrix}\n",
        "\t\t x_1\\\\\n",
        "\t\t x_2\\\\\n",
        "\t\t x_3\n",
        "\t\t\\end{pmatrix}=\\boldsymbol{0}\\quad \\begin{array}{l}\n",
        "\t\t\\mbox{1行有理化}\n",
        "\t\\end{array}\\\\\n",
        "&\\iff& \\begin{pmatrix}\n",
        "\t\t1 & -2-\\sqrt{3} & -2\\sqrt{2}-\\sqrt{6} \\cr\n",
        "\t\t0 & 2+2\\sqrt{3} & 3\\sqrt{2}+\\sqrt{6}\\cr\n",
        "\t\t0 & 3\\sqrt{2}+\\sqrt{6} & 3+3\\sqrt{3}\n",
        "\t\t\\end{pmatrix}\n",
        "\t\t\\begin{pmatrix}\n",
        "\t\t x_1\\\\\n",
        "\t\t x_2\\\\\n",
        "\t\t x_3\n",
        "\t\t\\end{pmatrix}=\\boldsymbol{0}\\quad \\begin{array}{l}\n",
        "\t\t\\mbox{2行$-1$行}\\\\\n",
        "\t\t\\mbox{3行$-\\sqrt{2}\\times$1行}\n",
        "\t\\end{array}\\\\\n",
        "&\\iff& \\begin{pmatrix}\n",
        "\t\t1 & -2-\\sqrt{3} & -2\\sqrt{2}-\\sqrt{6} \\cr\n",
        "\t\t0 & 1 & \\frac{\\sqrt{6}}{2}\\cr\n",
        "\t\t0 & 3\\sqrt{2}+\\sqrt{6} & 3+3\\sqrt{3}\n",
        "\t\t\\end{pmatrix}\n",
        "\t\t\\begin{pmatrix}\n",
        "\t\t x_1\\\\\n",
        "\t\t x_2\\\\\n",
        "\t\t x_3\n",
        "\t\t\\end{pmatrix}=\\boldsymbol{0}\\quad \\begin{array}{l}\n",
        "\t\t\\mbox{2行$\\div(2+2\\sqrt{3})$}\n",
        "\t\\end{array}\\\\\n",
        "&\\iff& \\begin{pmatrix}\n",
        "\t\t1 & 0 & -\\frac{\\sqrt{2}}{2} \\cr\n",
        "\t\t0 & 1 & \\frac{\\sqrt{6}}{2}\\cr\n",
        "\t\t0 & 0 & 0\n",
        "\t\t\\end{pmatrix}\n",
        "\t\t\\begin{pmatrix}\n",
        "\t\t x_1\\\\\n",
        "\t\t x_2\\\\\n",
        "\t\t x_3\n",
        "\t\t\\end{pmatrix}=\\boldsymbol{0}\\quad \\begin{array}{l}\n",
        "\t\t\\mbox{1行$-(-2-\\sqrt{3})\\times$2行}\\\\\n",
        "\t\t\\mbox{3行$-(3\\sqrt{2}+\\sqrt{6})\\times$2行}\n",
        "\t\\end{array}\\\\\n",
        "\t\t\\end{eqnarray*}\n",
        "\t\tより\n",
        "$(x_1,x_2,x_3)=\\left(\\frac{\\sqrt{2}}{2},-\\frac{\\sqrt{6}}{2},1\\right)$. これを正規化して，\n",
        "$\\left(\\frac{\\sqrt{6}}{6},-\\frac{\\sqrt{2}}{2},\\frac{\\sqrt{3}}{3}\\right)$.\n",
        "固有値$2+\\sqrt{3}$に対する固有ベクトルは，\n",
        "\\begin{eqnarray*}\n",
        "      && \\begin{pmatrix}\n",
        "\t\t-2-\\sqrt{3} & 1 & \\sqrt{2}\\cr\n",
        "\t\t1 & -\\sqrt{3} & \\sqrt{2}\\cr\n",
        "\t\t\\sqrt{2} & \\sqrt{2} & -1-\\sqrt{3}\n",
        "\t\t\\end{pmatrix}\n",
        "\t\t\\begin{pmatrix}\n",
        "\t\t x_1\\\\\n",
        "\t\t x_2\\\\\n",
        "\t\t x_3\n",
        "\t\t\\end{pmatrix}=\\boldsymbol{0}\\\\\n",
        "&\\iff& \\begin{pmatrix}\n",
        "\t\t1 & \\frac{1}{-2-\\sqrt{3}} & \\frac{\\sqrt{2}}{-2-\\sqrt{3}}\\cr\n",
        "\t\t1 & -\\sqrt{3} & \\sqrt{2}\\cr\n",
        "\t\t\\sqrt{2} & \\sqrt{2} & -1-\\sqrt{3}\n",
        "\t\t\\end{pmatrix}\n",
        "\t\t\\begin{pmatrix}\n",
        "\t\t x_1\\\\\n",
        "\t\t x_2\\\\\n",
        "\t\t x_3\n",
        "\t\t\\end{pmatrix}=\\boldsymbol{0}\\quad \\begin{array}{l}\n",
        "\t\t\\mbox{1行$\\div(-2-\\sqrt{3})$}\n",
        "\t\\end{array}\\\\\n",
        "&\\iff& \\begin{pmatrix}\n",
        "\t\t1 & -2+\\sqrt{3} & (-2+\\sqrt{3})\\sqrt{2} \\cr\n",
        "\t\t1 & -\\sqrt{3} & \\sqrt{2}\\cr\n",
        "\t\t\\sqrt{2} & \\sqrt{2} & -1-\\sqrt{3}\n",
        "\t\t\\end{pmatrix}\n",
        "\t\t\\begin{pmatrix}\n",
        "\t\t x_1\\\\\n",
        "\t\t x_2\\\\\n",
        "\t\t x_3\n",
        "\t\t\\end{pmatrix}=\\boldsymbol{0}\\quad \\begin{array}{l}\n",
        "\t\t\\mbox{1行有理化}\n",
        "\t\\end{array}\\\\\n",
        "&\\iff& \\begin{pmatrix}\n",
        "\t\t1 & -2+\\sqrt{3} & (-2+\\sqrt{3})\\sqrt{2} \\cr\n",
        "\t\t0 & 2-2\\sqrt{3} & (3-\\sqrt{3})\\sqrt{2}\\cr\n",
        "\t\t0 & (3-\\sqrt{3})\\sqrt{2} & 3(1-\\sqrt{3})\n",
        "\t\t\\end{pmatrix}\n",
        "\t\t\\begin{pmatrix}\n",
        "\t\t x_1\\\\\n",
        "\t\t x_2\\\\\n",
        "\t\t x_3\n",
        "\t\t\\end{pmatrix}=\\boldsymbol{0}\\quad \\begin{array}{l}\n",
        "\t\t\\mbox{2行$-$1行}\\\\\n",
        "\t\t\\mbox{3行$-\\sqrt{2}\\times$1行}\n",
        "\t\\end{array}\\\\\n",
        "&\\iff& \\begin{pmatrix}\n",
        "\t\t1 & -2+\\sqrt{3} & (-2+\\sqrt{3})\\sqrt{2} \\cr\n",
        "\t\t0 & 1 & -\\frac{\\sqrt{6}}{2}\\cr\n",
        "\t\t0 & (3-\\sqrt{3})\\sqrt{2} & 3(1-\\sqrt{3})\n",
        "\t\t\\end{pmatrix}\n",
        "\t\t\\begin{pmatrix}\n",
        "\t\t x_1\\\\\n",
        "\t\t x_2\\\\\n",
        "\t\t x_3\n",
        "\t\t\\end{pmatrix}=\\boldsymbol{0}\\quad \\begin{array}{l}\n",
        "\t\t\\mbox{2行$\\div(2-2\\sqrt{3})$}\n",
        "\t\\end{array}\\\\\n",
        "&\\iff& \\begin{pmatrix}\n",
        "\t\t1 & 0 & -\\frac{\\sqrt{2}}{2} \\cr\n",
        "\t\t0 & 1 & \\frac{-\\sqrt{6}}{2}\\cr\n",
        "\t\t0 & 0 &  0\n",
        "\t\t\\end{pmatrix}\n",
        "\t\t\\begin{pmatrix}\n",
        "\t\t x_1\\\\\n",
        "\t\t x_2\\\\\n",
        "\t\t x_3\n",
        "\t\t\\end{pmatrix}=\\boldsymbol{0}\\quad \\begin{array}{l}\n",
        "\t\t\\mbox{1行$-(-2+\\sqrt{3})\\times$2行}\\\\\n",
        "\t\t\\mbox{3行$-(3-\\sqrt{3})\\sqrt{2}\\times$2行}\n",
        "\t\\end{array}\\\\\n",
        "\t\t\\end{eqnarray*}\n",
        "\t\tより\n",
        "$(x_1,x_2,x_3)=\\left(\\frac{\\sqrt{2}}{2},\\frac{\\sqrt{6}}{2},1\\right)$. これを正規化して，\n",
        "$\\left(\\frac{\\sqrt{6}}{6},\\frac{\\sqrt{2}}{2},\\frac{\\sqrt{3}}{3}\\right)$.\n",
        "以上から，\n",
        "$$\n",
        "P=\\begin{pmatrix}\n",
        "         -\\frac{\\sqrt{6}}{3} & \\frac{\\sqrt{6}}{6} & \\frac{\\sqrt{6}}{6}\\\\\n",
        "         0                   & -\\frac{\\sqrt{2}}{2} & \\frac{\\sqrt{2}}{2}\\\\\n",
        "         \\frac{\\sqrt{3}}{3} & \\frac{\\sqrt{3}}{3} & \\frac{\\sqrt{3}}{3}\n",
        "        \\end{pmatrix}\n",
        "$$\n",
        "とくおくと，\n",
        "$$P^\\top A P =\n",
        " \\begin{pmatrix}\n",
        "  -1 & 0 & 0 \\\\\n",
        "  0 & 2-\\sqrt{3} & 0 \\\\\n",
        "  0 & 0& 2+\\sqrt{3}\n",
        " \\end{pmatrix}\n",
        "$$\n",
        "\n",
        "(2)\n",
        "$$\n",
        " A=\n",
        "\\begin{pmatrix}2 & 1 & 1\\cr 1 & 2 & 1\\cr 1 & 1 & 2\\end{pmatrix}\n",
        "$$\n",
        "とすると，$A$の固有方程式は，\n",
        "\\begin{eqnarray*}\n",
        " \\phi_A(\\lambda)\n",
        " &=& \\begin{vmatrix}\n",
        "      2-\\lambda & 1 & 1\\cr\n",
        "      1 & 2-\\lambda & 1\\cr\n",
        "      1 & 1 & 2-\\lambda\n",
        "     \\end{vmatrix}\\\\\n",
        " &=& -\\begin{vmatrix}\n",
        "      1 & 1 & 2-\\lambda\\\\\n",
        "      1 & 2-\\lambda & 1\\cr\n",
        "      2-\\lambda & 1 & 1\n",
        "     \\end{vmatrix}\\quad \\mbox{1行と3行入れ替え}\\\\\n",
        "&=& -\\begin{vmatrix}\n",
        "      1 & 1         & 2-\\lambda\\\\\n",
        "      0 & 1-\\lambda & -1+\\lambda \\cr\n",
        "      0 &-1+\\lambda & 1-(2-\\lambda)^2\n",
        "     \\end{vmatrix}\\quad \\begin{array}{l}\n",
        "                         \\mbox{2行$-$1行}\\\\\n",
        "                         \\mbox{3行$-(2-\\lambda)\\times$1行}\n",
        "                        \\end{array}\n",
        "\\\\\n",
        " &=& -\\begin{vmatrix}\n",
        "      1 & 1         & 2-\\lambda\\\\\n",
        "      0 & 1-\\lambda & -1+\\lambda \\cr\n",
        "      0 & 0         & -4+5\\lambda-\\lambda^2\n",
        "     \\end{vmatrix}\\quad \\mbox{3行$+$2行}\\\\\n",
        " &=& -(\\lambda-1)^2(\\lambda-4)^2.\n",
        "\\end{eqnarray*}\n",
        "∴ $A$の固有値は，$1$と$4$. 固有値$1$に対する固有ベクトルは，\n",
        "\\begin{eqnarray*}\n",
        " && \\begin{pmatrix}\n",
        "      1 & 1 & 1\\cr\n",
        "      1 & 1 & 1\\cr\n",
        "      1 & 1 & 1\n",
        "     \\end{pmatrix}\n",
        "     \\begin{pmatrix}\n",
        "      x_1 \\\\ x_2 \\\\ x_3\n",
        "     \\end{pmatrix}=\\boldsymbol{0}\\\\\n",
        "&\\iff&\n",
        "\\begin{pmatrix}\n",
        "      1 & 1 & 1\\cr\n",
        "      0 & 0 & 0\\cr\n",
        "      0 & 0 & 0\n",
        "     \\end{pmatrix}\n",
        "     \\begin{pmatrix}\n",
        "      x_1 \\\\ x_2 \\\\ x_3\n",
        "     \\end{pmatrix}=\\boldsymbol{0}\n",
        "\\end{eqnarray*}\n",
        "より，$(-1,1,0)^\\top$と$(-1,0,1)^\\top$. $(-1,1,0)^\\top$を正規化して\n",
        "$\\left(-\\frac{\\sqrt{2}}{2}, \\frac{\\sqrt{2}}{2},0\\right)^\\top$. このベクトルを用いて$(-1,0,1)^\\top$を直交化すると，\n",
        "\\begin{eqnarray*}\n",
        " &&(-1,0,1)^\\top-(-1,0,1)\\left(-\\frac{\\sqrt{2}}{2}, \\frac{\\sqrt{2}}{2},0\\right)^\\top\n",
        " \\left(-\\frac{\\sqrt{2}}{2}, \\frac{\\sqrt{2}}{2},0\\right)^\\top\\\\\n",
        " &=& (-1,0,1)^\\top-\\frac{\\sqrt{2}}{2} \\left(-\\frac{\\sqrt{2}}{2}, \\frac{\\sqrt{2}}{2},0\\right)^\\top\\\\\n",
        " &=& (-1,0,1)^\\top-\\left(-\\frac{1}{2}, \\frac{1}{2},0\\right)^\\top\\\\\n",
        " &=& \\left(-\\frac{1}{2}, -\\frac{1}{2},1\\right)^\\top.\n",
        "\\end{eqnarray*}\n",
        "このベクトルを正規化して，$\\left(-\\frac{\\sqrt{6}}{6}, -\\frac{\\sqrt{6}}{6},\\frac{\\sqrt{6}}{3}\\right)$.\n",
        "固有値$4$に対する固有ベクトルは，\n",
        "\\begin{eqnarray*}\n",
        " && \\begin{pmatrix}\n",
        "      -2 & 1 & 1\\cr\n",
        "      1 & -2 & 1\\cr\n",
        "      1 & 1 & -2\n",
        "     \\end{pmatrix}\n",
        "     \\begin{pmatrix}\n",
        "      x_1 \\\\ x_2 \\\\ x_3\n",
        "     \\end{pmatrix}=\\boldsymbol{0}\\\\\n",
        "&\\iff&\n",
        "\\begin{pmatrix}\n",
        "      0 & 3 & -3\\cr\n",
        "      0 & -3 & 3\\cr\n",
        "      1 & 1 & -2\n",
        "     \\end{pmatrix}\n",
        "     \\begin{pmatrix}\n",
        "      x_1 \\\\ x_2 \\\\ x_3\n",
        "     \\end{pmatrix}=\\boldsymbol{0}\\quad \\begin{array}{l}\n",
        "                         \\mbox{1行$+2\\times $3行}\\\\\n",
        "                         \\mbox{2行$-$3行}\n",
        "                        \\end{array}\\\\\n",
        "&\\iff&\n",
        "\\begin{pmatrix}\n",
        "      0 & 3 & -3\\cr\n",
        "      0 & 1 & -1\\cr\n",
        "      1 & 1 & -2\n",
        "     \\end{pmatrix}\n",
        "     \\begin{pmatrix}\n",
        "      x_1 \\\\ x_2 \\\\ x_3\n",
        "     \\end{pmatrix}=\\boldsymbol{0}\\quad \\begin{array}{l}\n",
        "                         \\mbox{2行$\\div(-3)$}\n",
        "                        \\end{array}\\\\\n",
        "&\\iff&\n",
        "\\begin{pmatrix}\n",
        "      0 & 0 & 0\\cr\n",
        "      0 & 1 & -1\\cr\n",
        "      1 &  0 & -1\n",
        "     \\end{pmatrix}\n",
        "     \\begin{pmatrix}\n",
        "      x_1 \\\\ x_2 \\\\ x_3\n",
        "     \\end{pmatrix}=\\boldsymbol{0}\\quad \\begin{array}{l}\n",
        "                         \\mbox{1行$-3\\times$2行}\\\\\n",
        "                         \\mbox{3行$-$2行}\n",
        "                        \\end{array}\n",
        "\\end{eqnarray*}\n",
        "より，$(1,1,1)^\\top$. これを正規化して，$\\left(\\frac{\\sqrt{3}}{3},\\frac{\\sqrt{3}}{3},\\frac{\\sqrt{3}}{3}\\right)^\\top.$\n",
        "以上から，\n",
        "$$\n",
        "P=\\begin{pmatrix}\n",
        "-\\frac{\\sqrt{2}}{2} & -\\frac{\\sqrt{6}}{6} & \\frac{\\sqrt{3}}{3}\\\\\n",
        "   \\frac{\\sqrt{2}}{2} & -\\frac{\\sqrt{6}}{6} & \\frac{\\sqrt{3}}{3}\\\\\n",
        "   0 & \\frac{\\sqrt{6}}{3} &\\frac{\\sqrt{3}}{3}\n",
        "  \\end{pmatrix}\n",
        "$$\n",
        "とおくと，\n",
        "$$\n",
        "P^\\top A P=\n",
        "\\begin{pmatrix}\n",
        " 1 & 0 & 0 \\\\\n",
        " 0 & 1 & 0 \\\\\n",
        " 0 & 0 &4\n",
        "\\end{pmatrix}\n",
        "$$\n",
        "\n",
        "(3)\n",
        "$$\n",
        "A=\\begin{pmatrix}\n",
        "\t2 & 1 & 1 & -2\\cr\n",
        "\t1 & 2 & -2 & 1\\cr\n",
        "\t1 & -2 & 2 & 1\\cr\n",
        "\t-2 & 1 & 1 & 2\n",
        "\\end{pmatrix}\n",
        "$$\n",
        "とすると，$A$の固有方程式は，\n",
        "\\begin{eqnarray*}\n",
        "\t\\phi_A(\\lambda)\n",
        "\t&=&\n",
        "\t\\begin{vmatrix}\n",
        "\t\t2 -\\lambda & 1          & 1         & -2\\cr\n",
        "\t\t1          & 2 -\\lambda &-2         & 1\\cr\n",
        "\t\t1          &-2          & 2 -\\lambda& 1\\cr\n",
        "\t   -2          & 1          & 1         & 2-\\lambda\n",
        "\t\\end{vmatrix}\\\\\n",
        "&=& \\begin{vmatrix}\n",
        "    -2        & 1         & 1         & 2-\\lambda\\cr\n",
        "\t1         & -2        & 2-\\lambda & 1\\cr\n",
        "\t1         & 2-\\lambda & -2        & 1\\cr\n",
        "\t2-\\lambda & 1         & 1         & -2\n",
        "\\end{vmatrix}\\quad\n",
        "\\begin{array}{l}\\mbox{1列と4列入れ替え}\\\\\n",
        "\\mbox{2列と3列入れ替え}\\end{array}\\\\\n",
        "&=& -2\\begin{vmatrix}\n",
        "\t1        & -\\frac{1}{2}& -\\frac{1}{2} & \\frac{\\lambda-2}{2}\\cr\n",
        "\t1         & -2        & 2-\\lambda & 1\\cr\n",
        "\t1         & 2-\\lambda & -2        & 1\\cr\n",
        "\t2-\\lambda & 1         & 1         & -2\n",
        "\\end{vmatrix}\\quad\n",
        "\\begin{array}{l}\\mbox{1行から$(-2)$を括りだし}\\\\\n",
        "\t\\end{array}\\\\\n",
        "&=& -2\\begin{vmatrix}\n",
        "\t1 & -\\frac{1}{2}& -\\frac{1}{2} & \\frac{\\lambda-2}{2}\\cr\n",
        "\t0& -\\frac{3}{2} & \\frac{5-2\\lambda}{2} & \\frac{4-\\lambda}{2}\\cr\n",
        "\t0& \\frac{5-2\\lambda}{2} & -\\frac{3}{2} & \\frac{4-\\lambda}{2}\\cr\n",
        "\t0 & \\frac{4-\\lambda}{2}& \\frac{4-\\lambda}{2} & -\\frac{\\lambda(4-\\lambda)}{2}\n",
        "\\end{vmatrix}\\quad\n",
        "\\begin{array}{l}\n",
        "\t\\mbox{2行$-$1行}\\\\\n",
        "\t\\mbox{3行$-$1行}\\\\\n",
        "\t\\mbox{4行$-(2-\\lambda)\\times $1行}\n",
        "\\end{array}\\\\\n",
        "&=&\\frac{3}{4}\n",
        "\\begin{vmatrix}\n",
        "\t1 & -\\frac{1}{2}& -\\frac{1}{2} & \\frac{\\lambda-2}{2}\\cr\n",
        "\t0& 1 & -\\frac{5-2\\lambda}{3} & -\\frac{4-\\lambda}{3}\\cr\n",
        "\t0& 5-2\\lambda & -3 & 4-\\lambda \\cr\n",
        "\t0 & 4-\\lambda & 4-\\lambda & -\\lambda(4-\\lambda)\n",
        "\\end{vmatrix}\\quad\n",
        "\\begin{array}{l}\n",
        "\t\\mbox{2行から$-\\frac{3}{2}$を括りだし}\\\\\n",
        "\t\\mbox{3行から$\\frac{1}{2}$を括りだし}\\\\\n",
        "\t\\mbox{4行から$\\frac{1}{2}$を括りだし}\n",
        "\\end{array}\\\\\n",
        "&=&\\frac{3}{4}\n",
        "\\begin{vmatrix}\n",
        "\t1 & -\\frac{1}{2}& -\\frac{1}{2} & \\frac{\\lambda-2}{2}\\cr\n",
        "\t0& 1 & -\\frac{5-2\\lambda}{3} & -\\frac{4-\\lambda}{3}\\cr\n",
        "\t0& 0 & \\frac{4}{3}(\\lambda-1)(\\lambda-4) & \\frac{2}{3}(\\lambda-4)^2 \\cr\n",
        "\t0 &0& \\frac{2}{3}(\\lambda-4)^2 &  \\frac{4}{3}(\\lambda-1)(\\lambda-4)\n",
        "\\end{vmatrix}\\quad\n",
        "\\begin{array}{l}\n",
        "\t\\mbox{3行$-(5-2\\lambda)\\times$2行}\\\\\n",
        "\t\\mbox{4行$-(4-\\lambda)\\times$2行}\n",
        "\\end{array}\\\\\n",
        "&=&\\frac{1}{12}\n",
        "\\begin{vmatrix}\n",
        "\t1 & -\\frac{1}{2}& -\\frac{1}{2} & \\frac{\\lambda-2}{2}\\cr\n",
        "\t0& 1 & -\\frac{5-2\\lambda}{3} & -\\frac{4-\\lambda}{3}\\cr\n",
        "\t0& 0 & 4(\\lambda-1)(\\lambda-4) & 2(\\lambda-4)^2 \\cr\n",
        "\t0 &0& 2(\\lambda-4)^2 & 4(\\lambda-1)(\\lambda-4)\n",
        "\\end{vmatrix}\\quad\n",
        "\\begin{array}{l}\n",
        "\t\\mbox{3行から$\\frac{1}{3}$を括りだし}\\\\\n",
        "\t\\mbox{4行から$\\frac{1}{3}$を括りだし}\n",
        "\\end{array}\\\\\n",
        "&=& \\frac{(\\lambda-4)^2}{3}(4(\\lambda-1)^2-(\\lambda-4)^2)\\\\\n",
        "&=& (\\lambda-4)^2(\\lambda-2)(\\lambda+2).\n",
        "\\end{eqnarray*}\n",
        "∴ $A$の固有値は，$-2$, $2$, $4$で，$4$の重複度は$2$.\n",
        "固有値$-2$に対する固有ベクトルは，\n",
        "\\begin{eqnarray*}\n",
        "\t&&\\begin{pmatrix}\n",
        "\t\t4 & 1 & 1 & -2\\cr\n",
        "\t\t1 & 4 & -2 & 1\\cr\n",
        "\t\t1 & -2 & 4 & 1\\cr\n",
        "\t\t-2 & 1 & 1 & 4\n",
        "\t\\end{pmatrix}\n",
        "\\begin{pmatrix}\n",
        "\tx_1\\\\x_2\\\\x_3\\\\x_4\n",
        "\\end{pmatrix}=\\boldsymbol{0}\\\\\n",
        "&\\iff&\n",
        "\\begin{pmatrix}\n",
        "\t1 & 4 & -2 & 1\\cr\n",
        "\t4 & 1 & 1 & -2\\cr\n",
        "\t1 & -2 & 4 & 1\\cr\n",
        "\t-2 & 1 & 1 & 4\n",
        "\\end{pmatrix}\n",
        "\\begin{pmatrix}\n",
        "\tx_1\\\\x_2\\\\x_3\\\\x_4\n",
        "\\end{pmatrix}=\\boldsymbol{0}\\quad\n",
        "\\begin{array}{l}\n",
        "\\mbox{1行と4行入れ替}\\end{array}\\\\\n",
        "&\\iff&\n",
        "\\begin{pmatrix}\n",
        "\t1 & 4 & -2 & 1\\cr\n",
        "\t0 & -15 & 9 & -6\\cr\n",
        "\t0 & -6 & 6 & 0\\cr\n",
        "\t0 & 9 & -3 & 6\n",
        "\\end{pmatrix}\n",
        "\\begin{pmatrix}\n",
        "\tx_1\\\\x_2\\\\x_3\\\\x_4\n",
        "\\end{pmatrix}=\\boldsymbol{0}\\quad\n",
        "\\begin{array}{l}\n",
        "\t\\mbox{2行$-4\\times$1行}\\\\\n",
        "\t\\mbox{3行$-$1行}\\\\\n",
        "\t\\mbox{4行$+2\\times$1行}\n",
        "\\end{array}\\\\\n",
        "&\\iff&\n",
        "\\begin{pmatrix}\n",
        "\t1 & 4 & -2 & 1\\cr\n",
        "\t0 & 1 & -1 & 0\\cr\n",
        "\t0 & -5 & 3 & -3\\cr\n",
        "\t0 & 3 & -1 & 2\n",
        "\\end{pmatrix}\n",
        "\\begin{pmatrix}\n",
        "\tx_1\\\\x_2\\\\x_3\\\\x_4\n",
        "\\end{pmatrix}=\\boldsymbol{0}\\quad\n",
        "\\begin{array}{l}\n",
        "\t\\mbox{2行と3行入れ替え}\\\\\n",
        "\t\\mbox{2〜4行$\\div$3}\n",
        "\\end{array}\\\\\n",
        "&\\iff&\n",
        "\\begin{pmatrix}\n",
        "\t1 & 0 & 2 & 1\\cr\n",
        "\t0 & 1 & -1 & 0\\cr\n",
        "\t0 & 0 & -2 & -2\\cr\n",
        "\t0 & 0 &  2 & 2\n",
        "\\end{pmatrix}\n",
        "\\begin{pmatrix}\n",
        "\tx_1\\\\x_2\\\\x_3\\\\x_4\n",
        "\\end{pmatrix}=\\boldsymbol{0}\\quad\n",
        "\\begin{array}{l}\n",
        "\t\\mbox{1行$-4\\times$2行}\\\\\n",
        "\t\\mbox{3行$+5\\times$2行}\\\\\n",
        "\t\\mbox{4行$-3\\times$2行}\\\\\n",
        "\\end{array}\\\\\n",
        "&\\iff&\n",
        "\\begin{pmatrix}\n",
        "\t1 & 0 & 2 & 1\\cr\n",
        "\t0 & 1 & -1 & 0\\cr\n",
        "\t0 & 0 & 1 & 1\\cr\n",
        "\t0 & 0 & 0 & 0\n",
        "\\end{pmatrix}\n",
        "\\begin{pmatrix}\n",
        "\tx_1\\\\x_2\\\\x_3\\\\x_4\n",
        "\\end{pmatrix}=\\boldsymbol{0}\\quad\n",
        "\\begin{array}{l}\n",
        "\t\\mbox{4行$+$3行}\\\\\n",
        "\t\\mbox{3行$\\div(-2)$}\n",
        "\\end{array}\\\\\n",
        "&\\iff&\n",
        "\\begin{pmatrix}\n",
        "\t1 & 0 & 0 & -1\\cr\n",
        "\t0 & 1 & 0 & 1\\cr\n",
        "\t0 & 0 & 1 & 1\\cr\n",
        "\t0 & 0 & 0 & 0\n",
        "\\end{pmatrix}\n",
        "\\begin{pmatrix}\n",
        "\tx_1\\\\x_2\\\\x_3\\\\x_4\n",
        "\\end{pmatrix}=\\boldsymbol{0}\\quad\n",
        "\\begin{array}{l}\n",
        "\t\\mbox{1行$-2\\times$3行}\\\\\n",
        "\t\\mbox{2行$+$3行}\n",
        "\\end{array}\n",
        "\\end{eqnarray*}\n",
        "より，$(1,-1,-1,1)^\\top$．これを正規化して$\\frac{1}{2}(1,-1,-1,1)^\\top$.\n",
        "固有値$2$に対する固有ベクトルは，\n",
        "\\begin{eqnarray*}\n",
        "\t&&\\begin{pmatrix}\n",
        "\t\t0 & 1 & 1 & -2\\cr\n",
        "\t\t1 & 0 & -2 & 1\\cr\n",
        "\t\t1 & -2 & 0 & 1\\cr\n",
        "\t\t-2 & 1 & 1 & 0\n",
        "\t\\end{pmatrix}\n",
        "\t\\begin{pmatrix}\n",
        "\t\tx_1\\\\x_2\\\\x_3\\\\x_4\n",
        "\t\\end{pmatrix}=\\boldsymbol{0}\\\\\n",
        "\t&\\iff&\n",
        "\t\\begin{pmatrix}\n",
        "\t\t1 & 0 & -2 & 1\\cr\n",
        "\t\t0 & 1 & 1 & -2\\cr\n",
        "\t\t1 & -2 & 0 & 1\\cr\n",
        "\t\t-2 & 1 & 1 & 0\n",
        "\t\\end{pmatrix}\n",
        "\t\\begin{pmatrix}\n",
        "\t\tx_1\\\\x_2\\\\x_3\\\\x_4\n",
        "\t\\end{pmatrix}=\\boldsymbol{0}\\quad\n",
        "\t\\begin{array}{l}\n",
        "\t\t\\mbox{1行と2行入れ替}\\end{array}\\\\\n",
        "\t&\\iff&\n",
        "\t\\begin{pmatrix}\n",
        "\t\t1 & 0 & -2 & 1\\cr\n",
        "\t\t0 & 1 & 1 & -2\\cr\n",
        "\t\t0 & -2 & 2 & 0\\cr\n",
        "\t\t0 & 1 & -3 & 2\n",
        "\t\\end{pmatrix}\n",
        "\t\\begin{pmatrix}\n",
        "\t\tx_1\\\\x_2\\\\x_3\\\\x_4\n",
        "\t\\end{pmatrix}=\\boldsymbol{0}\\quad\n",
        "\t\\begin{array}{l}\n",
        "\t\t\\mbox{3行$-$1行}\\\\\n",
        "\t\t\\mbox{4行$+2\\times$1行}\n",
        "\t\\end{array}\\\\\n",
        "\t&\\iff&\n",
        "\t\\begin{pmatrix}\n",
        "\t\t1 & 0 & -2 & 1\\cr\n",
        "\t\t0 & 1 & 1 & -2\\cr\n",
        "\t\t0 & 0 & 4 & -4\\cr\n",
        "\t\t0 & 0 & -4 & 4\n",
        "\t\\end{pmatrix}\n",
        "\t\\begin{pmatrix}\n",
        "\t\tx_1\\\\x_2\\\\x_3\\\\x_4\n",
        "\t\\end{pmatrix}=\\boldsymbol{0}\\quad\n",
        "\t\\begin{array}{l}\n",
        "\t\t\\mbox{3行$+2\\times$2行}\\\\\n",
        "\t\t\\mbox{4行$-$2行}\n",
        "\t\\end{array}\\\\\n",
        "\t&\\iff&\n",
        "\t\\begin{pmatrix}\n",
        "\t\t1 & 0 & -2 & 1\\cr\n",
        "\t\t0 & 1 & 1 & -2\\cr\n",
        "\t\t0 & 0 & 1 & -1\\cr\n",
        "\t\t0 & 0 & 0 & 0\n",
        "\t\\end{pmatrix}\n",
        "\t\\begin{pmatrix}\n",
        "\t\tx_1\\\\x_2\\\\x_3\\\\x_4\n",
        "\t\\end{pmatrix}=\\boldsymbol{0}\\quad\n",
        "\t\\begin{array}{l}\n",
        "\t\t\\mbox{4行$+$3行}\\\\\n",
        "\t\t\\mbox{3行$\n",
        "\t\t\t\\div4$}\n",
        "\t\\end{array}\\\\\n",
        "&\\iff&\n",
        "\\begin{pmatrix}\n",
        "\t1 & 0 & 0 & -1\\cr\n",
        "\t0 & 1 & 0 & -1\\cr\n",
        "\t0 & 0 & 1 & -1\\cr\n",
        "\t0 & 0 & 0 & 0\n",
        "\\end{pmatrix}\n",
        "\\begin{pmatrix}\n",
        "\tx_1\\\\x_2\\\\x_3\\\\x_4\n",
        "\\end{pmatrix}=\\boldsymbol{0}\\quad\n",
        "\\begin{array}{l}\n",
        "\t\\mbox{1行$+2\\times$3行}\\\\\n",
        "\t\\mbox{2行$-$3行}\n",
        "\\end{array}\n",
        "\\end{eqnarray*}\n",
        "より，$(1,1,1,1)^\\top$．これを正規化して$\\frac{1}{2}(1,1,1,1)^\\top$.\n",
        "\n",
        "固有値$4$に対する固有ベクトルは，\n",
        "\\begin{eqnarray*}\n",
        "\t&&\\begin{pmatrix}\n",
        "\t\t-2 & 1 & 1 & -2\\cr\n",
        "\t\t1 & -2 & -2 & 1\\cr\n",
        "\t\t1 & -2 & -2 & 1\\cr\n",
        "\t\t-2 & 1 & 1 & -2\n",
        "\t\\end{pmatrix}\n",
        "\t\\begin{pmatrix}\n",
        "\t\tx_1\\\\x_2\\\\x_3\\\\x_4\n",
        "\t\\end{pmatrix}=\\boldsymbol{0}\\\\\n",
        "\t&\\iff&\n",
        "\t\\begin{pmatrix}\n",
        "\t\t1 & -2 & -2 & 1\\cr\n",
        "\t\t-2 & 1 & 1 & -2\\cr\n",
        "\t\t1 & -2 & -2 & 1\\cr\n",
        "\t\t-2 & 1 & 1 & -2\n",
        "\t\\end{pmatrix}\n",
        "\t\\begin{pmatrix}\n",
        "\t\tx_1\\\\x_2\\\\x_3\\\\x_4\n",
        "\t\\end{pmatrix}=\\boldsymbol{0}\\quad\n",
        "\t\\begin{array}{l}\n",
        "\t\t\\mbox{1行と2行入れ替}\\end{array}\\\\\n",
        "\t&\\iff&\n",
        "\t\\begin{pmatrix}\n",
        "\t\t1 & -2 & -2 & 1\\cr\n",
        "\t\t-2 & 1 & 1 & -2\\cr\n",
        "\t\t0 & 0 & 0 & 0\\cr\n",
        "\t\t0 & 0 & 0 & 0\n",
        "\t\\end{pmatrix}\n",
        "\t\\begin{pmatrix}\n",
        "\t\tx_1\\\\x_2\\\\x_3\\\\x_4\n",
        "\t\\end{pmatrix}=\\boldsymbol{0}\\quad\n",
        "\t\\begin{array}{l}\n",
        "\t\t\\mbox{3行$-$1行}\\\\\n",
        "\t\t\\mbox{4行$-$2行}\n",
        "\t\\end{array}\\\\\n",
        "\t&\\iff&\n",
        "\t\\begin{pmatrix}\n",
        "\t\t1 & -2 & -2 & 1\\cr\n",
        "\t\t0 & -3 & -3 & 0\\cr\n",
        "\t\t0 & 0 & 0 & 0\\cr\n",
        "\t\t0 & 0 & 0 & 0\n",
        "\t\\end{pmatrix}\n",
        "\t\\begin{pmatrix}\n",
        "\t\tx_1\\\\x_2\\\\x_3\\\\x_4\n",
        "\t\\end{pmatrix}=\\boldsymbol{0}\\quad\n",
        "\t\\begin{array}{l}\n",
        "\t\t\\mbox{2行$+2\\times$1行}\n",
        "\t\\end{array}\\\\\n",
        "\t&\\iff&\n",
        "\t\\begin{pmatrix}\n",
        "\t\t1 & -2 & -2 & 1\\cr\n",
        "\t\t0 & 1 & 1 & 0\\cr\n",
        "\t\t0 & 0 & 0 & 0\\cr\n",
        "\t\t0 & 0 & 0 & 0\n",
        "\t\\end{pmatrix}\n",
        "\t\\begin{pmatrix}\n",
        "\t\tx_1\\\\x_2\\\\x_3\\\\x_4\n",
        "\t\\end{pmatrix}=\\boldsymbol{0}\\quad\n",
        "\t\\begin{array}{l}\n",
        "\t\t\\mbox{2行$\\div(-3)$}\n",
        "\t\\end{array}\\\\\n",
        "&\\iff&\n",
        "\\begin{pmatrix}\n",
        "\t1 & 0 & 0 & 1\\cr\n",
        "\t0 & 1 & 1 & 0\\cr\n",
        "\t0 & 0 & 0 & 0\\cr\n",
        "\t0 & 0 & 0 & 0\n",
        "\\end{pmatrix}\n",
        "\\begin{pmatrix}\n",
        "\tx_1\\\\x_2\\\\x_3\\\\x_4\n",
        "\\end{pmatrix}=\\boldsymbol{0}\\quad\n",
        "\\begin{array}{l}\n",
        "\t\\mbox{1行$+2\\times$2行}\n",
        "\\end{array}\n",
        "\\end{eqnarray*}\n",
        "より，$(-1,0,0,1)^\\top$と$(0,-1,1,0)^\\top$．$(-1,0,0,1)^\\top$と$(0,-1,1,0)^\\top$を各々正規化して$\\frac{\\sqrt{2}}{2}(-1,0,0,1)^\\top$と\n",
        "$\\frac{\\sqrt{2}}{2}(0,-1,1,0)^\\top$.\n",
        "\n",
        "以上から，\n",
        "$$\n",
        "P=\\frac{1}{2}\n",
        "\\begin{pmatrix}\n",
        "\t1 & 1  & -\\sqrt{2} & 0 \\\\\n",
        "\t-1 & 1 & 0         &-\\sqrt{2} \\\\\n",
        "\t-1 & 1 & 0         & \\sqrt{2} \\\\\n",
        "    1 & 1  & \\sqrt{2}  & 0\n",
        "\\end{pmatrix}\n",
        "$$\n",
        "とおくと，\n",
        "$$\n",
        "P^\\top A P=\n",
        "\\begin{pmatrix}\n",
        "\t-2 & 0 & 0 & 0\\\\\n",
        "\t0 & 2 & 0 & 0\\\\\n",
        "\t0 & 0 & 4 & 0 \\\\\n",
        "\t0 & 0 & 0 & 4\n",
        "\\end{pmatrix}.\n",
        "$$"
      ],
      "metadata": {
        "id": "_YBVKvv5TKzj"
      },
      "id": "_YBVKvv5TKzj"
    },
    {
      "cell_type": "markdown",
      "source": [
        "**Python SymPyを用いた解答例**"
      ],
      "metadata": {
        "id": "HJeGLAa7U5hV"
      },
      "id": "HJeGLAa7U5hV"
    },
    {
      "cell_type": "markdown",
      "source": [
        "(1)"
      ],
      "metadata": {
        "id": "OlBXeZaqVQ96"
      },
      "id": "OlBXeZaqVQ96"
    },
    {
      "cell_type": "code",
      "source": [
        "from sympy import *\n",
        "#　行列Aの生成\n",
        "A=Matrix([[0, 1 ,sqrt(2)],\n",
        "\t\t[1, 2, sqrt(2)],\n",
        "\t\t[sqrt(2), sqrt(2),  1]])\n",
        "A"
      ],
      "metadata": {
        "id": "lst0b9WOVTeC",
        "outputId": "9ce75a33-4780-4bf4-bffd-b3ebc2b36ce1",
        "colab": {
          "base_uri": "https://localhost:8080/",
          "height": 81
        }
      },
      "id": "lst0b9WOVTeC",
      "execution_count": null,
      "outputs": [
        {
          "output_type": "execute_result",
          "data": {
            "text/plain": [
              "Matrix([\n",
              "[      0,       1, sqrt(2)],\n",
              "[      1,       2, sqrt(2)],\n",
              "[sqrt(2), sqrt(2),       1]])"
            ],
            "text/latex": "$\\displaystyle \\left[\\begin{matrix}0 & 1 & \\sqrt{2}\\\\1 & 2 & \\sqrt{2}\\\\\\sqrt{2} & \\sqrt{2} & 1\\end{matrix}\\right]$"
          },
          "metadata": {},
          "execution_count": 63
        }
      ]
    },
    {
      "cell_type": "code",
      "source": [
        "# 行列Aの(固有値，重複度，固有ベクトル)を求める．\n",
        "A.eigenvects()"
      ],
      "metadata": {
        "id": "Ui65uD2yVbIm",
        "outputId": "f4da4b92-cda0-4949-854d-547b1dc6d2fe",
        "colab": {
          "base_uri": "https://localhost:8080/"
        }
      },
      "id": "Ui65uD2yVbIm",
      "execution_count": null,
      "outputs": [
        {
          "output_type": "execute_result",
          "data": {
            "text/plain": [
              "[(-1,\n",
              "  1,\n",
              "  [Matrix([\n",
              "   [-sqrt(2)],\n",
              "   [       0],\n",
              "   [       1]])]),\n",
              " (2 - sqrt(3),\n",
              "  1,\n",
              "  [Matrix([\n",
              "   [                         sqrt(2)/2],\n",
              "   [-sqrt(2) + sqrt(2)*(2 - sqrt(3))/2],\n",
              "   [                                 1]])]),\n",
              " (sqrt(3) + 2,\n",
              "  1,\n",
              "  [Matrix([\n",
              "   [                         sqrt(2)/2],\n",
              "   [-sqrt(2) + sqrt(2)*(sqrt(3) + 2)/2],\n",
              "   [                                 1]])])]"
            ]
          },
          "metadata": {},
          "execution_count": 64
        }
      ]
    },
    {
      "cell_type": "code",
      "source": [
        "# 固有ベクトルを正規直交化する．\n",
        "P1=GramSchmidt([Matrix([[-sqrt(2)],\n",
        "\t[       0],\n",
        "\t[       1]])],True)\n",
        "P2=GramSchmidt([Matrix([\n",
        "\t[                         sqrt(2)/2],\n",
        "\t[-sqrt(2) + sqrt(2)*(2 - sqrt(3))/2],\n",
        "\t[                                 1]])],True)\n",
        "P3=GramSchmidt([Matrix([\n",
        "\t[                         sqrt(2)/2],\n",
        "\t[-sqrt(2) + sqrt(2)*(sqrt(3) + 2)/2],\n",
        "\t[                                 1]])],True)\n",
        "#正規直交化した固有ベクトルから直交行列Pを生成する．\n",
        "P=Matrix(P1).row_join(Matrix(P2))\n",
        "P=P.row_join(Matrix(P3))\n",
        "P"
      ],
      "metadata": {
        "id": "uE6_PsHsV6qV",
        "outputId": "2382597b-4475-464e-eea1-be8384ef5766",
        "colab": {
          "base_uri": "https://localhost:8080/",
          "height": 88
        }
      },
      "id": "uE6_PsHsV6qV",
      "execution_count": null,
      "outputs": [
        {
          "output_type": "execute_result",
          "data": {
            "text/plain": [
              "Matrix([\n",
              "[-sqrt(6)/3,  sqrt(6)/6, sqrt(6)/6],\n",
              "[         0, -sqrt(2)/2, sqrt(2)/2],\n",
              "[ sqrt(3)/3,  sqrt(3)/3, sqrt(3)/3]])"
            ],
            "text/latex": "$\\displaystyle \\left[\\begin{matrix}- \\frac{\\sqrt{6}}{3} & \\frac{\\sqrt{6}}{6} & \\frac{\\sqrt{6}}{6}\\\\0 & - \\frac{\\sqrt{2}}{2} & \\frac{\\sqrt{2}}{2}\\\\\\frac{\\sqrt{3}}{3} & \\frac{\\sqrt{3}}{3} & \\frac{\\sqrt{3}}{3}\\end{matrix}\\right]$"
          },
          "metadata": {},
          "execution_count": 65
        }
      ]
    },
    {
      "cell_type": "code",
      "source": [
        "# 対角化行列を求める．\n",
        "P.T*A*P\n",
        "# 式の簡略化\n",
        "simplify(P.T*A*P)"
      ],
      "metadata": {
        "id": "cem36ygRWBWX",
        "outputId": "62d74fd7-d005-4468-c9e9-b84e3f2edb2b",
        "colab": {
          "base_uri": "https://localhost:8080/",
          "height": 80
        }
      },
      "id": "cem36ygRWBWX",
      "execution_count": null,
      "outputs": [
        {
          "output_type": "execute_result",
          "data": {
            "text/plain": [
              "Matrix([\n",
              "[-1,           0,           0],\n",
              "[ 0, 2 - sqrt(3),           0],\n",
              "[ 0,           0, sqrt(3) + 2]])"
            ],
            "text/latex": "$\\displaystyle \\left[\\begin{matrix}-1 & 0 & 0\\\\0 & 2 - \\sqrt{3} & 0\\\\0 & 0 & \\sqrt{3} + 2\\end{matrix}\\right]$"
          },
          "metadata": {},
          "execution_count": 66
        }
      ]
    },
    {
      "cell_type": "markdown",
      "source": [
        "(2)"
      ],
      "metadata": {
        "id": "_9Mo92-FWIX3"
      },
      "id": "_9Mo92-FWIX3"
    },
    {
      "cell_type": "code",
      "source": [
        "# 行列Aの生成\n",
        "from sympy import *\n",
        "A=Matrix([[2, 1 ,1], [1, 2, 1],[1, 1, 2]])\n",
        "A"
      ],
      "metadata": {
        "id": "f5cZFLPGWJoY",
        "outputId": "c14840fa-c8c3-4294-f0f9-6e9340c6bfbe",
        "colab": {
          "base_uri": "https://localhost:8080/",
          "height": 78
        }
      },
      "id": "f5cZFLPGWJoY",
      "execution_count": null,
      "outputs": [
        {
          "output_type": "execute_result",
          "data": {
            "text/plain": [
              "Matrix([\n",
              "[2, 1, 1],\n",
              "[1, 2, 1],\n",
              "[1, 1, 2]])"
            ],
            "text/latex": "$\\displaystyle \\left[\\begin{matrix}2 & 1 & 1\\\\1 & 2 & 1\\\\1 & 1 & 2\\end{matrix}\\right]$"
          },
          "metadata": {},
          "execution_count": 67
        }
      ]
    },
    {
      "cell_type": "code",
      "source": [
        "# 行列Aの(固有値，重複度，固有ベクトル)を求める．\n",
        "A.eigenvects()"
      ],
      "metadata": {
        "id": "2nkihAtlWZYB",
        "outputId": "cf2e919f-c694-4ac0-e3f8-b9684485f779",
        "colab": {
          "base_uri": "https://localhost:8080/"
        }
      },
      "id": "2nkihAtlWZYB",
      "execution_count": null,
      "outputs": [
        {
          "output_type": "execute_result",
          "data": {
            "text/plain": [
              "[(1,\n",
              "  2,\n",
              "  [Matrix([\n",
              "   [-1],\n",
              "   [ 1],\n",
              "   [ 0]]),\n",
              "   Matrix([\n",
              "   [-1],\n",
              "   [ 0],\n",
              "   [ 1]])]),\n",
              " (4,\n",
              "  1,\n",
              "  [Matrix([\n",
              "   [1],\n",
              "   [1],\n",
              "   [1]])])]"
            ]
          },
          "metadata": {},
          "execution_count": 68
        }
      ]
    },
    {
      "cell_type": "code",
      "source": [
        "#重複度が2の固有値の固有ベクトル(-1,1,0)と(-1,0,1)をGramSchmidtを使って正規直交化する．\n",
        "P1=GramSchmidt([Matrix([\n",
        "\t[-1],\n",
        "\t[ 1],\n",
        "\t[ 0]]), Matrix([\n",
        "\t[-1],\n",
        "\t[ 0],\n",
        "\t[ 1]])],True)\n",
        "#重複度が1の固有値の固有ベクトル(1,1,1)をGramSchmidtを使って正規化する．\n",
        "P2=GramSchmidt([Matrix([\n",
        "\t[1],\n",
        "\t[1],\n",
        "\t[1]])],True)\n",
        "#正規直交化した固有ベクトルを結合して，直交行列Pを作る．\n",
        "P=Matrix(P1[0]).row_join(Matrix(P1[1]))\n",
        "P=P.row_join(Matrix(P2))\n",
        "P"
      ],
      "metadata": {
        "id": "FX3rIOnYWqDy",
        "outputId": "fe44f6ca-78e6-4149-a2e0-c15eb4d0325f",
        "colab": {
          "base_uri": "https://localhost:8080/",
          "height": 88
        }
      },
      "id": "FX3rIOnYWqDy",
      "execution_count": null,
      "outputs": [
        {
          "output_type": "execute_result",
          "data": {
            "text/plain": [
              "Matrix([\n",
              "[-sqrt(2)/2, -sqrt(6)/6, sqrt(3)/3],\n",
              "[ sqrt(2)/2, -sqrt(6)/6, sqrt(3)/3],\n",
              "[         0,  sqrt(6)/3, sqrt(3)/3]])"
            ],
            "text/latex": "$\\displaystyle \\left[\\begin{matrix}- \\frac{\\sqrt{2}}{2} & - \\frac{\\sqrt{6}}{6} & \\frac{\\sqrt{3}}{3}\\\\\\frac{\\sqrt{2}}{2} & - \\frac{\\sqrt{6}}{6} & \\frac{\\sqrt{3}}{3}\\\\0 & \\frac{\\sqrt{6}}{3} & \\frac{\\sqrt{3}}{3}\\end{matrix}\\right]$"
          },
          "metadata": {},
          "execution_count": 69
        }
      ]
    },
    {
      "cell_type": "code",
      "source": [
        "#対角化行列を求める．\n",
        "P.T*A*P"
      ],
      "metadata": {
        "id": "pySV6ypuWyEy",
        "outputId": "98052330-2722-4e97-bc01-33f164f74845",
        "colab": {
          "base_uri": "https://localhost:8080/",
          "height": 78
        }
      },
      "id": "pySV6ypuWyEy",
      "execution_count": null,
      "outputs": [
        {
          "output_type": "execute_result",
          "data": {
            "text/plain": [
              "Matrix([\n",
              "[1, 0, 0],\n",
              "[0, 1, 0],\n",
              "[0, 0, 4]])"
            ],
            "text/latex": "$\\displaystyle \\left[\\begin{matrix}1 & 0 & 0\\\\0 & 1 & 0\\\\0 & 0 & 4\\end{matrix}\\right]$"
          },
          "metadata": {},
          "execution_count": 70
        }
      ]
    },
    {
      "cell_type": "markdown",
      "source": [
        "(3)"
      ],
      "metadata": {
        "id": "ZTM2Ju5aUtRu"
      },
      "id": "ZTM2Ju5aUtRu"
    },
    {
      "cell_type": "code",
      "source": [
        "# 行列Aの生成\n",
        "from sympy import *\n",
        "A=Matrix([[2, 1 ,1,-2], [1, 2, -2,1],[1,-2,2,1],[-2, 1,1,2]])\n",
        "A"
      ],
      "metadata": {
        "id": "Z82Ae3lhW2EQ",
        "outputId": "e723b567-66ac-450e-ecbe-31ac753b34d0",
        "colab": {
          "base_uri": "https://localhost:8080/",
          "height": 98
        }
      },
      "id": "Z82Ae3lhW2EQ",
      "execution_count": null,
      "outputs": [
        {
          "output_type": "execute_result",
          "data": {
            "text/plain": [
              "Matrix([\n",
              "[ 2,  1,  1, -2],\n",
              "[ 1,  2, -2,  1],\n",
              "[ 1, -2,  2,  1],\n",
              "[-2,  1,  1,  2]])"
            ],
            "text/latex": "$\\displaystyle \\left[\\begin{matrix}2 & 1 & 1 & -2\\\\1 & 2 & -2 & 1\\\\1 & -2 & 2 & 1\\\\-2 & 1 & 1 & 2\\end{matrix}\\right]$"
          },
          "metadata": {},
          "execution_count": 71
        }
      ]
    },
    {
      "cell_type": "code",
      "source": [
        "# 行列Aの(固有値，重複度，固有ベクトル)を求める．\n",
        "A.eigenvects()"
      ],
      "metadata": {
        "id": "TAEK6fQGXDUP",
        "outputId": "e3d8e31f-a52e-4aa5-b253-02878f2d3751",
        "colab": {
          "base_uri": "https://localhost:8080/"
        }
      },
      "id": "TAEK6fQGXDUP",
      "execution_count": null,
      "outputs": [
        {
          "output_type": "execute_result",
          "data": {
            "text/plain": [
              "[(-2,\n",
              "  1,\n",
              "  [Matrix([\n",
              "   [ 1],\n",
              "   [-1],\n",
              "   [-1],\n",
              "   [ 1]])]),\n",
              " (2,\n",
              "  1,\n",
              "  [Matrix([\n",
              "   [1],\n",
              "   [1],\n",
              "   [1],\n",
              "   [1]])]),\n",
              " (4,\n",
              "  2,\n",
              "  [Matrix([\n",
              "   [ 0],\n",
              "   [-1],\n",
              "   [ 1],\n",
              "   [ 0]]),\n",
              "   Matrix([\n",
              "   [-1],\n",
              "   [ 0],\n",
              "   [ 0],\n",
              "   [ 1]])])]"
            ]
          },
          "metadata": {},
          "execution_count": 72
        }
      ]
    },
    {
      "cell_type": "code",
      "source": [
        "#重複度が1の固有値の固有ベクトル(1,-1,-1,1)をGramSchmidtを使って正規化する．\n",
        "P1=GramSchmidt([Matrix([\n",
        "\t[ 1],\n",
        "\t[-1],\n",
        "\t[-1],\n",
        "\t[ 1]])],True)\n",
        "#重複度が1の固有値の固有ベクトル(1,1,1,1)をGramSchmidtを使って正規化する．\n",
        "P2=GramSchmidt([Matrix([\n",
        "\t[1],\n",
        "\t[1],\n",
        "\t[1],\n",
        "\t[1]])],True)\n",
        "#重複度が2の固有値の固有ベクトル(0,-1,1,0)と(-1,0,01)をGramSchmidtを使って正規直交化する．\n",
        "P3=GramSchmidt([Matrix([\n",
        "\t[ 0],\n",
        "\t[-1],\n",
        "\t[ 1],\n",
        "\t[ 0]]), Matrix([\n",
        "\t[-1],\n",
        "\t[ 0],\n",
        "\t[ 0],\n",
        "\t[ 1]])],True)\n",
        "#正規直交化した固有ベクトルを結合して，直交行列Pを作る．\n",
        "P=Matrix(P1).row_join(Matrix(P2))\n",
        "P=P.row_join(Matrix(P3[0])).row_join(Matrix(P3[1]))\n",
        "P"
      ],
      "metadata": {
        "id": "UdWrdTIdXaSx",
        "outputId": "4ffdce58-9e5c-438f-e336-e47bb3587d44",
        "colab": {
          "base_uri": "https://localhost:8080/",
          "height": 112
        }
      },
      "id": "UdWrdTIdXaSx",
      "execution_count": null,
      "outputs": [
        {
          "output_type": "execute_result",
          "data": {
            "text/plain": [
              "Matrix([\n",
              "[ 1/2, 1/2,          0, -sqrt(2)/2],\n",
              "[-1/2, 1/2, -sqrt(2)/2,          0],\n",
              "[-1/2, 1/2,  sqrt(2)/2,          0],\n",
              "[ 1/2, 1/2,          0,  sqrt(2)/2]])"
            ],
            "text/latex": "$\\displaystyle \\left[\\begin{matrix}\\frac{1}{2} & \\frac{1}{2} & 0 & - \\frac{\\sqrt{2}}{2}\\\\- \\frac{1}{2} & \\frac{1}{2} & - \\frac{\\sqrt{2}}{2} & 0\\\\- \\frac{1}{2} & \\frac{1}{2} & \\frac{\\sqrt{2}}{2} & 0\\\\\\frac{1}{2} & \\frac{1}{2} & 0 & \\frac{\\sqrt{2}}{2}\\end{matrix}\\right]$"
          },
          "metadata": {},
          "execution_count": 73
        }
      ]
    },
    {
      "cell_type": "code",
      "source": [
        "#対角化行列を求める．\n",
        "P.T*A*P"
      ],
      "metadata": {
        "id": "X5ZiggnNXgwl",
        "outputId": "6f55567e-2a82-4f07-8a3f-efbfda40525c",
        "colab": {
          "base_uri": "https://localhost:8080/",
          "height": 98
        }
      },
      "id": "X5ZiggnNXgwl",
      "execution_count": null,
      "outputs": [
        {
          "output_type": "execute_result",
          "data": {
            "text/plain": [
              "Matrix([\n",
              "[-2, 0, 0, 0],\n",
              "[ 0, 2, 0, 0],\n",
              "[ 0, 0, 4, 0],\n",
              "[ 0, 0, 0, 4]])"
            ],
            "text/latex": "$\\displaystyle \\left[\\begin{matrix}-2 & 0 & 0 & 0\\\\0 & 2 & 0 & 0\\\\0 & 0 & 4 & 0\\\\0 & 0 & 0 & 4\\end{matrix}\\right]$"
          },
          "metadata": {},
          "execution_count": 74
        }
      ]
    },
    {
      "cell_type": "markdown",
      "source": [
        "##第６章##"
      ],
      "metadata": {
        "id": "--1Iz6BIv4Vr"
      },
      "id": "--1Iz6BIv4Vr"
    },
    {
      "cell_type": "markdown",
      "source": [
        "**問6.1**"
      ],
      "metadata": {
        "id": "GEdtr3ptLiH_"
      },
      "id": "GEdtr3ptLiH_"
    },
    {
      "cell_type": "markdown",
      "source": [
        "$$\n",
        "A_n=\\begin{pmatrix}\n",
        "\t& && a_{1k+1}& \\cdots & a_{1n}\\\\\n",
        "\t&A_k& && \\vdots & \\\\\n",
        "\t&&& a_{kk+1}& \\cdots & a_{kn}\\\\\n",
        "a_{k+11} & \\cdots & a_{k+1k} & a_{k+1k+1}& \\cdots & a_{k+1n}\\\\\n",
        "                 & \\vdots &                 &                      & \\vdots   &   \\\\\n",
        "a_{n1} & \\cdots & a_{nk} & a_{nk+1}& \\cdots & a_{nn}\n",
        "\\end{pmatrix}\n",
        "$$\n",
        "であることに注意して，$\\boldsymbol{x}_n=\\begin{pmatrix}\n",
        "\t\\boldsymbol{x}_k\\\\\n",
        "\t0\\\\\n",
        "\t\\vdots\\\\\n",
        "\t0\n",
        "\\end{pmatrix}$とすると，\n",
        "\\begin{eqnarray*}\n",
        "\tq_n(\\boldsymbol{x}_n)&=& \\boldsymbol{x}_n^\\top A_n \\boldsymbol{x}_n\\\\\n",
        "\t&=&(\\boldsymbol{x}_k^\\top,0,\\cdots,0)A_n\\begin{pmatrix}\n",
        "\t\t\\boldsymbol{x}_k\\\\\n",
        "\t\t0\\\\\n",
        "\t\t\\vdots\\\\\n",
        "\t\t0\n",
        "\t\\end{pmatrix}\\\\\n",
        "\t&=& (\\boldsymbol{x}_k^\\top,0,\\cdots,0)\n",
        "\t\\begin{pmatrix}\n",
        "\t\tA_k\\boldsymbol{x}_k\\\\\n",
        "\t\t(a_{k+11}  \\cdots a_{k+1k})\\boldsymbol{x}_k\\\\\n",
        "\t\t\\vdots \\\\\n",
        "\t\t(a_{n1}  \\cdots a_{nk})\\boldsymbol{x}_k\n",
        "\t\\end{pmatrix}\\\\\n",
        "&=& \\boldsymbol{x}_k^\\top A_k\\boldsymbol{x}_k=q_k(\\boldsymbol{x}_k).\n",
        "\\end{eqnarray*}\n",
        "$$\\mbox{∴}\\quad\n",
        "q_n(\\boldsymbol{x}_n)>0\n",
        "\\Longrightarrow q_k(\\boldsymbol{x_k})>0,\\quad k=1,\\cdots,n-1.\n",
        "$$"
      ],
      "metadata": {
        "id": "hMlI3VEewD_5"
      },
      "id": "hMlI3VEewD_5"
    },
    {
      "cell_type": "markdown",
      "source": [
        "**演習6.1**"
      ],
      "metadata": {
        "id": "huBbWNBBwikK"
      },
      "id": "huBbWNBBwikK"
    },
    {
      "cell_type": "code",
      "source": [
        "from sympy import *\n",
        "var('x_1,x_2')\n",
        "f=x_1**3+x_2**3-2*(x_1+x_2)\n",
        "FD_1=diff(f,x_1)\n",
        "FD_2=diff(f,x_2)\n",
        "print('FD_1 =',FD_1)\n",
        "print('FD_2 =',FD_2)\n",
        "SD_1=diff(f,x_1,2)\n",
        "print('SD_1 =',SD_1)\n",
        "H=Matrix([[f.diff(x).diff(y) for x in [x_1,x_2]]\n",
        "\t                for y in [x_1,x_2]])\n",
        "print('H =',H)\n",
        "xs=solve([Eq( FD_1,0 ),\n",
        "                Eq( FD_2,0 )],\n",
        "               (x_1,x_2))\n",
        "print(xs)\n",
        "print('(x_1,x_2) =',(xs[0][0],xs[0][1]))\n",
        "print('f_x_1x_1 = ',SD_1.subs(x_1,xs[0][0]))\n",
        "print('ヘッセ行列式 |H| = ',H.subs(x_1,xs[0][0]).subs(x_2,xs[0][1]).det())\n",
        "print('(x_1,x_2)=',(xs[1][0],xs[1][1]))\n",
        "print('f_x_1x_1=',SD_1.subs(x_1,xs[1][0]))\n",
        "print('ヘッセ行列式 |H| = ',H.subs(x_1,xs[1][0]).subs(x_2,xs[1][1]).det())\n",
        "print('(x_1,x_2)=',(xs[2][0],xs[2][1]))\n",
        "print('f_x_1x_1=',SD_1.subs(x_1,xs[2][0]))\n",
        "print('ヘッセ行列式 |H| = ',H.subs(x_1,xs[2][0]).subs(x_2,xs[2][1]).det())\n",
        "print('(x_1,x_2)=',(xs[3][0],xs[3][1]))\n",
        "print('f_x_1x_1=',SD_1.subs(x_1,xs[3][0]))\n",
        "print('ヘッセ行列式 |H| = ',H.subs(x_1,xs[3][0]).subs(x_2,xs[3][1]).det())"
      ],
      "metadata": {
        "id": "58gVwSv3znbl",
        "outputId": "310c0d2f-5faf-4235-ee54-c0917db80f2a",
        "colab": {
          "base_uri": "https://localhost:8080/"
        }
      },
      "id": "58gVwSv3znbl",
      "execution_count": 1,
      "outputs": [
        {
          "output_type": "stream",
          "name": "stdout",
          "text": [
            "FD_1 = 3*x_1**2 - 2\n",
            "FD_2 = 3*x_2**2 - 2\n",
            "SD_1 = 6*x_1\n",
            "H = Matrix([[6*x_1, 0], [0, 6*x_2]])\n",
            "[(-sqrt(6)/3, -sqrt(6)/3), (-sqrt(6)/3, sqrt(6)/3), (sqrt(6)/3, -sqrt(6)/3), (sqrt(6)/3, sqrt(6)/3)]\n",
            "(x_1,x_2) = (-sqrt(6)/3, -sqrt(6)/3)\n",
            "f_x_1x_1 =  -2*sqrt(6)\n",
            "ヘッセ行列式 |H| =  24\n",
            "(x_1,x_2)= (-sqrt(6)/3, sqrt(6)/3)\n",
            "f_x_1x_1= -2*sqrt(6)\n",
            "ヘッセ行列式 |H| =  -24\n",
            "(x_1,x_2)= (sqrt(6)/3, -sqrt(6)/3)\n",
            "f_x_1x_1= 2*sqrt(6)\n",
            "ヘッセ行列式 |H| =  -24\n",
            "(x_1,x_2)= (sqrt(6)/3, sqrt(6)/3)\n",
            "f_x_1x_1= 2*sqrt(6)\n",
            "ヘッセ行列式 |H| =  24\n"
          ]
        }
      ]
    },
    {
      "cell_type": "markdown",
      "source": [
        "**問6.2**\n",
        "\n",
        "(1)\n",
        "\n",
        "$$f(x_1,x_2)=-x_1^2-3x_2^2+3x_1+x_2.$$\n",
        "$$\\begin{cases}\n",
        "\t\t\\frac{\\partial f}{\\partial x_1}=-2x_1+3=0\\\\\n",
        "\t\t\\frac{\\partial f}{\\partial x_2}=-6x_2+1=0\n",
        "\t\\end{cases}\n",
        "$$\n",
        "\tより，停留点は，$(x_1,x_2)=\\left(\\frac{3}{2}, \\frac{1}{6}\\right)$.\n",
        "\t\\begin{eqnarray*}\n",
        "\t\t|H_1|&=& \\frac{\\partial^2f}{\\partial x_1^2}=-2<0,\\\\\n",
        "\t\t\t|H_2|&=& \\begin{vmatrix}\n",
        "\t\t\t\t\\frac{\\partial^2f}{\\partial x_1^2} & \\frac{\\partial^2f}{\\partial x_1\\partial x_2} \\\\\n",
        "\t\t\t\t\\frac{\\partial^2f}{\\partial x_2\\partial x_1} & \\frac{\\partial^2f}{\\partial x_2^2}\n",
        "\t\t\t\\end{vmatrix}\n",
        "\t\t= \\begin{vmatrix}\n",
        "\t\t\t-2 &  0 \\\\\n",
        "\t\t\t0 & -6\n",
        "\t\t\\end{vmatrix}=12 >0.\n",
        "\t\\end{eqnarray*}\n",
        "∴ $(x_1,x_2)=\\left(\\frac{3}{2}, \\frac{1}{6}\\right)$で極大値\n",
        "$f\\left(\\frac{3}{2}, \\frac{1}{6}\\right)=-\\frac{9}{4}-3\\times \\frac{1}{36}+3\\times \\frac{3}{2}+\\frac{1}{6}=\\frac{7}{3}$.\n",
        "\n",
        "(2)\n",
        "$$\n",
        "f(x_1,x_2)=(x_1^2+x_2^2)^2-x_1-x_2.\n",
        "$$\n",
        "$$\\begin{cases}\n",
        "\t\\frac{\\partial f}{\\partial x_1}=4(x_1^2+x_2^2)x_1-1=0\\\\\n",
        "\t\\frac{\\partial f}{\\partial x_2}=4(x_1^2+x_2^2)x_2-1=0\n",
        "\\end{cases}\n",
        "$$\n",
        "より，停留点は，$(x_1,x_2)=\\left(\\frac{1}{2}, \\frac{1}{2}\\right)$.\n",
        "\\begin{eqnarray*}\n",
        "\t|H_1|&=& \\frac{\\partial^2f}{\\partial x_1^2}=12x_2^2+4x_2^2=16\\times \\left(\\frac{1}{2}\\right)^2=4>0,\\\\\n",
        "\t|H_2|&=& \\begin{vmatrix}\n",
        "\t\t\\frac{\\partial^2f}{\\partial x_1^2} & \\frac{\\partial^2f}{\\partial x_1\\partial x_2} \\\\\n",
        "\t\t\\frac{\\partial^2f}{\\partial x_2\\partial x_1} & \\frac{\\partial^2f}{\\partial x_2^2}\n",
        "\t\\end{vmatrix}\\\\\n",
        "\t&=& \\begin{vmatrix}\n",
        "\t\t12x_2^2+4x_2^2&  8x_2x_1\\\\\n",
        "\t\t8x_1x_2 & 12x_1^2+4x_1^2\n",
        "\t\\end{vmatrix}=\n",
        "\\begin{vmatrix}\n",
        "\t4&   2\\\\\n",
        "\t2 &  4\n",
        "\\end{vmatrix}\n",
        "16-4=12 >0.\n",
        "\\end{eqnarray*}\n",
        "∴ $(x_1,x_2)=\\left(\\frac{1}{2}, \\frac{1}{2}\\right)$で極小値\n",
        "$f\\left(\\frac{1}{2}, \\frac{1}{2}\\right)=\\left(\\frac{1}{4}+\\frac{1}{4}\\right)^2-\\frac{1}{2}- \\frac{1}{2}=\\frac{1}{4}-1=-\\frac{3}{4}$.\n"
      ],
      "metadata": {
        "id": "20yUeiomPwna"
      },
      "id": "20yUeiomPwna"
    },
    {
      "cell_type": "markdown",
      "source": [
        "**問6.3**\n",
        "\n",
        "\\begin{eqnarray*}\n",
        "\t\\eta_2\n",
        "\t&=&\\left|\n",
        "\t\\begin{array}{ccc}\n",
        "\t\t0      & g_1    & g_2    \\\\\n",
        "\t\tg_1    & A_{11} & A_{12} \\\\\n",
        "\t\tg_2    & A_{21} & A_{22}\n",
        "\t\\end{array}\n",
        "\t\\right|\n",
        "\t\\\\\n",
        "\t&=&\n",
        "\t\\left|\n",
        "\t\\begin{array}{ccc}\n",
        "\t\t0      & g_1    & g_2     \\\\\n",
        "\t\t0    & A_{11} -\\frac{g_1}{g_2}A_{21}& A_{12}-\\frac{g_1}{g_2}A_{22}      \\\\\n",
        "\t\tg_2    & A_{21} & A_{22}\n",
        "\t\\end{array}\n",
        "\t\\right|\n",
        "\t\\quad \\mbox{2行$-\\frac{g_1}{g_2}\\times$1行}\n",
        "\t\\\\\n",
        "\t&=&\n",
        "\t-\\left|\n",
        "\t\\begin{array}{ccc}\n",
        "\t\tg_2    & A_{21} & A_{22} \\\\\n",
        "\t\t0      & g_1    & g_2     \\\\\n",
        "\t\t0    & A_{11} -\\frac{g_1}{g_2}A_{21}& A_{12}-\\frac{g_1}{g_2}A_{22}    \n",
        "\t\\end{array}\n",
        "\t\\right|\n",
        "\t\\quad \\mbox{1行と3行入れ替え}\n",
        "\t\\\\\n",
        "\t&=&\n",
        "\t-g_2\\left|\n",
        "\t\\begin{array}{cc}\n",
        "\t\tg_1    & g_2     \\\\\n",
        "\t\tA_{11} -\\frac{g_1}{g_2}A_{21}& A_{12}-\\frac{g_1}{g_2}A_{22}    \n",
        "\t\\end{array}\n",
        "\t\\right|\n",
        "\t\\\\\n",
        "\t&=&\n",
        "\t-\\left(\n",
        "\tg_2g_1A_{12}-g_1^2A_{22}-g_2^2A_{11}+g_1g_2A_{21}\n",
        "\t\\right)\n",
        "\t= -g_1^2B_{22}.\n",
        "\\end{eqnarray*}\n"
      ],
      "metadata": {
        "id": "fOeA0Fi6R-LS"
      },
      "id": "fOeA0Fi6R-LS"
    },
    {
      "cell_type": "markdown",
      "source": [
        "**問6.4**"
      ],
      "metadata": {
        "id": "ASIMVRzeTIwD"
      },
      "id": "ASIMVRzeTIwD"
    },
    {
      "cell_type": "code",
      "source": [
        "from sympy import *\n",
        "# 変数の定義\n",
        "var('x,y,z,lamb')\n",
        "# 目的関数\n",
        "f=x**2+y**2+z**2\n",
        "# 制約式\n",
        "g=x+y+z-1\n",
        "# ラグランジュ関数\n",
        "L=f+lamb*g\n",
        "# ラグランジュ関数1階偏微分\n",
        "L_x=diff(L,x)\n",
        "L_y=diff(L,y)\n",
        "L_z=diff(L,z)\n",
        "L_lamb=diff(L,lamb)\n",
        "print('L_x=', L_x)\n",
        "print('L_y=', L_y)\n",
        "print('L_z=', L_z)\n",
        "print('L_lamb=', L_lamb)"
      ],
      "metadata": {
        "colab": {
          "base_uri": "https://localhost:8080/"
        },
        "id": "vojpXOhgTNuG",
        "outputId": "d64aea3c-3458-42f0-e957-4957e3ff7d87"
      },
      "id": "vojpXOhgTNuG",
      "execution_count": 2,
      "outputs": [
        {
          "output_type": "stream",
          "name": "stdout",
          "text": [
            "L_x= lamb + 2*x\n",
            "L_y= lamb + 2*y\n",
            "L_z= lamb + 2*z\n",
            "L_lamb= x + y + z - 1\n"
          ]
        }
      ]
    },
    {
      "cell_type": "code",
      "source": [
        "#1階の条件\n",
        "Sol=solve([Eq(L_x,0),\n",
        "\tEq(L_y,0),\n",
        "\tEq(L_z,0),\n",
        "\tEq(L_lamb,0)], (x,y,z,lamb))\n",
        "print(Sol)"
      ],
      "metadata": {
        "colab": {
          "base_uri": "https://localhost:8080/"
        },
        "id": "LnEGCmSkT75k",
        "outputId": "ee3fd6c3-e11a-4aa6-e1c1-23c50a038111"
      },
      "id": "LnEGCmSkT75k",
      "execution_count": 3,
      "outputs": [
        {
          "output_type": "stream",
          "name": "stdout",
          "text": [
            "{lamb: -2/3, x: 1/3, y: 1/3, z: 1/3}\n"
          ]
        }
      ]
    },
    {
      "cell_type": "code",
      "source": [
        "print('停留点(x,y,z)=', (Sol[x],Sol[y],Sol[z]))"
      ],
      "metadata": {
        "colab": {
          "base_uri": "https://localhost:8080/"
        },
        "id": "jK__IeW9UDOp",
        "outputId": "5caee868-7691-462e-aee4-2964336a6ee2"
      },
      "id": "jK__IeW9UDOp",
      "execution_count": 4,
      "outputs": [
        {
          "output_type": "stream",
          "name": "stdout",
          "text": [
            "停留点(x,y,z)= (1/3, 1/3, 1/3)\n"
          ]
        }
      ]
    },
    {
      "cell_type": "code",
      "source": [
        "#2次縁付きヘッセ行列\n",
        "eta_2=Matrix([[0,diff(g,x),diff(g,y)],\n",
        "\t[diff(g,x),diff(f,x,2),diff(f,x,y)],\n",
        "\t[diff(g,y),diff(f,y,x),diff(f,y,2)]]).det()\n",
        "#3次縁付きヘッセ行列\n",
        "eta_3=Matrix([[0,diff(g,x),diff(g,y),diff(g,z)],\n",
        "\t[diff(g,x),diff(f,x,2), diff(f,x,y), diff(f,x,z)],\n",
        "\t[diff(g,y),diff(f,y,x), diff(f,y,2), diff(f,y,z)],\n",
        "\t[diff(g,z),diff(f,z,x), diff(f,z,y), diff(f,z,2)],\n",
        "\t]).det()\n",
        "print('eta_2 =',eta_2)\n",
        "print('eta_3 =',eta_3)"
      ],
      "metadata": {
        "colab": {
          "base_uri": "https://localhost:8080/"
        },
        "id": "xlVjzl-5UsjM",
        "outputId": "887fbfea-4dee-4155-89bb-056ff74863d0"
      },
      "id": "xlVjzl-5UsjM",
      "execution_count": 5,
      "outputs": [
        {
          "output_type": "stream",
          "name": "stdout",
          "text": [
            "eta_2 = -4\n",
            "eta_3 = -12\n"
          ]
        }
      ]
    },
    {
      "cell_type": "code",
      "source": [
        "print('極小値=',f.subs(x,Sol[x]).subs(y,Sol[y]).subs(z,Sol[z]))"
      ],
      "metadata": {
        "colab": {
          "base_uri": "https://localhost:8080/"
        },
        "id": "G5oBy0KOUzhe",
        "outputId": "33e2e9b4-dd31-4096-9436-077015835ed1"
      },
      "id": "G5oBy0KOUzhe",
      "execution_count": 6,
      "outputs": [
        {
          "output_type": "stream",
          "name": "stdout",
          "text": [
            "極小値= 1/3\n"
          ]
        }
      ]
    },
    {
      "cell_type": "markdown",
      "source": [
        "**問6.5**"
      ],
      "metadata": {
        "id": "j0eNi51xWRQY"
      },
      "id": "j0eNi51xWRQY"
    },
    {
      "cell_type": "markdown",
      "source": [
        "**問6.6**"
      ],
      "metadata": {
        "id": "P4UOEnI4XjqX"
      },
      "id": "P4UOEnI4XjqX"
    },
    {
      "cell_type": "code",
      "source": [
        "from sympy import *\n",
        "# 変数の定義\n",
        "var('q1,q2')\n",
        "#効用関数と制約式を定義する\n",
        "u=q1*q2\n",
        "g= 200-(10*q1+20*q2)\n",
        "# ラグランジュ乗数をlambとして，\n",
        "# 効用最大化のためのラグランジュ関数を定義する．\n",
        "var('lamb')\n",
        "L=u - lamb * g\n",
        "# 最大化のための1階の条件\n",
        "L_q1=diff(L,q1)\n",
        "L_q2=diff(L,q2)\n",
        "L_lamb=diff(L,lamb)\n",
        "Sol=solve([Eq(L_q1,0),\n",
        "\tEq(L_q2,0),\n",
        "\tEq(L_lamb,0)], (q1,q2,lamb))\n",
        "print(Sol)\n",
        "print('最適消費量(q1,q2) =', (Sol[q1],Sol[q2]))"
      ],
      "metadata": {
        "colab": {
          "base_uri": "https://localhost:8080/"
        },
        "id": "t1i9KY0YXl-p",
        "outputId": "32ada071-9973-475d-b2b6-4b3271b494a2"
      },
      "id": "t1i9KY0YXl-p",
      "execution_count": 7,
      "outputs": [
        {
          "output_type": "stream",
          "name": "stdout",
          "text": [
            "{lamb: -1/2, q1: 10, q2: 5}\n",
            "最適消費量(q1,q2) = (10, 5)\n"
          ]
        }
      ]
    },
    {
      "cell_type": "markdown",
      "source": [
        "**問6.7**\n",
        "\n",
        "問6.6の解答例に続けて次ののように入力する．"
      ],
      "metadata": {
        "id": "fJ-h9mTOYUsp"
      },
      "id": "fJ-h9mTOYUsp"
    },
    {
      "cell_type": "code",
      "source": [
        "# 縁付きヘッセ行列\n",
        "H_2=Matrix([[0, diff(g,q1),diff(g,q2)],\n",
        "\t[ diff(g,q1),diff(u,q1,2), diff(u,q1,q2)],\n",
        "\t[diff(g,q2),diff(u,q2,q1), diff(u,q2,2)]])\n",
        "print(H_2)\n",
        "# 縁付きヘッセ行列の行列式\n",
        "print(H_2.det())"
      ],
      "metadata": {
        "id": "8992JfhSYZJL",
        "outputId": "7f37cec2-5c14-4dbf-ff7a-17ccbe8b2633",
        "colab": {
          "base_uri": "https://localhost:8080/"
        }
      },
      "id": "8992JfhSYZJL",
      "execution_count": 8,
      "outputs": [
        {
          "output_type": "stream",
          "name": "stdout",
          "text": [
            "Matrix([[0, -10, -20], [-10, 0, 1], [-20, 1, 0]])\n",
            "400\n"
          ]
        }
      ]
    },
    {
      "cell_type": "markdown",
      "source": [
        "**問6.8**"
      ],
      "metadata": {
        "id": "hkw5glKGPKZz"
      },
      "id": "hkw5glKGPKZz"
    },
    {
      "cell_type": "markdown",
      "source": [
        "**問6.9**"
      ],
      "metadata": {
        "id": "N7pEqvy3PN4C"
      },
      "id": "N7pEqvy3PN4C"
    },
    {
      "cell_type": "markdown",
      "source": [
        "#練習問題\n"
      ],
      "metadata": {
        "id": "zuK_6Cana8Av"
      },
      "id": "zuK_6Cana8Av"
    },
    {
      "cell_type": "markdown",
      "source": [
        "**6.1**\n",
        "\n",
        "\\begin{align}\n",
        "\t\\frac{\\partial f(a,b)}{\\partial a}\n",
        "\t&=-2\\sum_{i=1}^n (y_i-a-bx_i)=0, \\qquad\\qquad \\cdots(1)\\\\\n",
        "\t\\frac{\\partial f(a,b)}{\\partial b}\n",
        "\t&=-2\\sum_{i=1}^n x_i(y_i-a-bx_i)=0, \\qquad\\qquad\\cdots (2)\n",
        "\\end{align}\n",
        "(1)より，\n",
        "\\begin{eqnarray*}\n",
        "\t\\sum_{i=1}^n y_i-an-b\\sum_{i=1}^n x_i=0.\n",
        "\\end{eqnarray*}\n",
        "両辺を$n$で割って$\\bar{y}-a-b\\bar{x}=0$.\n",
        "$$\\text{∴}\\quad  a = \\bar{y}-b\\bar{x}.$$\n",
        "これを，(2)に代入して，\n",
        "$$\n",
        "\\sum_{i=1}^n x_i(y_i-\\bar{y}-b(x_i-\\bar{x}))=0.\n",
        "$$\n",
        "ここで，\n",
        "$\\sum_{i=1}^n (x_i-\\bar{x})=0$と$\\sum_{i=1}^n (y_i-\\bar{y})=0$を用いると，\n",
        "$$\n",
        "\\sum_{i=1}^n (y_i-\\bar{y}-b(x_i-\\bar{x}))=0\n",
        "$$\n",
        "であるから，\n",
        "\\begin{eqnarray*}\n",
        "\t0&=&\\sum_{i=1}^n (x_i-\\bar{x})(y_i-\\bar{y}-b(x_i-\\bar{x}))\\\\\n",
        "\t&=& \\sum_{i=1}^n (x_i-\\bar{x})(y_i-\\bar{y})-b\\sum_{i=1}^n (x_i-\\bar{x})(x_i-\\bar{x})).\n",
        "\\end{eqnarray*}\n",
        "$$\\mbox{∴}\\quad\n",
        "b=\\frac{\\sum_{i=1}^n (x_i-\\bar{x})(y_i-\\bar{y})}\n",
        "{\\sum_{i=1}^n (x_i-\\bar{x})^2}.$$\n",
        "\n",
        "\\begin{eqnarray*}\n",
        "\\frac{\\partial^2 f(a,b)}{\\partial a^2}&=& 2n>0, \\\\\n",
        "\\begin{vmatrix}\n",
        "\t\\frac{\\partial^2 f(a,b)}{\\partial a^2} &\n",
        "\t\\frac{\\partial^2 f(a,b)}{\\partial a \\partial b}\\\\\n",
        "\t\\frac{\\partial^2 f(a,b)}{\\partial b\\partial a} &\n",
        "\t\\frac{\\partial^2 f(a,b)}{\\partial b^2}\n",
        "\\end{vmatrix}\n",
        "&=&\n",
        "\\begin{vmatrix}\n",
        "\t2n & 2\\sum_{i=1}^n x_i\\\\\n",
        "\t2\\sum_{i=1}^n x_i & 2\\sum_{i=1}^n x_i^2\n",
        "\\end{vmatrix}\\\\\n",
        "&=&4\\left(n\\sum_{i=1}^n x_i^2 - \\left(\\sum_{i=1}^n x_i\\right)^2\\right)\\\\\n",
        "&=& 4n\\sum_{i=1}^n (x_i^2 - \\bar{x}x_i)\\\\\n",
        "&=& 4n\\sum_{i=1}^n (x_i^2 - 2\\bar{x}x_i+\\bar{x}x_i)\\\\\n",
        "&=& 4n\\left(\\sum_{i=1}^n (x_i^2 - 2\\bar{x}x_i)+n\\bar{x}^2\\right)\\\\\n",
        "&=& 4n\\sum_{i=1}^n \\left(x_i^2 - 2\\bar{x}x_i+\\bar{x}^2\\right)\\\\\n",
        "&=& 4n\\sum_{i=1}^n (x_i - \\bar{x})^2>0\n",
        "\\end{eqnarray*}\n",
        "以上より，題意を得る．"
      ],
      "metadata": {
        "id": "Zu9KwtkcRXhZ"
      },
      "id": "Zu9KwtkcRXhZ"
    },
    {
      "cell_type": "markdown",
      "source": [
        "**6.2**\n",
        "**(1)**"
      ],
      "metadata": {
        "id": "obhqko3NRmOz"
      },
      "id": "obhqko3NRmOz"
    },
    {
      "cell_type": "code",
      "execution_count": null,
      "id": "06a6bcde",
      "metadata": {
        "id": "06a6bcde",
        "outputId": "c4c82929-9d86-4a36-afde-68a03710b555"
      },
      "outputs": [
        {
          "name": "stdout",
          "output_type": "stream",
          "text": [
            "y= -0.4666666666666668 + 2.793939393939394 x\n"
          ]
        }
      ],
      "source": [
        "# 数値計算用ライブラリnumpy読み込み\n",
        "import numpy as np\n",
        "# xの値（ベクトル）を１次元配列numpy arrayとして格納\n",
        "x=np.array([1,2,3,4,5,6,7,8,9,10])\n",
        "# yの値をnumpy arrayとして格納\n",
        "y=np.array([2,10,4,7,18,12,18,26,28,24])\n",
        "# xの平均(=合計/データ長)を計算\n",
        "x_bar=sum(x)/len(x)\n",
        "# yの平均を計算\n",
        "y_bar=sum(y)/len(y)\n",
        "# ((x-x_bar)と(y-y_bar)の内積)/((x-x_bar)と(x-x_bar)の内積でbを計算\n",
        "# ベクトルの内積，行列の積には，np.dot( , )を用いる\n",
        "b=np.dot((x-x_bar),(y-y_bar))/np.dot((x-x_bar),(x-x_bar))\n",
        "a= y_bar-b * x_bar\n",
        "print('y=',a,'+', b,'x')"
      ]
    },
    {
      "cell_type": "code",
      "execution_count": null,
      "id": "3f254a98",
      "metadata": {
        "id": "3f254a98",
        "outputId": "6657c7d7-255f-4ce8-ae7a-3489e6dc93fa",
        "colab": {
          "base_uri": "https://localhost:8080/"
        }
      },
      "outputs": [
        {
          "output_type": "stream",
          "name": "stdout",
          "text": [
            "y= -7/15 + 461/165 x\n"
          ]
        }
      ],
      "source": [
        "from sympy import *\n",
        "# xの値を列ベクトルで生成\n",
        "x=Matrix([1,2,3,4,5,6,7,8,9,10])\n",
        "# yの値を列ベクトルで生成\n",
        "y=Matrix([2,10,4,7,18,12,18,26,28,24])\n",
        "# xの平均(=合計/データ長)を計算\n",
        "x_bar=sum(x)/len(x)\n",
        "# yの平均を計算\n",
        "y_bar=sum(y)/len(y)\n",
        "# x-x_barの列ベクトルを定義\n",
        "# sympy.ones(m,n)はすべての成分が1の(m x n)行列を生成\n",
        "devX = x-ones(len(x),1)*x_bar\n",
        "# x-x_barの列ベクトルを定義\n",
        "devY = y -ones(len(y),1)*y_bar\n",
        "# ((x-x_bar)と(y-y_bar)の内積)/((x-x_bar)と(x-x_bar)の内積でbを計算\n",
        "b = (devX.transpose()*devY)[0]/(devX.transpose()*devX)[0]\n",
        "a= y_bar-b * x_bar\n",
        "print('y=',a,'+', b,'x')"
      ]
    },
    {
      "cell_type": "markdown",
      "source": [
        "**6.2**\n",
        "**(2)**"
      ],
      "metadata": {
        "id": "wQkCTmdFbWu6"
      },
      "id": "wQkCTmdFbWu6"
    },
    {
      "cell_type": "code",
      "execution_count": null,
      "id": "e60e468b",
      "metadata": {
        "id": "e60e468b",
        "outputId": "9e23ec95-fc7e-4fdf-fa71-c422e8bdba38",
        "colab": {
          "base_uri": "https://localhost:8080/",
          "height": 764
        }
      },
      "outputs": [
        {
          "output_type": "execute_result",
          "data": {
            "text/plain": [
              "<matplotlib.legend.Legend at 0x7a40e0474710>"
            ]
          },
          "metadata": {},
          "execution_count": 9
        },
        {
          "output_type": "stream",
          "name": "stderr",
          "text": [
            "/usr/local/lib/python3.11/dist-packages/IPython/core/events.py:89: UserWarning: Glyph 12487 (\\N{KATAKANA LETTER DE}) missing from font(s) DejaVu Sans.\n",
            "  func(*args, **kwargs)\n",
            "/usr/local/lib/python3.11/dist-packages/IPython/core/events.py:89: UserWarning: Glyph 12540 (\\N{KATAKANA-HIRAGANA PROLONGED SOUND MARK}) missing from font(s) DejaVu Sans.\n",
            "  func(*args, **kwargs)\n",
            "/usr/local/lib/python3.11/dist-packages/IPython/core/events.py:89: UserWarning: Glyph 12479 (\\N{KATAKANA LETTER TA}) missing from font(s) DejaVu Sans.\n",
            "  func(*args, **kwargs)\n",
            "/usr/local/lib/python3.11/dist-packages/IPython/core/events.py:89: UserWarning: Glyph 20516 (\\N{CJK UNIFIED IDEOGRAPH-5024}) missing from font(s) DejaVu Sans.\n",
            "  func(*args, **kwargs)\n",
            "/usr/local/lib/python3.11/dist-packages/IPython/core/pylabtools.py:151: UserWarning: Glyph 12487 (\\N{KATAKANA LETTER DE}) missing from font(s) DejaVu Sans.\n",
            "  fig.canvas.print_figure(bytes_io, **kw)\n",
            "/usr/local/lib/python3.11/dist-packages/IPython/core/pylabtools.py:151: UserWarning: Glyph 12540 (\\N{KATAKANA-HIRAGANA PROLONGED SOUND MARK}) missing from font(s) DejaVu Sans.\n",
            "  fig.canvas.print_figure(bytes_io, **kw)\n",
            "/usr/local/lib/python3.11/dist-packages/IPython/core/pylabtools.py:151: UserWarning: Glyph 12479 (\\N{KATAKANA LETTER TA}) missing from font(s) DejaVu Sans.\n",
            "  fig.canvas.print_figure(bytes_io, **kw)\n",
            "/usr/local/lib/python3.11/dist-packages/IPython/core/pylabtools.py:151: UserWarning: Glyph 20516 (\\N{CJK UNIFIED IDEOGRAPH-5024}) missing from font(s) DejaVu Sans.\n",
            "  fig.canvas.print_figure(bytes_io, **kw)\n"
          ]
        },
        {
          "output_type": "display_data",
          "data": {
            "text/plain": [
              "<Figure size 640x480 with 1 Axes>"
            ],
            "image/png": "[encoded data removed]"
          },
          "metadata": {}
        }
      ],
      "source": [
        "from sympy import *\n",
        "# 変数\n",
        "# グラフ作成のためのライブラリmatplotlib.pyplot読み込み\n",
        "import matplotlib.pyplot as plt\n",
        "# (x,y)散布図の作成\n",
        "plt.scatter(x,y, color=\"blue\",label='データ値')\n",
        "# (x,a+bx)散布図の作成\n",
        "hat_y=a*ones(len(x),1)+b*x # 線形回帰式の値\n",
        "plt.scatter(x,hat_y, color=\"red\")\n",
        "# (x,a+bx)関数グラフの作成\n",
        "plt.plot(x,hat_y, color=\"red\",label='$y=a+bx$')\n",
        "# x軸ラベル付記\n",
        "plt.xlabel('$x$')\n",
        "# y軸ラベル付記\n",
        "plt.ylabel('$y$')\n",
        "# 凡例付記\n",
        "plt.legend()"
      ]
    },
    {
      "cell_type": "markdown",
      "source": [
        "**6.3**\n",
        "\n",
        "(1)\n",
        "\t$$\\mbox{利潤関数}f(x_1,x_2)=px_1^{\\frac{1}{3}}x_2^{\\frac{1}{2}}-p_1x_1-p_2x_2.$$\n",
        "\n",
        "(2)\n",
        "1階の条件\n",
        "$$\n",
        "\\begin{cases}\n",
        "\t\\frac{\\partial\n",
        "\tf}{\\partial{x_1}}=\\frac{1}{3}px_1^{-\\frac{2}{3}}x_2^\\frac{1}{2}-p_1=0,\\\\\n",
        "\t\\frac{\\partial\n",
        "\tf}{\\partial{x_2}}=\\frac{1}{2}px_1^{\\frac{1}{3}}x_2^{-\\frac{1}{2}}-p_2=0.\n",
        "\\end{cases}\n",
        "$$\n",
        "これを$(x_1,x_2)$について解いて，\n",
        "$$\n",
        "x_1=\\frac{p^6}{216(p_1p_2)^3},\\quad x_2=\\frac{p^6}{144p_1^2p_2^4}.\n",
        "$$\n",
        "\n",
        "(3)\n",
        "\\begin{eqnarray*}\n",
        "\t\t|H_1|&=&\\frac{\\partial^2 f}{\\partial x_1^2}\\\\\n",
        "\t\t&=& -\\frac{2}{9}px_1^{-\\frac{5}{3}}x_2^{\\frac{1}{2}}\n",
        "\t\t=-144\\frac{p_1^4p_2^3}{p^6}<0,\\\\\n",
        "\t|H_2|&=& \\begin{vmatrix}\n",
        "\t\t\\frac{\\partial^2 f}{\\partial x_1^2} & \\frac{\\partial^2 f}{\\partial\n",
        "\t\tx_1x_{12}} \\\\\n",
        "\t\\frac{\\partial^2 f}{\\partial x_2x_1} & \\frac{\\partial^2 f}{\\partial\n",
        "\tx_{2}^2}\n",
        "\t\\end{vmatrix}\\\\\n",
        "&=&\n",
        "\\begin{vmatrix}\n",
        "\t-\\frac{2}{9}px_1^{-\\frac{5}{3}}x_2^{\\frac{1}{2}} &\n",
        "\t\\frac{1}{6}px_1^{-\\frac{2}{3}}x_2^{-\\frac{1}{2}}\\\\\n",
        "\\frac{1}{6}px_1^{-\\frac{2}{3}}x_2^{-\\frac{1}{2}} &\n",
        "-\\frac{1}{4}px_1^{\\frac{1}{3}}x_2^{-\\frac{3}{2}}\n",
        "\\end{vmatrix}\\\\\n",
        "&=& \\frac{p^2}{36}\\left(2x_1^{-\\frac{4}{3}}x_2^{-1}-\n",
        "2x_1^{-\\frac{4}{3}}x_2^{-1}\n",
        "\\right)\\\\\n",
        "&=&\\frac{1}{36}p^2x_1^{-\\frac{4}{3}}x_2^{-1}\n",
        "=5184\\frac{p_1^6p_2^8}{p^12}>0.\n",
        "\t\\end{eqnarray*}"
      ],
      "metadata": {
        "id": "erM3b5yNeEQw"
      },
      "id": "erM3b5yNeEQw"
    },
    {
      "cell_type": "markdown",
      "source": [
        "**6.4**\n",
        "\n"
      ],
      "metadata": {
        "id": "yUpvo0OwehhY"
      },
      "id": "yUpvo0OwehhY"
    },
    {
      "cell_type": "code",
      "source": [
        "from sympy import *\n",
        "# 変数と定数を定義する\n",
        "var('x,y')\n",
        "var('p,q,I')\n",
        "# 効用間数を定義する\n",
        "u=2*sqrt(x)+sqrt(y)\n",
        "\n",
        "#(1)\n",
        "# 限界代替率を間数 MRS として定義する\n",
        "MRS = diff(u,x)/diff(u,y)\n",
        "print('(1) (x,y)限界代替率  =')\n",
        "display(MRS)\n",
        "\n",
        "print('')\n",
        "#(2)\n",
        "# 予算制約式を定義する\n",
        "g=p*x+q*y-I\n",
        "# ラグランジュ乗数をlambとしてラグランジュ関数を定義する．\n",
        "var('lamb')\n",
        "L=u-lamb*g\n",
        "\n",
        "# １階の条件を解く\n",
        "L_x=diff(L,x)\n",
        "L_y=diff(L,y)\n",
        "L_lamb=diff(L,lamb)\n",
        "Sols=solve([Eq(L_x,0),\n",
        "\tEq(L_y,0),Eq(L_lamb,0)],(x,y,lamb))\n",
        "print('(2) 最適消費量(x,y)  = ', (Sols[0][0], Sols[0][1]))\n",
        "\n",
        "print('')\n",
        "#(3)\n",
        "# 2階の条件を調べる\n",
        "H=Matrix([[0, -p, -q],\n",
        "\t[-p, diff(L,x,2), diff(L,x,y)],\n",
        "\t[-q,  diff(L,y,x), diff(L,y,2)]])\n",
        "print('(3) 2階の条件 =')\n",
        "display(H.det())"
      ],
      "metadata": {
        "id": "OwxDw6Xxevsy",
        "outputId": "6c7343d2-c76f-42c7-b47b-9d8a941d6f7d",
        "colab": {
          "base_uri": "https://localhost:8080/",
          "height": 195
        }
      },
      "id": "OwxDw6Xxevsy",
      "execution_count": null,
      "outputs": [
        {
          "output_type": "stream",
          "name": "stdout",
          "text": [
            "(1) (x,y)限界代替率  =\n"
          ]
        },
        {
          "output_type": "display_data",
          "data": {
            "text/plain": [
              "2*sqrt(y)/sqrt(x)"
            ],
            "text/latex": "$\\displaystyle \\frac{2 \\sqrt{y}}{\\sqrt{x}}$"
          },
          "metadata": {}
        },
        {
          "output_type": "stream",
          "name": "stdout",
          "text": [
            "\n",
            "(2) 最適消費量(x,y)  =  (4*I*q/(p*(p + 4*q)), I*p/(q*(p + 4*q)))\n",
            "\n",
            "(3) 2階の条件 =\n"
          ]
        },
        {
          "output_type": "display_data",
          "data": {
            "text/plain": [
              "(p**2*x**(3/2) + 2*q**2*y**(3/2))/(4*x**(3/2)*y**(3/2))"
            ],
            "text/latex": "$\\displaystyle \\frac{p^{2} x^{\\frac{3}{2}} + 2 q^{2} y^{\\frac{3}{2}}}{4 x^{\\frac{3}{2}} y^{\\frac{3}{2}}}$"
          },
          "metadata": {}
        }
      ]
    },
    {
      "cell_type": "markdown",
      "source": [
        "$6.5$"
      ],
      "metadata": {
        "id": "jNiq7JO8bDQC"
      },
      "id": "jNiq7JO8bDQC"
    },
    {
      "source": [
        "import matplotlib.pyplot as plt\n",
        "from sympy import *\n",
        "\n",
        "mus = Matrix([0.1, 0.15, 0.2])\n",
        "print('株式リターン=')\n",
        "display(mus)\n",
        "sigmas = Matrix([\n",
        "    [0.01, 0, 0],\n",
        "    [0, 0.04, 0],\n",
        "    [0, 0, 0.09],\n",
        "])\n",
        "print('株式分散共分散行列=')\n",
        "display(sigmas)\n",
        "\n",
        "\n",
        "# FOC係数行列\n",
        "A = Matrix([\n",
        "    [2 * 0.01, 0, 0, 0.1, 1],\n",
        "    [0, 2 * 0.04, 0, 0.15, 1],\n",
        "    [0, 0, 2 * 0.09, 0.2, 1],\n",
        "    [0.1, 0.15, 0.2, 0, 0],\n",
        "    [1, 1, 1, 0, 0],\n",
        "])\n",
        "print(\"A=\")\n",
        "display(A)\n",
        "\n",
        "# 目標リターン・リスト\n",
        "mu_values = [0.1+i / 100 for i in range(0, 11)]  # From 0.1 to 0.01 (step=-2 corresponds to -0.02)\n",
        "\n",
        "#FOC 定数ベクトル・リスト\n",
        "b_values = [Matrix([[0], [0], [0], [mu], [1]]) for mu in mu_values]\n",
        "\n",
        "#print(\"b=\")\n",
        "#display(b_values)\n",
        "\n",
        "# FOCの解のリスト\n",
        "x_values = [A ** (-1) * b for b in b_values]\n",
        "\n",
        "# 最適ポートフォリオ・リスト\n",
        "w= [x_values[i][0:3] for i in range(11)]\n",
        "\n",
        "#print('ポートフォリオ=')\n",
        "#display(w)\n",
        "\n",
        "portfolio_risk = [sqrt((Matrix(w[i]).T * sigmas *Matrix( w[i]))[0]) for i in range(11)]\n",
        "#print('ポートフォリオ・リスク=', portfolio_risk)\n",
        "\n",
        "portfolio_return = [(Matrix(w[i]).T * mus)[0] for i in range(11)]\n",
        "#print('ポートフォリオ・リターン=', portfolio_return)\n",
        "\n",
        "\n",
        "plt.plot( portfolio_risk, portfolio_return)\n",
        "# x軸ラベル付記\n",
        "plt.xlabel('risk')\n",
        "# y軸ラベル付記\n",
        "plt.ylabel('return')"
      ],
      "cell_type": "code",
      "metadata": {
        "id": "_rzmsDfcjTXw",
        "outputId": "967743b1-deae-41d6-b8e5-9de0115b0a2d",
        "colab": {
          "base_uri": "https://localhost:8080/",
          "height": 747
        }
      },
      "id": "_rzmsDfcjTXw",
      "execution_count": null,
      "outputs": [
        {
          "output_type": "stream",
          "name": "stdout",
          "text": [
            "株式リターン=\n"
          ]
        },
        {
          "output_type": "display_data",
          "data": {
            "text/plain": [
              "Matrix([\n",
              "[ 0.1],\n",
              "[0.15],\n",
              "[ 0.2]])"
            ],
            "text/latex": "$\\displaystyle \\left[\\begin{matrix}0.1\\\\0.15\\\\0.2\\end{matrix}\\right]$"
          },
          "metadata": {}
        },
        {
          "output_type": "stream",
          "name": "stdout",
          "text": [
            "株式分散共分散行列=\n"
          ]
        },
        {
          "output_type": "display_data",
          "data": {
            "text/plain": [
              "Matrix([\n",
              "[0.01,    0,    0],\n",
              "[   0, 0.04,    0],\n",
              "[   0,    0, 0.09]])"
            ],
            "text/latex": "$\\displaystyle \\left[\\begin{matrix}0.01 & 0 & 0\\\\0 & 0.04 & 0\\\\0 & 0 & 0.09\\end{matrix}\\right]$"
          },
          "metadata": {}
        },
        {
          "output_type": "stream",
          "name": "stdout",
          "text": [
            "A=\n"
          ]
        },
        {
          "output_type": "display_data",
          "data": {
            "text/plain": [
              "Matrix([\n",
              "[0.02,    0,    0,  0.1, 1],\n",
              "[   0, 0.08,    0, 0.15, 1],\n",
              "[   0,    0, 0.18,  0.2, 1],\n",
              "[ 0.1, 0.15,  0.2,    0, 0],\n",
              "[   1,    1,    1,    0, 0]])"
            ],
            "text/latex": "$\\displaystyle \\left[\\begin{matrix}0.02 & 0 & 0 & 0.1 & 1\\\\0 & 0.08 & 0 & 0.15 & 1\\\\0 & 0 & 0.18 & 0.2 & 1\\\\0.1 & 0.15 & 0.2 & 0 & 0\\\\1 & 1 & 1 & 0 & 0\\end{matrix}\\right]$"
          },
          "metadata": {}
        },
        {
          "output_type": "execute_result",
          "data": {
            "text/plain": [
              "Text(0, 0.5, 'return')"
            ]
          },
          "metadata": {},
          "execution_count": 20
        },
        {
          "output_type": "display_data",
          "data": {
            "text/plain": [
              "<Figure size 640x480 with 1 Axes>"
            ],
            "image/png": "[encoded data removed]"
          },
          "metadata": {}
        }
      ]
    },
    {
      "cell_type": "code",
      "execution_count": null,
      "id": "c71d5a70",
      "metadata": {
        "id": "c71d5a70",
        "colab": {
          "base_uri": "https://localhost:8080/"
        },
        "outputId": "7138c913-6a7e-4b76-fb50-d938612d5c9e"
      },
      "outputs": [
        {
          "output_type": "stream",
          "name": "stdout",
          "text": [
            "1/3 = 0.3333333333333333\n"
          ]
        }
      ],
      "source": [
        "\tprint('1/3 =', 1/3)"
      ]
    },
    {
      "cell_type": "code",
      "source": [
        "from sympy import *\n",
        "Rational(1,2)+\\\n",
        "      Rational(1,3)"
      ],
      "metadata": {
        "colab": {
          "base_uri": "https://localhost:8080/",
          "height": 51
        },
        "id": "5sOvvajpBCV8",
        "outputId": "4905c1f0-c8c9-4ce9-ea94-d5934c1a73b7"
      },
      "id": "5sOvvajpBCV8",
      "execution_count": null,
      "outputs": [
        {
          "output_type": "execute_result",
          "data": {
            "text/plain": [
              "5/6"
            ],
            "text/latex": "$\\displaystyle \\frac{5}{6}$"
          },
          "metadata": {},
          "execution_count": 84
        }
      ]
    },
    {
      "cell_type": "code",
      "source": [
        "1+\n",
        "2"
      ],
      "metadata": {
        "id": "ACnF5_HbCSHY",
        "outputId": "abb14e23-bfbc-4175-ea68-47db8c1ae1c1",
        "colab": {
          "base_uri": "https://localhost:8080/",
          "height": 106
        }
      },
      "id": "ACnF5_HbCSHY",
      "execution_count": null,
      "outputs": [
        {
          "output_type": "error",
          "ename": "SyntaxError",
          "evalue": "invalid syntax (<ipython-input-119-b758ffafde16>, line 1)",
          "traceback": [
            "\u001b[0;36m  File \u001b[0;32m\"<ipython-input-119-b758ffafde16>\"\u001b[0;36m, line \u001b[0;32m1\u001b[0m\n\u001b[0;31m    1+\u001b[0m\n\u001b[0m       ^\u001b[0m\n\u001b[0;31mSyntaxError\u001b[0m\u001b[0;31m:\u001b[0m invalid syntax\n"
          ]
        }
      ]
    },
    {
      "cell_type": "code",
      "source": [
        " 1 + \\\n",
        "     2"
      ],
      "metadata": {
        "id": "0UnKdyrehBDp",
        "outputId": "ddd19c5d-fb65-4ca4-9085-3113133a034f",
        "colab": {
          "base_uri": "https://localhost:8080/"
        }
      },
      "id": "0UnKdyrehBDp",
      "execution_count": null,
      "outputs": [
        {
          "output_type": "execute_result",
          "data": {
            "text/plain": [
              "3"
            ]
          },
          "metadata": {},
          "execution_count": 116
        }
      ]
    },
    {
      "cell_type": "code",
      "source": [
        "print('1/3 ≒'\n",
        "\n",
        " , round(1/3,2))"
      ],
      "metadata": {
        "id": "gIev7m25QkBK",
        "outputId": "eca323cc-9e06-4164-a596-4a2ef63478f7",
        "colab": {
          "base_uri": "https://localhost:8080/"
        }
      },
      "id": "gIev7m25QkBK",
      "execution_count": null,
      "outputs": [
        {
          "output_type": "stream",
          "name": "stdout",
          "text": [
            "1/3 ≒ 0.33\n"
          ]
        }
      ]
    },
    {
      "cell_type": "code",
      "source": [
        "print('1/3 ≒',\n",
        "  round(1/3,2))"
      ],
      "metadata": {
        "id": "CvpHA-Rbd3-d",
        "outputId": "b3f64160-93b1-4d2e-e0fe-1d756348fdea",
        "colab": {
          "base_uri": "https://localhost:8080/"
        }
      },
      "id": "CvpHA-Rbd3-d",
      "execution_count": null,
      "outputs": [
        {
          "output_type": "stream",
          "name": "stdout",
          "text": [
            "1/3 ≒ 0.33\n"
          ]
        }
      ]
    },
    {
      "cell_type": "code",
      "source": [
        "print('1/3 ≒', \\\n",
        "  round(1/3,2))"
      ],
      "metadata": {
        "id": "WtNrGh4iQ2b-",
        "outputId": "d293b4d9-72f5-4f95-cc48-153d29712fcb",
        "colab": {
          "base_uri": "https://localhost:8080/"
        }
      },
      "id": "WtNrGh4iQ2b-",
      "execution_count": null,
      "outputs": [
        {
          "output_type": "stream",
          "name": "stdout",
          "text": [
            "1/3 ≒ 0.33\n"
          ]
        }
      ]
    },
    {
      "cell_type": "code",
      "source": [
        "from sympy import *\n",
        "print(sqrt(2))\n",
        "display(sqrt(2))"
      ],
      "metadata": {
        "id": "qMuxuo_ozBO5",
        "outputId": "d37cf4e1-fd20-4c1d-84f8-fc63efd2e99d",
        "colab": {
          "base_uri": "https://localhost:8080/",
          "height": 56
        }
      },
      "id": "qMuxuo_ozBO5",
      "execution_count": null,
      "outputs": [
        {
          "output_type": "stream",
          "name": "stdout",
          "text": [
            "sqrt(2)\n"
          ]
        },
        {
          "output_type": "display_data",
          "data": {
            "text/plain": [
              "sqrt(2)"
            ],
            "text/latex": "$\\displaystyle \\sqrt{2}$"
          },
          "metadata": {}
        }
      ]
    },
    {
      "cell_type": "code",
      "source": [
        "from sympy import  *\n",
        "var('x, y')\n",
        "r = sqrt(x**2+y**2)\n",
        "print(r)\n",
        "display(r)"
      ],
      "metadata": {
        "id": "_jXX2b8f03ek",
        "outputId": "9ee48cd1-295a-4e86-a5db-98602b6ce781",
        "colab": {
          "base_uri": "https://localhost:8080/",
          "height": 57
        }
      },
      "id": "_jXX2b8f03ek",
      "execution_count": null,
      "outputs": [
        {
          "output_type": "stream",
          "name": "stdout",
          "text": [
            "sqrt(x**2 + y**2)\n"
          ]
        },
        {
          "output_type": "display_data",
          "data": {
            "text/plain": [
              "sqrt(x**2 + y**2)"
            ],
            "text/latex": "$\\displaystyle \\sqrt{x^{2} + y^{2}}$"
          },
          "metadata": {}
        }
      ]
    },
    {
      "cell_type": "code",
      "source": [
        "display(r)"
      ],
      "metadata": {
        "id": "lWv2uH2K3s78",
        "outputId": "6b084704-f4b7-4c8b-dc05-a737f0beee69",
        "colab": {
          "base_uri": "https://localhost:8080/",
          "height": 39
        }
      },
      "id": "lWv2uH2K3s78",
      "execution_count": null,
      "outputs": [
        {
          "output_type": "display_data",
          "data": {
            "text/plain": [
              "sqrt(x**2 + y**2)"
            ],
            "text/latex": "$\\displaystyle \\sqrt{x^{2} + y^{2}}$"
          },
          "metadata": {}
        }
      ]
    },
    {
      "cell_type": "code",
      "source": [
        "list =[i +1 for i in range(5)]\n",
        "print(list)\n",
        "print(sum(list))\n",
        "print(prod(list))"
      ],
      "metadata": {
        "id": "r66WuJmoAh-e",
        "outputId": "630105fa-8b96-4bcb-ab00-962ed567d15b",
        "colab": {
          "base_uri": "https://localhost:8080/"
        }
      },
      "id": "r66WuJmoAh-e",
      "execution_count": null,
      "outputs": [
        {
          "output_type": "stream",
          "name": "stdout",
          "text": [
            "[1, 2, 3, 4, 5]\n",
            "15\n",
            "120\n"
          ]
        }
      ]
    },
    {
      "cell_type": "code",
      "source": [
        "f(x):=x+1"
      ],
      "metadata": {
        "id": "zPLMrXH_I2hB",
        "outputId": "5c8e2967-34e1-40b5-ab38-73f88cfe712b",
        "colab": {
          "base_uri": "https://localhost:8080/",
          "height": 108
        }
      },
      "id": "zPLMrXH_I2hB",
      "execution_count": null,
      "outputs": [
        {
          "output_type": "error",
          "ename": "SyntaxError",
          "evalue": "cannot use assignment expressions with function call (<ipython-input-49-a183318e5a74>, line 1)",
          "traceback": [
            "\u001b[0;36m  File \u001b[0;32m\"<ipython-input-49-a183318e5a74>\"\u001b[0;36m, line \u001b[0;32m1\u001b[0m\n\u001b[0;31m    f(x):=x+1\u001b[0m\n\u001b[0m    ^\u001b[0m\n\u001b[0;31mSyntaxError\u001b[0m\u001b[0;31m:\u001b[0m cannot use assignment expressions with function call\n"
          ]
        }
      ]
    },
    {
      "cell_type": "code",
      "source": [
        "\n",
        "#0,1,2,...,10からなるリストを作成\n",
        "print([i for i in range (11)])\n",
        "#1,2,...,10からなるリストを作成\n",
        "print([i for i in range (1,11)])\n",
        "# 10 から10ずつ，100未満まで足していったときのリストを作成\n",
        "list1 = [i+10 for  i in range(0, 100,10)]\n",
        "print(list1)\n",
        "# list1の最初から５番目まので要素を取り出したリスト\n",
        "print([list1[i] for i in range(5)])\n",
        "# list1の最後から，最後から数えて５番目まので要素を取り出したリスト\n",
        "print([list1[-i] for i in range(1,6)])"
      ],
      "metadata": {
        "id": "_svyj8PkJqeL",
        "outputId": "ccfb134c-2be9-4cb2-e49a-0cf05816587d",
        "colab": {
          "base_uri": "https://localhost:8080/"
        }
      },
      "id": "_svyj8PkJqeL",
      "execution_count": null,
      "outputs": [
        {
          "output_type": "stream",
          "name": "stdout",
          "text": [
            "[0, 1, 2, 3, 4, 5, 6, 7, 8, 9, 10]\n",
            "[1, 2, 3, 4, 5, 6, 7, 8, 9, 10]\n",
            "[10, 20, 30, 40, 50, 60, 70, 80, 90, 100]\n",
            "[10, 20, 30, 40, 50]\n",
            "[100, 90, 80, 70, 60]\n"
          ]
        }
      ]
    },
    {
      "cell_type": "code",
      "source": [
        "list = [1,2,3,4,5]\n",
        "#list要素の積1x2x3x4x5を求める\n",
        "prod(list)"
      ],
      "metadata": {
        "id": "5SgoxToay4da",
        "outputId": "088bdfd2-bc44-4adc-b9a0-a85a086a0eb1",
        "colab": {
          "base_uri": "https://localhost:8080/"
        }
      },
      "id": "5SgoxToay4da",
      "execution_count": null,
      "outputs": [
        {
          "output_type": "execute_result",
          "data": {
            "text/plain": [
              "120"
            ]
          },
          "metadata": {},
          "execution_count": 11
        }
      ]
    },
    {
      "cell_type": "code",
      "source": [
        "from sympy import *\n",
        "var('sigma11, sigma12, sigma13,mu1,sigma22, sigma23,mu2,sigma23, sigma33,mu3,mu')\n",
        "A = Matrix([\n",
        "[2*sigma11, 2*sigma12, 2*sigma13,mu1,1],\n",
        "[2*sigma12, 2*sigma22, 2*sigma23,mu2,1],\n",
        "[2*sigma13, 2*sigma23, 2*sigma33,mu3,1],\n",
        "[mu1, mu2, mu3,0,0],\n",
        "[1, 1, 1,0,0],\n",
        "])\n",
        "b= Matrix(\n",
        "    [[0],[0], [0],[mu],[1]]\n",
        ")\n",
        "b"
      ],
      "metadata": {
        "id": "G6mNZrYo43AK",
        "colab": {
          "base_uri": "https://localhost:8080/",
          "height": 119
        },
        "outputId": "3a0af876-f813-43cb-a9fa-752728b448e2"
      },
      "id": "G6mNZrYo43AK",
      "execution_count": null,
      "outputs": [
        {
          "output_type": "execute_result",
          "data": {
            "text/plain": [
              "Matrix([\n",
              "[ 0],\n",
              "[ 0],\n",
              "[ 0],\n",
              "[mu],\n",
              "[ 1]])"
            ],
            "text/latex": "$\\displaystyle \\left[\\begin{matrix}0\\\\0\\\\0\\\\\\mu\\\\1\\end{matrix}\\right]$"
          },
          "metadata": {},
          "execution_count": 1
        }
      ]
    },
    {
      "cell_type": "code",
      "source": [
        "display(A)\n",
        "temp = A.adjugate()[0:3,3:5]\n",
        "simplify(temp)"
      ],
      "metadata": {
        "colab": {
          "base_uri": "https://localhost:8080/",
          "height": 200
        },
        "id": "n496GJnMQAZB",
        "outputId": "17835b70-832e-412f-a45a-3ad534f372fa"
      },
      "id": "n496GJnMQAZB",
      "execution_count": null,
      "outputs": [
        {
          "output_type": "display_data",
          "data": {
            "text/plain": [
              "Matrix([\n",
              "[2*sigma11, 2*sigma12, 2*sigma13, mu1, 1],\n",
              "[2*sigma12, 2*sigma22, 2*sigma23, mu2, 1],\n",
              "[2*sigma13, 2*sigma23, 2*sigma33, mu3, 1],\n",
              "[      mu1,       mu2,       mu3,   0, 0],\n",
              "[        1,         1,         1,   0, 0]])"
            ],
            "text/latex": "$\\displaystyle \\left[\\begin{matrix}2 \\sigma_{11} & 2 \\sigma_{12} & 2 \\sigma_{13} & \\mu_{1} & 1\\\\2 \\sigma_{12} & 2 \\sigma_{22} & 2 \\sigma_{23} & \\mu_{2} & 1\\\\2 \\sigma_{13} & 2 \\sigma_{23} & 2 \\sigma_{33} & \\mu_{3} & 1\\\\\\mu_{1} & \\mu_{2} & \\mu_{3} & 0 & 0\\\\1 & 1 & 1 & 0 & 0\\end{matrix}\\right]$"
          },
          "metadata": {}
        },
        {
          "output_type": "execute_result",
          "data": {
            "text/plain": [
              "Matrix([\n",
              "[ 2*mu1*sigma22 - 4*mu1*sigma23 + 2*mu1*sigma33 - 2*mu2*sigma12 + 2*mu2*sigma13 + 2*mu2*sigma23 - 2*mu2*sigma33 + 2*mu3*sigma12 - 2*mu3*sigma13 - 2*mu3*sigma22 + 2*mu3*sigma23,  2*mu1*mu2*sigma23 - 2*mu1*mu2*sigma33 - 2*mu1*mu3*sigma22 + 2*mu1*mu3*sigma23 - 2*mu2**2*sigma13 + 2*mu2**2*sigma33 + 2*mu2*mu3*sigma12 + 2*mu2*mu3*sigma13 - 4*mu2*mu3*sigma23 - 2*mu3**2*sigma12 + 2*mu3**2*sigma22],\n",
              "[-2*mu1*sigma12 + 2*mu1*sigma13 + 2*mu1*sigma23 - 2*mu1*sigma33 + 2*mu2*sigma11 - 4*mu2*sigma13 + 2*mu2*sigma33 - 2*mu3*sigma11 + 2*mu3*sigma12 + 2*mu3*sigma13 - 2*mu3*sigma23, -2*mu1**2*sigma23 + 2*mu1**2*sigma33 + 2*mu1*mu2*sigma13 - 2*mu1*mu2*sigma33 + 2*mu1*mu3*sigma12 - 4*mu1*mu3*sigma13 + 2*mu1*mu3*sigma23 - 2*mu2*mu3*sigma11 + 2*mu2*mu3*sigma13 + 2*mu3**2*sigma11 - 2*mu3**2*sigma12],\n",
              "[ 2*mu1*sigma12 - 2*mu1*sigma13 - 2*mu1*sigma22 + 2*mu1*sigma23 - 2*mu2*sigma11 + 2*mu2*sigma12 + 2*mu2*sigma13 - 2*mu2*sigma23 + 2*mu3*sigma11 - 4*mu3*sigma12 + 2*mu3*sigma22,  2*mu1**2*sigma22 - 2*mu1**2*sigma23 - 4*mu1*mu2*sigma12 + 2*mu1*mu2*sigma13 + 2*mu1*mu2*sigma23 + 2*mu1*mu3*sigma12 - 2*mu1*mu3*sigma22 + 2*mu2**2*sigma11 - 2*mu2**2*sigma13 - 2*mu2*mu3*sigma11 + 2*mu2*mu3*sigma12]])"
            ],
            "text/latex": "$\\displaystyle \\left[\\begin{matrix}2 \\mu_{1} \\sigma_{22} - 4 \\mu_{1} \\sigma_{23} + 2 \\mu_{1} \\sigma_{33} - 2 \\mu_{2} \\sigma_{12} + 2 \\mu_{2} \\sigma_{13} + 2 \\mu_{2} \\sigma_{23} - 2 \\mu_{2} \\sigma_{33} + 2 \\mu_{3} \\sigma_{12} - 2 \\mu_{3} \\sigma_{13} - 2 \\mu_{3} \\sigma_{22} + 2 \\mu_{3} \\sigma_{23} & 2 \\mu_{1} \\mu_{2} \\sigma_{23} - 2 \\mu_{1} \\mu_{2} \\sigma_{33} - 2 \\mu_{1} \\mu_{3} \\sigma_{22} + 2 \\mu_{1} \\mu_{3} \\sigma_{23} - 2 \\mu_{2}^{2} \\sigma_{13} + 2 \\mu_{2}^{2} \\sigma_{33} + 2 \\mu_{2} \\mu_{3} \\sigma_{12} + 2 \\mu_{2} \\mu_{3} \\sigma_{13} - 4 \\mu_{2} \\mu_{3} \\sigma_{23} - 2 \\mu_{3}^{2} \\sigma_{12} + 2 \\mu_{3}^{2} \\sigma_{22}\\\\- 2 \\mu_{1} \\sigma_{12} + 2 \\mu_{1} \\sigma_{13} + 2 \\mu_{1} \\sigma_{23} - 2 \\mu_{1} \\sigma_{33} + 2 \\mu_{2} \\sigma_{11} - 4 \\mu_{2} \\sigma_{13} + 2 \\mu_{2} \\sigma_{33} - 2 \\mu_{3} \\sigma_{11} + 2 \\mu_{3} \\sigma_{12} + 2 \\mu_{3} \\sigma_{13} - 2 \\mu_{3} \\sigma_{23} & - 2 \\mu_{1}^{2} \\sigma_{23} + 2 \\mu_{1}^{2} \\sigma_{33} + 2 \\mu_{1} \\mu_{2} \\sigma_{13} - 2 \\mu_{1} \\mu_{2} \\sigma_{33} + 2 \\mu_{1} \\mu_{3} \\sigma_{12} - 4 \\mu_{1} \\mu_{3} \\sigma_{13} + 2 \\mu_{1} \\mu_{3} \\sigma_{23} - 2 \\mu_{2} \\mu_{3} \\sigma_{11} + 2 \\mu_{2} \\mu_{3} \\sigma_{13} + 2 \\mu_{3}^{2} \\sigma_{11} - 2 \\mu_{3}^{2} \\sigma_{12}\\\\2 \\mu_{1} \\sigma_{12} - 2 \\mu_{1} \\sigma_{13} - 2 \\mu_{1} \\sigma_{22} + 2 \\mu_{1} \\sigma_{23} - 2 \\mu_{2} \\sigma_{11} + 2 \\mu_{2} \\sigma_{12} + 2 \\mu_{2} \\sigma_{13} - 2 \\mu_{2} \\sigma_{23} + 2 \\mu_{3} \\sigma_{11} - 4 \\mu_{3} \\sigma_{12} + 2 \\mu_{3} \\sigma_{22} & 2 \\mu_{1}^{2} \\sigma_{22} - 2 \\mu_{1}^{2} \\sigma_{23} - 4 \\mu_{1} \\mu_{2} \\sigma_{12} + 2 \\mu_{1} \\mu_{2} \\sigma_{13} + 2 \\mu_{1} \\mu_{2} \\sigma_{23} + 2 \\mu_{1} \\mu_{3} \\sigma_{12} - 2 \\mu_{1} \\mu_{3} \\sigma_{22} + 2 \\mu_{2}^{2} \\sigma_{11} - 2 \\mu_{2}^{2} \\sigma_{13} - 2 \\mu_{2} \\mu_{3} \\sigma_{11} + 2 \\mu_{2} \\mu_{3} \\sigma_{12}\\end{matrix}\\right]$"
          },
          "metadata": {},
          "execution_count": 14
        }
      ]
    },
    {
      "cell_type": "code",
      "source": [],
      "metadata": {
        "id": "ELvDO5dvP8gz"
      },
      "id": "ELvDO5dvP8gz",
      "execution_count": null,
      "outputs": []
    },
    {
      "cell_type": "code",
      "source": [
        "temp2 = A**(-1)*b* det(A)\n",
        "factor(simplify(temp2))"
      ],
      "metadata": {
        "colab": {
          "base_uri": "https://localhost:8080/",
          "height": 139
        },
        "id": "ewyKlHlCTxgq",
        "outputId": "dcfe6287-1c00-43f4-9b79-395d86ac56e2"
      },
      "id": "ewyKlHlCTxgq",
      "execution_count": null,
      "outputs": [
        {
          "output_type": "execute_result",
          "data": {
            "text/plain": [
              "Matrix([\n",
              "[                                                                                                                                                                                                                                                                                                                                    2*mu*(mu1*sigma22 - 2*mu1*sigma23 + mu1*sigma33 - mu2*sigma12 + mu2*sigma13 + mu2*sigma23 - mu2*sigma33 + mu3*sigma12 - mu3*sigma13 - mu3*sigma22 + mu3*sigma23) + 2*mu1*mu2*sigma23 - 2*mu1*mu2*sigma33 - 2*mu1*mu3*sigma22 + 2*mu1*mu3*sigma23 - 2*mu2**2*sigma13 + 2*mu2**2*sigma33 + 2*mu2*mu3*sigma12 + 2*mu2*mu3*sigma13 - 4*mu2*mu3*sigma23 - 2*mu3**2*sigma12 + 2*mu3**2*sigma22],\n",
              "[                                                                                                                                                                                                                                                                                                                                   2*mu*(-mu1*sigma12 + mu1*sigma13 + mu1*sigma23 - mu1*sigma33 + mu2*sigma11 - 2*mu2*sigma13 + mu2*sigma33 - mu3*sigma11 + mu3*sigma12 + mu3*sigma13 - mu3*sigma23) - 2*mu1**2*sigma23 + 2*mu1**2*sigma33 + 2*mu1*mu2*sigma13 - 2*mu1*mu2*sigma33 + 2*mu1*mu3*sigma12 - 4*mu1*mu3*sigma13 + 2*mu1*mu3*sigma23 - 2*mu2*mu3*sigma11 + 2*mu2*mu3*sigma13 + 2*mu3**2*sigma11 - 2*mu3**2*sigma12],\n",
              "[                                                                                                                                                                                                                                                                                                                                    2*mu*(mu1*sigma12 - mu1*sigma13 - mu1*sigma22 + mu1*sigma23 - mu2*sigma11 + mu2*sigma12 + mu2*sigma13 - mu2*sigma23 + mu3*sigma11 - 2*mu3*sigma12 + mu3*sigma22) + 2*mu1**2*sigma22 - 2*mu1**2*sigma23 - 4*mu1*mu2*sigma12 + 2*mu1*mu2*sigma13 + 2*mu1*mu2*sigma23 + 2*mu1*mu3*sigma12 - 2*mu1*mu3*sigma22 + 2*mu2**2*sigma11 - 2*mu2**2*sigma13 - 2*mu2*mu3*sigma11 + 2*mu2*mu3*sigma12],\n",
              "[                                                                 -4*mu*(sigma11*sigma22 - 2*sigma11*sigma23 + sigma11*sigma33 - sigma12**2 + 2*sigma12*sigma13 + 2*sigma12*sigma23 - 2*sigma12*sigma33 - sigma13**2 - 2*sigma13*sigma22 + 2*sigma13*sigma23 + sigma22*sigma33 - sigma23**2) + 4*mu1*sigma12*sigma23 - 4*mu1*sigma12*sigma33 - 4*mu1*sigma13*sigma22 + 4*mu1*sigma13*sigma23 + 4*mu1*sigma22*sigma33 - 4*mu1*sigma23**2 - 4*mu2*sigma11*sigma23 + 4*mu2*sigma11*sigma33 + 4*mu2*sigma12*sigma13 - 4*mu2*sigma12*sigma33 - 4*mu2*sigma13**2 + 4*mu2*sigma13*sigma23 + 4*mu3*sigma11*sigma22 - 4*mu3*sigma11*sigma23 - 4*mu3*sigma12**2 + 4*mu3*sigma12*sigma13 + 4*mu3*sigma12*sigma23 - 4*mu3*sigma13*sigma22],\n",
              "[4*mu*(mu1*sigma12*sigma23 - mu1*sigma12*sigma33 - mu1*sigma13*sigma22 + mu1*sigma13*sigma23 + mu1*sigma22*sigma33 - mu1*sigma23**2 - mu2*sigma11*sigma23 + mu2*sigma11*sigma33 + mu2*sigma12*sigma13 - mu2*sigma12*sigma33 - mu2*sigma13**2 + mu2*sigma13*sigma23 + mu3*sigma11*sigma22 - mu3*sigma11*sigma23 - mu3*sigma12**2 + mu3*sigma12*sigma13 + mu3*sigma12*sigma23 - mu3*sigma13*sigma22) - 4*mu1**2*sigma22*sigma33 + 4*mu1**2*sigma23**2 + 8*mu1*mu2*sigma12*sigma33 - 8*mu1*mu2*sigma13*sigma23 - 8*mu1*mu3*sigma12*sigma23 + 8*mu1*mu3*sigma13*sigma22 - 4*mu2**2*sigma11*sigma33 + 4*mu2**2*sigma13**2 + 8*mu2*mu3*sigma11*sigma23 - 8*mu2*mu3*sigma12*sigma13 - 4*mu3**2*sigma11*sigma22 + 4*mu3**2*sigma12**2]])"
            ],
            "text/latex": "$\\displaystyle \\left[\\begin{matrix}2 \\mu \\left(\\mu_{1} \\sigma_{22} - 2 \\mu_{1} \\sigma_{23} + \\mu_{1} \\sigma_{33} - \\mu_{2} \\sigma_{12} + \\mu_{2} \\sigma_{13} + \\mu_{2} \\sigma_{23} - \\mu_{2} \\sigma_{33} + \\mu_{3} \\sigma_{12} - \\mu_{3} \\sigma_{13} - \\mu_{3} \\sigma_{22} + \\mu_{3} \\sigma_{23}\\right) + 2 \\mu_{1} \\mu_{2} \\sigma_{23} - 2 \\mu_{1} \\mu_{2} \\sigma_{33} - 2 \\mu_{1} \\mu_{3} \\sigma_{22} + 2 \\mu_{1} \\mu_{3} \\sigma_{23} - 2 \\mu_{2}^{2} \\sigma_{13} + 2 \\mu_{2}^{2} \\sigma_{33} + 2 \\mu_{2} \\mu_{3} \\sigma_{12} + 2 \\mu_{2} \\mu_{3} \\sigma_{13} - 4 \\mu_{2} \\mu_{3} \\sigma_{23} - 2 \\mu_{3}^{2} \\sigma_{12} + 2 \\mu_{3}^{2} \\sigma_{22}\\\\2 \\mu \\left(- \\mu_{1} \\sigma_{12} + \\mu_{1} \\sigma_{13} + \\mu_{1} \\sigma_{23} - \\mu_{1} \\sigma_{33} + \\mu_{2} \\sigma_{11} - 2 \\mu_{2} \\sigma_{13} + \\mu_{2} \\sigma_{33} - \\mu_{3} \\sigma_{11} + \\mu_{3} \\sigma_{12} + \\mu_{3} \\sigma_{13} - \\mu_{3} \\sigma_{23}\\right) - 2 \\mu_{1}^{2} \\sigma_{23} + 2 \\mu_{1}^{2} \\sigma_{33} + 2 \\mu_{1} \\mu_{2} \\sigma_{13} - 2 \\mu_{1} \\mu_{2} \\sigma_{33} + 2 \\mu_{1} \\mu_{3} \\sigma_{12} - 4 \\mu_{1} \\mu_{3} \\sigma_{13} + 2 \\mu_{1} \\mu_{3} \\sigma_{23} - 2 \\mu_{2} \\mu_{3} \\sigma_{11} + 2 \\mu_{2} \\mu_{3} \\sigma_{13} + 2 \\mu_{3}^{2} \\sigma_{11} - 2 \\mu_{3}^{2} \\sigma_{12}\\\\2 \\mu \\left(\\mu_{1} \\sigma_{12} - \\mu_{1} \\sigma_{13} - \\mu_{1} \\sigma_{22} + \\mu_{1} \\sigma_{23} - \\mu_{2} \\sigma_{11} + \\mu_{2} \\sigma_{12} + \\mu_{2} \\sigma_{13} - \\mu_{2} \\sigma_{23} + \\mu_{3} \\sigma_{11} - 2 \\mu_{3} \\sigma_{12} + \\mu_{3} \\sigma_{22}\\right) + 2 \\mu_{1}^{2} \\sigma_{22} - 2 \\mu_{1}^{2} \\sigma_{23} - 4 \\mu_{1} \\mu_{2} \\sigma_{12} + 2 \\mu_{1} \\mu_{2} \\sigma_{13} + 2 \\mu_{1} \\mu_{2} \\sigma_{23} + 2 \\mu_{1} \\mu_{3} \\sigma_{12} - 2 \\mu_{1} \\mu_{3} \\sigma_{22} + 2 \\mu_{2}^{2} \\sigma_{11} - 2 \\mu_{2}^{2} \\sigma_{13} - 2 \\mu_{2} \\mu_{3} \\sigma_{11} + 2 \\mu_{2} \\mu_{3} \\sigma_{12}\\\\- 4 \\mu \\left(\\sigma_{11} \\sigma_{22} - 2 \\sigma_{11} \\sigma_{23} + \\sigma_{11} \\sigma_{33} - \\sigma_{12}^{2} + 2 \\sigma_{12} \\sigma_{13} + 2 \\sigma_{12} \\sigma_{23} - 2 \\sigma_{12} \\sigma_{33} - \\sigma_{13}^{2} - 2 \\sigma_{13} \\sigma_{22} + 2 \\sigma_{13} \\sigma_{23} + \\sigma_{22} \\sigma_{33} - \\sigma_{23}^{2}\\right) + 4 \\mu_{1} \\sigma_{12} \\sigma_{23} - 4 \\mu_{1} \\sigma_{12} \\sigma_{33} - 4 \\mu_{1} \\sigma_{13} \\sigma_{22} + 4 \\mu_{1} \\sigma_{13} \\sigma_{23} + 4 \\mu_{1} \\sigma_{22} \\sigma_{33} - 4 \\mu_{1} \\sigma_{23}^{2} - 4 \\mu_{2} \\sigma_{11} \\sigma_{23} + 4 \\mu_{2} \\sigma_{11} \\sigma_{33} + 4 \\mu_{2} \\sigma_{12} \\sigma_{13} - 4 \\mu_{2} \\sigma_{12} \\sigma_{33} - 4 \\mu_{2} \\sigma_{13}^{2} + 4 \\mu_{2} \\sigma_{13} \\sigma_{23} + 4 \\mu_{3} \\sigma_{11} \\sigma_{22} - 4 \\mu_{3} \\sigma_{11} \\sigma_{23} - 4 \\mu_{3} \\sigma_{12}^{2} + 4 \\mu_{3} \\sigma_{12} \\sigma_{13} + 4 \\mu_{3} \\sigma_{12} \\sigma_{23} - 4 \\mu_{3} \\sigma_{13} \\sigma_{22}\\\\4 \\mu \\left(\\mu_{1} \\sigma_{12} \\sigma_{23} - \\mu_{1} \\sigma_{12} \\sigma_{33} - \\mu_{1} \\sigma_{13} \\sigma_{22} + \\mu_{1} \\sigma_{13} \\sigma_{23} + \\mu_{1} \\sigma_{22} \\sigma_{33} - \\mu_{1} \\sigma_{23}^{2} - \\mu_{2} \\sigma_{11} \\sigma_{23} + \\mu_{2} \\sigma_{11} \\sigma_{33} + \\mu_{2} \\sigma_{12} \\sigma_{13} - \\mu_{2} \\sigma_{12} \\sigma_{33} - \\mu_{2} \\sigma_{13}^{2} + \\mu_{2} \\sigma_{13} \\sigma_{23} + \\mu_{3} \\sigma_{11} \\sigma_{22} - \\mu_{3} \\sigma_{11} \\sigma_{23} - \\mu_{3} \\sigma_{12}^{2} + \\mu_{3} \\sigma_{12} \\sigma_{13} + \\mu_{3} \\sigma_{12} \\sigma_{23} - \\mu_{3} \\sigma_{13} \\sigma_{22}\\right) - 4 \\mu_{1}^{2} \\sigma_{22} \\sigma_{33} + 4 \\mu_{1}^{2} \\sigma_{23}^{2} + 8 \\mu_{1} \\mu_{2} \\sigma_{12} \\sigma_{33} - 8 \\mu_{1} \\mu_{2} \\sigma_{13} \\sigma_{23} - 8 \\mu_{1} \\mu_{3} \\sigma_{12} \\sigma_{23} + 8 \\mu_{1} \\mu_{3} \\sigma_{13} \\sigma_{22} - 4 \\mu_{2}^{2} \\sigma_{11} \\sigma_{33} + 4 \\mu_{2}^{2} \\sigma_{13}^{2} + 8 \\mu_{2} \\mu_{3} \\sigma_{11} \\sigma_{23} - 8 \\mu_{2} \\mu_{3} \\sigma_{12} \\sigma_{13} - 4 \\mu_{3}^{2} \\sigma_{11} \\sigma_{22} + 4 \\mu_{3}^{2} \\sigma_{12}^{2}\\end{matrix}\\right]$"
          },
          "metadata": {},
          "execution_count": 5
        }
      ]
    },
    {
      "cell_type": "code",
      "source": [
        "factor(simplify(temp2))"
      ],
      "metadata": {
        "colab": {
          "base_uri": "https://localhost:8080/",
          "height": 139
        },
        "id": "YRjzaWBvmofI",
        "outputId": "9f9b69ad-a7b0-43a0-e7b3-14210013bf0e"
      },
      "id": "YRjzaWBvmofI",
      "execution_count": null,
      "outputs": [
        {
          "output_type": "execute_result",
          "data": {
            "text/plain": [
              "Matrix([\n",
              "[                                                                                                                                                                                                                                                                                                                                    2*mu*(mu1*sigma22 - 2*mu1*sigma23 + mu1*sigma33 - mu2*sigma12 + mu2*sigma13 + mu2*sigma23 - mu2*sigma33 + mu3*sigma12 - mu3*sigma13 - mu3*sigma22 + mu3*sigma23) + 2*mu1*mu2*sigma23 - 2*mu1*mu2*sigma33 - 2*mu1*mu3*sigma22 + 2*mu1*mu3*sigma23 - 2*mu2**2*sigma13 + 2*mu2**2*sigma33 + 2*mu2*mu3*sigma12 + 2*mu2*mu3*sigma13 - 4*mu2*mu3*sigma23 - 2*mu3**2*sigma12 + 2*mu3**2*sigma22],\n",
              "[                                                                                                                                                                                                                                                                                                                                   2*mu*(-mu1*sigma12 + mu1*sigma13 + mu1*sigma23 - mu1*sigma33 + mu2*sigma11 - 2*mu2*sigma13 + mu2*sigma33 - mu3*sigma11 + mu3*sigma12 + mu3*sigma13 - mu3*sigma23) - 2*mu1**2*sigma23 + 2*mu1**2*sigma33 + 2*mu1*mu2*sigma13 - 2*mu1*mu2*sigma33 + 2*mu1*mu3*sigma12 - 4*mu1*mu3*sigma13 + 2*mu1*mu3*sigma23 - 2*mu2*mu3*sigma11 + 2*mu2*mu3*sigma13 + 2*mu3**2*sigma11 - 2*mu3**2*sigma12],\n",
              "[                                                                                                                                                                                                                                                                                                                                    2*mu*(mu1*sigma12 - mu1*sigma13 - mu1*sigma22 + mu1*sigma23 - mu2*sigma11 + mu2*sigma12 + mu2*sigma13 - mu2*sigma23 + mu3*sigma11 - 2*mu3*sigma12 + mu3*sigma22) + 2*mu1**2*sigma22 - 2*mu1**2*sigma23 - 4*mu1*mu2*sigma12 + 2*mu1*mu2*sigma13 + 2*mu1*mu2*sigma23 + 2*mu1*mu3*sigma12 - 2*mu1*mu3*sigma22 + 2*mu2**2*sigma11 - 2*mu2**2*sigma13 - 2*mu2*mu3*sigma11 + 2*mu2*mu3*sigma12],\n",
              "[                                                                 -4*mu*(sigma11*sigma22 - 2*sigma11*sigma23 + sigma11*sigma33 - sigma12**2 + 2*sigma12*sigma13 + 2*sigma12*sigma23 - 2*sigma12*sigma33 - sigma13**2 - 2*sigma13*sigma22 + 2*sigma13*sigma23 + sigma22*sigma33 - sigma23**2) + 4*mu1*sigma12*sigma23 - 4*mu1*sigma12*sigma33 - 4*mu1*sigma13*sigma22 + 4*mu1*sigma13*sigma23 + 4*mu1*sigma22*sigma33 - 4*mu1*sigma23**2 - 4*mu2*sigma11*sigma23 + 4*mu2*sigma11*sigma33 + 4*mu2*sigma12*sigma13 - 4*mu2*sigma12*sigma33 - 4*mu2*sigma13**2 + 4*mu2*sigma13*sigma23 + 4*mu3*sigma11*sigma22 - 4*mu3*sigma11*sigma23 - 4*mu3*sigma12**2 + 4*mu3*sigma12*sigma13 + 4*mu3*sigma12*sigma23 - 4*mu3*sigma13*sigma22],\n",
              "[4*mu*(mu1*sigma12*sigma23 - mu1*sigma12*sigma33 - mu1*sigma13*sigma22 + mu1*sigma13*sigma23 + mu1*sigma22*sigma33 - mu1*sigma23**2 - mu2*sigma11*sigma23 + mu2*sigma11*sigma33 + mu2*sigma12*sigma13 - mu2*sigma12*sigma33 - mu2*sigma13**2 + mu2*sigma13*sigma23 + mu3*sigma11*sigma22 - mu3*sigma11*sigma23 - mu3*sigma12**2 + mu3*sigma12*sigma13 + mu3*sigma12*sigma23 - mu3*sigma13*sigma22) - 4*mu1**2*sigma22*sigma33 + 4*mu1**2*sigma23**2 + 8*mu1*mu2*sigma12*sigma33 - 8*mu1*mu2*sigma13*sigma23 - 8*mu1*mu3*sigma12*sigma23 + 8*mu1*mu3*sigma13*sigma22 - 4*mu2**2*sigma11*sigma33 + 4*mu2**2*sigma13**2 + 8*mu2*mu3*sigma11*sigma23 - 8*mu2*mu3*sigma12*sigma13 - 4*mu3**2*sigma11*sigma22 + 4*mu3**2*sigma12**2]])"
            ],
            "text/latex": "$\\displaystyle \\left[\\begin{matrix}2 \\mu \\left(\\mu_{1} \\sigma_{22} - 2 \\mu_{1} \\sigma_{23} + \\mu_{1} \\sigma_{33} - \\mu_{2} \\sigma_{12} + \\mu_{2} \\sigma_{13} + \\mu_{2} \\sigma_{23} - \\mu_{2} \\sigma_{33} + \\mu_{3} \\sigma_{12} - \\mu_{3} \\sigma_{13} - \\mu_{3} \\sigma_{22} + \\mu_{3} \\sigma_{23}\\right) + 2 \\mu_{1} \\mu_{2} \\sigma_{23} - 2 \\mu_{1} \\mu_{2} \\sigma_{33} - 2 \\mu_{1} \\mu_{3} \\sigma_{22} + 2 \\mu_{1} \\mu_{3} \\sigma_{23} - 2 \\mu_{2}^{2} \\sigma_{13} + 2 \\mu_{2}^{2} \\sigma_{33} + 2 \\mu_{2} \\mu_{3} \\sigma_{12} + 2 \\mu_{2} \\mu_{3} \\sigma_{13} - 4 \\mu_{2} \\mu_{3} \\sigma_{23} - 2 \\mu_{3}^{2} \\sigma_{12} + 2 \\mu_{3}^{2} \\sigma_{22}\\\\2 \\mu \\left(- \\mu_{1} \\sigma_{12} + \\mu_{1} \\sigma_{13} + \\mu_{1} \\sigma_{23} - \\mu_{1} \\sigma_{33} + \\mu_{2} \\sigma_{11} - 2 \\mu_{2} \\sigma_{13} + \\mu_{2} \\sigma_{33} - \\mu_{3} \\sigma_{11} + \\mu_{3} \\sigma_{12} + \\mu_{3} \\sigma_{13} - \\mu_{3} \\sigma_{23}\\right) - 2 \\mu_{1}^{2} \\sigma_{23} + 2 \\mu_{1}^{2} \\sigma_{33} + 2 \\mu_{1} \\mu_{2} \\sigma_{13} - 2 \\mu_{1} \\mu_{2} \\sigma_{33} + 2 \\mu_{1} \\mu_{3} \\sigma_{12} - 4 \\mu_{1} \\mu_{3} \\sigma_{13} + 2 \\mu_{1} \\mu_{3} \\sigma_{23} - 2 \\mu_{2} \\mu_{3} \\sigma_{11} + 2 \\mu_{2} \\mu_{3} \\sigma_{13} + 2 \\mu_{3}^{2} \\sigma_{11} - 2 \\mu_{3}^{2} \\sigma_{12}\\\\2 \\mu \\left(\\mu_{1} \\sigma_{12} - \\mu_{1} \\sigma_{13} - \\mu_{1} \\sigma_{22} + \\mu_{1} \\sigma_{23} - \\mu_{2} \\sigma_{11} + \\mu_{2} \\sigma_{12} + \\mu_{2} \\sigma_{13} - \\mu_{2} \\sigma_{23} + \\mu_{3} \\sigma_{11} - 2 \\mu_{3} \\sigma_{12} + \\mu_{3} \\sigma_{22}\\right) + 2 \\mu_{1}^{2} \\sigma_{22} - 2 \\mu_{1}^{2} \\sigma_{23} - 4 \\mu_{1} \\mu_{2} \\sigma_{12} + 2 \\mu_{1} \\mu_{2} \\sigma_{13} + 2 \\mu_{1} \\mu_{2} \\sigma_{23} + 2 \\mu_{1} \\mu_{3} \\sigma_{12} - 2 \\mu_{1} \\mu_{3} \\sigma_{22} + 2 \\mu_{2}^{2} \\sigma_{11} - 2 \\mu_{2}^{2} \\sigma_{13} - 2 \\mu_{2} \\mu_{3} \\sigma_{11} + 2 \\mu_{2} \\mu_{3} \\sigma_{12}\\\\- 4 \\mu \\left(\\sigma_{11} \\sigma_{22} - 2 \\sigma_{11} \\sigma_{23} + \\sigma_{11} \\sigma_{33} - \\sigma_{12}^{2} + 2 \\sigma_{12} \\sigma_{13} + 2 \\sigma_{12} \\sigma_{23} - 2 \\sigma_{12} \\sigma_{33} - \\sigma_{13}^{2} - 2 \\sigma_{13} \\sigma_{22} + 2 \\sigma_{13} \\sigma_{23} + \\sigma_{22} \\sigma_{33} - \\sigma_{23}^{2}\\right) + 4 \\mu_{1} \\sigma_{12} \\sigma_{23} - 4 \\mu_{1} \\sigma_{12} \\sigma_{33} - 4 \\mu_{1} \\sigma_{13} \\sigma_{22} + 4 \\mu_{1} \\sigma_{13} \\sigma_{23} + 4 \\mu_{1} \\sigma_{22} \\sigma_{33} - 4 \\mu_{1} \\sigma_{23}^{2} - 4 \\mu_{2} \\sigma_{11} \\sigma_{23} + 4 \\mu_{2} \\sigma_{11} \\sigma_{33} + 4 \\mu_{2} \\sigma_{12} \\sigma_{13} - 4 \\mu_{2} \\sigma_{12} \\sigma_{33} - 4 \\mu_{2} \\sigma_{13}^{2} + 4 \\mu_{2} \\sigma_{13} \\sigma_{23} + 4 \\mu_{3} \\sigma_{11} \\sigma_{22} - 4 \\mu_{3} \\sigma_{11} \\sigma_{23} - 4 \\mu_{3} \\sigma_{12}^{2} + 4 \\mu_{3} \\sigma_{12} \\sigma_{13} + 4 \\mu_{3} \\sigma_{12} \\sigma_{23} - 4 \\mu_{3} \\sigma_{13} \\sigma_{22}\\\\4 \\mu \\left(\\mu_{1} \\sigma_{12} \\sigma_{23} - \\mu_{1} \\sigma_{12} \\sigma_{33} - \\mu_{1} \\sigma_{13} \\sigma_{22} + \\mu_{1} \\sigma_{13} \\sigma_{23} + \\mu_{1} \\sigma_{22} \\sigma_{33} - \\mu_{1} \\sigma_{23}^{2} - \\mu_{2} \\sigma_{11} \\sigma_{23} + \\mu_{2} \\sigma_{11} \\sigma_{33} + \\mu_{2} \\sigma_{12} \\sigma_{13} - \\mu_{2} \\sigma_{12} \\sigma_{33} - \\mu_{2} \\sigma_{13}^{2} + \\mu_{2} \\sigma_{13} \\sigma_{23} + \\mu_{3} \\sigma_{11} \\sigma_{22} - \\mu_{3} \\sigma_{11} \\sigma_{23} - \\mu_{3} \\sigma_{12}^{2} + \\mu_{3} \\sigma_{12} \\sigma_{13} + \\mu_{3} \\sigma_{12} \\sigma_{23} - \\mu_{3} \\sigma_{13} \\sigma_{22}\\right) - 4 \\mu_{1}^{2} \\sigma_{22} \\sigma_{33} + 4 \\mu_{1}^{2} \\sigma_{23}^{2} + 8 \\mu_{1} \\mu_{2} \\sigma_{12} \\sigma_{33} - 8 \\mu_{1} \\mu_{2} \\sigma_{13} \\sigma_{23} - 8 \\mu_{1} \\mu_{3} \\sigma_{12} \\sigma_{23} + 8 \\mu_{1} \\mu_{3} \\sigma_{13} \\sigma_{22} - 4 \\mu_{2}^{2} \\sigma_{11} \\sigma_{33} + 4 \\mu_{2}^{2} \\sigma_{13}^{2} + 8 \\mu_{2} \\mu_{3} \\sigma_{11} \\sigma_{23} - 8 \\mu_{2} \\mu_{3} \\sigma_{12} \\sigma_{13} - 4 \\mu_{3}^{2} \\sigma_{11} \\sigma_{22} + 4 \\mu_{3}^{2} \\sigma_{12}^{2}\\end{matrix}\\right]$"
          },
          "metadata": {},
          "execution_count": 58
        }
      ]
    },
    {
      "cell_type": "code",
      "source": [
        "  Cov = Matrix([\n",
        "[2*sigma11, 2*sigma12, 2*sigma13],\n",
        "[2*sigma12, 2*sigma22, 2*sigma23],\n",
        "[2*sigma13, 2*sigma23, 2*sigma33],\n",
        "  ])\n",
        "Mu=Matrix(\n",
        "[\n",
        "    [mu2- mu3],\n",
        "       [mu3- mu1],\n",
        "       [mu1- mu2],\n",
        "]\n",
        ")"
      ],
      "metadata": {
        "id": "dEBeSnm6Ut3A"
      },
      "id": "dEBeSnm6Ut3A",
      "execution_count": null,
      "outputs": []
    },
    {
      "cell_type": "code",
      "source": [
        "Cov/2"
      ],
      "metadata": {
        "colab": {
          "base_uri": "https://localhost:8080/",
          "height": 78
        },
        "id": "XdnA37yPoV9A",
        "outputId": "3f1cd489-81b9-492b-b994-6f9cef5923b9"
      },
      "id": "XdnA37yPoV9A",
      "execution_count": null,
      "outputs": [
        {
          "output_type": "execute_result",
          "data": {
            "text/plain": [
              "Matrix([\n",
              "[sigma11, sigma12, sigma13],\n",
              "[sigma12, sigma22, sigma23],\n",
              "[sigma13, sigma23, sigma33]])"
            ],
            "text/latex": "$\\displaystyle \\left[\\begin{matrix}\\sigma_{11} & \\sigma_{12} & \\sigma_{13}\\\\\\sigma_{12} & \\sigma_{22} & \\sigma_{23}\\\\\\sigma_{13} & \\sigma_{23} & \\sigma_{33}\\end{matrix}\\right]$"
          },
          "metadata": {},
          "execution_count": 29
        }
      ]
    },
    {
      "cell_type": "code",
      "source": [
        "Mu"
      ],
      "metadata": {
        "colab": {
          "base_uri": "https://localhost:8080/",
          "height": 78
        },
        "id": "kGsD_kqZlMuF",
        "outputId": "3173e746-577f-4e98-94cf-28fce5c4398c"
      },
      "id": "kGsD_kqZlMuF",
      "execution_count": null,
      "outputs": [
        {
          "output_type": "execute_result",
          "data": {
            "text/plain": [
              "Matrix([\n",
              "[ mu2 - mu3],\n",
              "[-mu1 + mu3],\n",
              "[ mu1 - mu2]])"
            ],
            "text/latex": "$\\displaystyle \\left[\\begin{matrix}\\mu_{2} - \\mu_{3}\\\\- \\mu_{1} + \\mu_{3}\\\\\\mu_{1} - \\mu_{2}\\end{matrix}\\right]$"
          },
          "metadata": {},
          "execution_count": 34
        }
      ]
    },
    {
      "cell_type": "code",
      "source": [
        "temp = (transpose(Mu) * Cov*Mu)[0] - det(A)"
      ],
      "metadata": {
        "id": "272zklxPlOwX"
      },
      "id": "272zklxPlOwX",
      "execution_count": null,
      "outputs": []
    },
    {
      "cell_type": "code",
      "source": [
        "temp"
      ],
      "metadata": {
        "colab": {
          "base_uri": "https://localhost:8080/",
          "height": 108
        },
        "id": "9cY4g4fCl6rI",
        "outputId": "4e809e11-1c6d-48b9-9ece-c9614cfffcf6"
      },
      "id": "9cY4g4fCl6rI",
      "execution_count": null,
      "outputs": [
        {
          "output_type": "execute_result",
          "data": {
            "text/plain": [
              "-2*mu1**2*sigma22 + 4*mu1**2*sigma23 - 2*mu1**2*sigma33 + 4*mu1*mu2*sigma12 - 4*mu1*mu2*sigma13 - 4*mu1*mu2*sigma23 + 4*mu1*mu2*sigma33 - 4*mu1*mu3*sigma12 + 4*mu1*mu3*sigma13 + 4*mu1*mu3*sigma22 - 4*mu1*mu3*sigma23 - 2*mu2**2*sigma11 + 4*mu2**2*sigma13 - 2*mu2**2*sigma33 + 4*mu2*mu3*sigma11 - 4*mu2*mu3*sigma12 - 4*mu2*mu3*sigma13 + 4*mu2*mu3*sigma23 - 2*mu3**2*sigma11 + 4*mu3**2*sigma12 - 2*mu3**2*sigma22 + (-mu1 + mu3)*(2*sigma12*(mu2 - mu3) + 2*sigma22*(-mu1 + mu3) + 2*sigma23*(mu1 - mu2)) + (mu1 - mu2)*(2*sigma13*(mu2 - mu3) + 2*sigma23*(-mu1 + mu3) + 2*sigma33*(mu1 - mu2)) + (mu2 - mu3)*(2*sigma11*(mu2 - mu3) + 2*sigma12*(-mu1 + mu3) + 2*sigma13*(mu1 - mu2))"
            ],
            "text/latex": "$\\displaystyle - 2 \\mu_{1}^{2} \\sigma_{22} + 4 \\mu_{1}^{2} \\sigma_{23} - 2 \\mu_{1}^{2} \\sigma_{33} + 4 \\mu_{1} \\mu_{2} \\sigma_{12} - 4 \\mu_{1} \\mu_{2} \\sigma_{13} - 4 \\mu_{1} \\mu_{2} \\sigma_{23} + 4 \\mu_{1} \\mu_{2} \\sigma_{33} - 4 \\mu_{1} \\mu_{3} \\sigma_{12} + 4 \\mu_{1} \\mu_{3} \\sigma_{13} + 4 \\mu_{1} \\mu_{3} \\sigma_{22} - 4 \\mu_{1} \\mu_{3} \\sigma_{23} - 2 \\mu_{2}^{2} \\sigma_{11} + 4 \\mu_{2}^{2} \\sigma_{13} - 2 \\mu_{2}^{2} \\sigma_{33} + 4 \\mu_{2} \\mu_{3} \\sigma_{11} - 4 \\mu_{2} \\mu_{3} \\sigma_{12} - 4 \\mu_{2} \\mu_{3} \\sigma_{13} + 4 \\mu_{2} \\mu_{3} \\sigma_{23} - 2 \\mu_{3}^{2} \\sigma_{11} + 4 \\mu_{3}^{2} \\sigma_{12} - 2 \\mu_{3}^{2} \\sigma_{22} + \\left(- \\mu_{1} + \\mu_{3}\\right) \\left(2 \\sigma_{12} \\left(\\mu_{2} - \\mu_{3}\\right) + 2 \\sigma_{22} \\left(- \\mu_{1} + \\mu_{3}\\right) + 2 \\sigma_{23} \\left(\\mu_{1} - \\mu_{2}\\right)\\right) + \\left(\\mu_{1} - \\mu_{2}\\right) \\left(2 \\sigma_{13} \\left(\\mu_{2} - \\mu_{3}\\right) + 2 \\sigma_{23} \\left(- \\mu_{1} + \\mu_{3}\\right) + 2 \\sigma_{33} \\left(\\mu_{1} - \\mu_{2}\\right)\\right) + \\left(\\mu_{2} - \\mu_{3}\\right) \\left(2 \\sigma_{11} \\left(\\mu_{2} - \\mu_{3}\\right) + 2 \\sigma_{12} \\left(- \\mu_{1} + \\mu_{3}\\right) + 2 \\sigma_{13} \\left(\\mu_{1} - \\mu_{2}\\right)\\right)$"
          },
          "metadata": {},
          "execution_count": 24
        }
      ]
    },
    {
      "cell_type": "code",
      "source": [
        "simplify(temp)"
      ],
      "metadata": {
        "colab": {
          "base_uri": "https://localhost:8080/",
          "height": 37
        },
        "id": "-GkkLTJZlgYR",
        "outputId": "c6b5156d-dc3a-477e-bda6-e2713e131e19"
      },
      "id": "-GkkLTJZlgYR",
      "execution_count": null,
      "outputs": [
        {
          "output_type": "execute_result",
          "data": {
            "text/plain": [
              "0"
            ],
            "text/latex": "$\\displaystyle 0$"
          },
          "metadata": {},
          "execution_count": 25
        }
      ]
    },
    {
      "cell_type": "code",
      "source": [
        "det(A)"
      ],
      "metadata": {
        "colab": {
          "base_uri": "https://localhost:8080/",
          "height": 62
        },
        "id": "UogdLjGBj4qa",
        "outputId": "d6d859e4-de86-4e2b-e94f-744659bbc98b"
      },
      "id": "UogdLjGBj4qa",
      "execution_count": null,
      "outputs": [
        {
          "output_type": "execute_result",
          "data": {
            "text/plain": [
              "2*mu1**2*sigma22 - 4*mu1**2*sigma23 + 2*mu1**2*sigma33 - 4*mu1*mu2*sigma12 + 4*mu1*mu2*sigma13 + 4*mu1*mu2*sigma23 - 4*mu1*mu2*sigma33 + 4*mu1*mu3*sigma12 - 4*mu1*mu3*sigma13 - 4*mu1*mu3*sigma22 + 4*mu1*mu3*sigma23 + 2*mu2**2*sigma11 - 4*mu2**2*sigma13 + 2*mu2**2*sigma33 - 4*mu2*mu3*sigma11 + 4*mu2*mu3*sigma12 + 4*mu2*mu3*sigma13 - 4*mu2*mu3*sigma23 + 2*mu3**2*sigma11 - 4*mu3**2*sigma12 + 2*mu3**2*sigma22"
            ],
            "text/latex": "$\\displaystyle 2 \\mu_{1}^{2} \\sigma_{22} - 4 \\mu_{1}^{2} \\sigma_{23} + 2 \\mu_{1}^{2} \\sigma_{33} - 4 \\mu_{1} \\mu_{2} \\sigma_{12} + 4 \\mu_{1} \\mu_{2} \\sigma_{13} + 4 \\mu_{1} \\mu_{2} \\sigma_{23} - 4 \\mu_{1} \\mu_{2} \\sigma_{33} + 4 \\mu_{1} \\mu_{3} \\sigma_{12} - 4 \\mu_{1} \\mu_{3} \\sigma_{13} - 4 \\mu_{1} \\mu_{3} \\sigma_{22} + 4 \\mu_{1} \\mu_{3} \\sigma_{23} + 2 \\mu_{2}^{2} \\sigma_{11} - 4 \\mu_{2}^{2} \\sigma_{13} + 2 \\mu_{2}^{2} \\sigma_{33} - 4 \\mu_{2} \\mu_{3} \\sigma_{11} + 4 \\mu_{2} \\mu_{3} \\sigma_{12} + 4 \\mu_{2} \\mu_{3} \\sigma_{13} - 4 \\mu_{2} \\mu_{3} \\sigma_{23} + 2 \\mu_{3}^{2} \\sigma_{11} - 4 \\mu_{3}^{2} \\sigma_{12} + 2 \\mu_{3}^{2} \\sigma_{22}$"
          },
          "metadata": {},
          "execution_count": 26
        }
      ]
    },
    {
      "cell_type": "markdown",
      "source": [],
      "metadata": {
        "id": "8VKgwW2ra7S2"
      },
      "id": "8VKgwW2ra7S2"
    },
    {
      "cell_type": "code",
      "source": [
        "expand((transpose(Mu) * Cov*Mu)[0])"
      ],
      "metadata": {
        "colab": {
          "base_uri": "https://localhost:8080/",
          "height": 62
        },
        "id": "KOF3ihMMl8qo",
        "outputId": "377699b9-6977-40c4-f44c-0448e865b2f6"
      },
      "id": "KOF3ihMMl8qo",
      "execution_count": null,
      "outputs": [
        {
          "output_type": "execute_result",
          "data": {
            "text/plain": [
              "2*mu1**2*sigma22 - 4*mu1**2*sigma23 + 2*mu1**2*sigma33 - 4*mu1*mu2*sigma12 + 4*mu1*mu2*sigma13 + 4*mu1*mu2*sigma23 - 4*mu1*mu2*sigma33 + 4*mu1*mu3*sigma12 - 4*mu1*mu3*sigma13 - 4*mu1*mu3*sigma22 + 4*mu1*mu3*sigma23 + 2*mu2**2*sigma11 - 4*mu2**2*sigma13 + 2*mu2**2*sigma33 - 4*mu2*mu3*sigma11 + 4*mu2*mu3*sigma12 + 4*mu2*mu3*sigma13 - 4*mu2*mu3*sigma23 + 2*mu3**2*sigma11 - 4*mu3**2*sigma12 + 2*mu3**2*sigma22"
            ],
            "text/latex": "$\\displaystyle 2 \\mu_{1}^{2} \\sigma_{22} - 4 \\mu_{1}^{2} \\sigma_{23} + 2 \\mu_{1}^{2} \\sigma_{33} - 4 \\mu_{1} \\mu_{2} \\sigma_{12} + 4 \\mu_{1} \\mu_{2} \\sigma_{13} + 4 \\mu_{1} \\mu_{2} \\sigma_{23} - 4 \\mu_{1} \\mu_{2} \\sigma_{33} + 4 \\mu_{1} \\mu_{3} \\sigma_{12} - 4 \\mu_{1} \\mu_{3} \\sigma_{13} - 4 \\mu_{1} \\mu_{3} \\sigma_{22} + 4 \\mu_{1} \\mu_{3} \\sigma_{23} + 2 \\mu_{2}^{2} \\sigma_{11} - 4 \\mu_{2}^{2} \\sigma_{13} + 2 \\mu_{2}^{2} \\sigma_{33} - 4 \\mu_{2} \\mu_{3} \\sigma_{11} + 4 \\mu_{2} \\mu_{3} \\sigma_{12} + 4 \\mu_{2} \\mu_{3} \\sigma_{13} - 4 \\mu_{2} \\mu_{3} \\sigma_{23} + 2 \\mu_{3}^{2} \\sigma_{11} - 4 \\mu_{3}^{2} \\sigma_{12} + 2 \\mu_{3}^{2} \\sigma_{22}$"
          },
          "metadata": {},
          "execution_count": 27
        }
      ]
    },
    {
      "cell_type": "code",
      "source": [
        "import matplotlib.pyplot as plt\n",
        "\n",
        "\n",
        "plt.scatter([1,2,3],[1,2,3])\n",
        "plt.plot([1,2,3],[1,2,3],)\n"
      ],
      "metadata": {
        "id": "8aYIvQyWmFWp",
        "outputId": "19cf5d82-9062-4a58-b0d0-523a090d6379",
        "colab": {
          "base_uri": "https://localhost:8080/",
          "height": 449
        }
      },
      "id": "8aYIvQyWmFWp",
      "execution_count": null,
      "outputs": [
        {
          "output_type": "execute_result",
          "data": {
            "text/plain": [
              "[<matplotlib.lines.Line2D at 0x7cd2e4bad9d0>]"
            ]
          },
          "metadata": {},
          "execution_count": 16
        },
        {
          "output_type": "display_data",
          "data": {
            "text/plain": [
              "<Figure size 640x480 with 1 Axes>"
            ],
            "image/png": "[encoded data removed]"
          },
          "metadata": {}
        }
      ]
    },
    {
      "cell_type": "code",
      "source": [],
      "metadata": {
        "id": "Vtvqf5eLrm6q"
      },
      "id": "Vtvqf5eLrm6q",
      "execution_count": null,
      "outputs": []
    }
  ],
  "metadata": {
    "kernelspec": {
      "display_name": "Python 3",
      "name": "python3"
    },
    "language_info": {
      "codemirror_mode": {
        "name": "ipython",
        "version": 3
      },
      "file_extension": ".py",
      "mimetype": "text/x-python",
      "name": "python",
      "nbconvert_exporter": "python",
      "pygments_lexer": "ipython3",
      "version": "3.11.5"
    },
    "colab": {
      "provenance": [],
      "gpuType": "T4"
    },
    "accelerator": "GPU"
  },
  "nbformat": 4,
  "nbformat_minor": 5
}